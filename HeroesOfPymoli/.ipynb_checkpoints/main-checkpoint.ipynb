{
 "cells": [
  {
   "cell_type": "code",
   "execution_count": 95,
   "id": "minor-genesis",
   "metadata": {},
   "outputs": [],
   "source": [
    "import pandas as pd\n",
    "import csv\n",
    "import numpy as np"
   ]
  },
  {
   "cell_type": "code",
   "execution_count": 96,
   "id": "adolescent-spanking",
   "metadata": {},
   "outputs": [],
   "source": [
    "purchase_file = \"Resources/purchase_data.csv\"\n",
    "purchase_df = pd.read_csv(purchase_file)"
   ]
  },
  {
   "cell_type": "code",
   "execution_count": 97,
   "id": "loved-ghost",
   "metadata": {},
   "outputs": [
    {
     "data": {
      "text/html": [
       "<div>\n",
       "<style scoped>\n",
       "    .dataframe tbody tr th:only-of-type {\n",
       "        vertical-align: middle;\n",
       "    }\n",
       "\n",
       "    .dataframe tbody tr th {\n",
       "        vertical-align: top;\n",
       "    }\n",
       "\n",
       "    .dataframe thead th {\n",
       "        text-align: right;\n",
       "    }\n",
       "</style>\n",
       "<table border=\"1\" class=\"dataframe\">\n",
       "  <thead>\n",
       "    <tr style=\"text-align: right;\">\n",
       "      <th></th>\n",
       "      <th>Purchase ID</th>\n",
       "      <th>SN</th>\n",
       "      <th>Age</th>\n",
       "      <th>Gender</th>\n",
       "      <th>Item ID</th>\n",
       "      <th>Item Name</th>\n",
       "      <th>Price</th>\n",
       "    </tr>\n",
       "  </thead>\n",
       "  <tbody>\n",
       "    <tr>\n",
       "      <th>0</th>\n",
       "      <td>0</td>\n",
       "      <td>Lisim78</td>\n",
       "      <td>20</td>\n",
       "      <td>Male</td>\n",
       "      <td>108</td>\n",
       "      <td>Extraction, Quickblade Of Trembling Hands</td>\n",
       "      <td>3.53</td>\n",
       "    </tr>\n",
       "    <tr>\n",
       "      <th>1</th>\n",
       "      <td>1</td>\n",
       "      <td>Lisovynya38</td>\n",
       "      <td>40</td>\n",
       "      <td>Male</td>\n",
       "      <td>143</td>\n",
       "      <td>Frenzied Scimitar</td>\n",
       "      <td>1.56</td>\n",
       "    </tr>\n",
       "    <tr>\n",
       "      <th>2</th>\n",
       "      <td>2</td>\n",
       "      <td>Ithergue48</td>\n",
       "      <td>24</td>\n",
       "      <td>Male</td>\n",
       "      <td>92</td>\n",
       "      <td>Final Critic</td>\n",
       "      <td>4.88</td>\n",
       "    </tr>\n",
       "    <tr>\n",
       "      <th>3</th>\n",
       "      <td>3</td>\n",
       "      <td>Chamassasya86</td>\n",
       "      <td>24</td>\n",
       "      <td>Male</td>\n",
       "      <td>100</td>\n",
       "      <td>Blindscythe</td>\n",
       "      <td>3.27</td>\n",
       "    </tr>\n",
       "    <tr>\n",
       "      <th>4</th>\n",
       "      <td>4</td>\n",
       "      <td>Iskosia90</td>\n",
       "      <td>23</td>\n",
       "      <td>Male</td>\n",
       "      <td>131</td>\n",
       "      <td>Fury</td>\n",
       "      <td>1.44</td>\n",
       "    </tr>\n",
       "  </tbody>\n",
       "</table>\n",
       "</div>"
      ],
      "text/plain": [
       "   Purchase ID             SN  Age Gender  Item ID  \\\n",
       "0            0        Lisim78   20   Male      108   \n",
       "1            1    Lisovynya38   40   Male      143   \n",
       "2            2     Ithergue48   24   Male       92   \n",
       "3            3  Chamassasya86   24   Male      100   \n",
       "4            4      Iskosia90   23   Male      131   \n",
       "\n",
       "                                   Item Name  Price  \n",
       "0  Extraction, Quickblade Of Trembling Hands   3.53  \n",
       "1                          Frenzied Scimitar   1.56  \n",
       "2                               Final Critic   4.88  \n",
       "3                                Blindscythe   3.27  \n",
       "4                                       Fury   1.44  "
      ]
     },
     "execution_count": 97,
     "metadata": {},
     "output_type": "execute_result"
    }
   ],
   "source": [
    "purchase_df.head()"
   ]
  },
  {
   "cell_type": "code",
   "execution_count": 98,
   "id": "continent-morris",
   "metadata": {},
   "outputs": [
    {
     "data": {
      "text/plain": [
       "Lisosia93      5\n",
       "Idastidru52    4\n",
       "Iral74         4\n",
       "Aelin32        3\n",
       "Iri67          3\n",
       "              ..\n",
       "Yarithrin84    1\n",
       "Farusrian86    1\n",
       "Assehoan67     1\n",
       "Lisiriya82     1\n",
       "Aillyrin83     1\n",
       "Name: SN, Length: 576, dtype: int64"
      ]
     },
     "execution_count": 98,
     "metadata": {},
     "output_type": "execute_result"
    }
   ],
   "source": [
    "#display overview of 'SN' column\n",
    "purchase_df['SN'].value_counts()"
   ]
  },
  {
   "cell_type": "code",
   "execution_count": 99,
   "id": "future-found",
   "metadata": {},
   "outputs": [
    {
     "name": "stdout",
     "output_type": "stream",
     "text": [
      "576\n"
     ]
    }
   ],
   "source": [
    "print(len(purchase_df['SN'].unique()))"
   ]
  },
  {
   "cell_type": "code",
   "execution_count": 100,
   "id": "hidden-newcastle",
   "metadata": {},
   "outputs": [],
   "source": [
    "tot_players = pd.Series(purchase_df['SN'].unique())"
   ]
  },
  {
   "cell_type": "code",
   "execution_count": 101,
   "id": "invalid-spanish",
   "metadata": {},
   "outputs": [
    {
     "name": "stdout",
     "output_type": "stream",
     "text": [
      "<class 'pandas.core.series.Series'>\n"
     ]
    }
   ],
   "source": [
    "print((type(tot_players)))"
   ]
  },
  {
   "cell_type": "code",
   "execution_count": 102,
   "id": "collectible-oriental",
   "metadata": {},
   "outputs": [
    {
     "data": {
      "text/plain": [
       "0          Lisim78\n",
       "1      Lisovynya38\n",
       "2       Ithergue48\n",
       "3    Chamassasya86\n",
       "4        Iskosia90\n",
       "dtype: object"
      ]
     },
     "execution_count": 102,
     "metadata": {},
     "output_type": "execute_result"
    }
   ],
   "source": [
    "tot_players.head()"
   ]
  },
  {
   "cell_type": "code",
   "execution_count": 103,
   "id": "catholic-sally",
   "metadata": {},
   "outputs": [],
   "source": [
    "purchase_group = purchase_df.groupby('SN')"
   ]
  },
  {
   "cell_type": "code",
   "execution_count": 104,
   "id": "neutral-tonight",
   "metadata": {},
   "outputs": [
    {
     "ename": "NameError",
     "evalue": "name 'purchase_mehpurchase_group' is not defined",
     "output_type": "error",
     "traceback": [
      "\u001b[0;31m---------------------------------------------------------------------------\u001b[0m",
      "\u001b[0;31mNameError\u001b[0m                                 Traceback (most recent call last)",
      "\u001b[0;32m<ipython-input-104-22acc03e6e87>\u001b[0m in \u001b[0;36m<module>\u001b[0;34m\u001b[0m\n\u001b[0;32m----> 1\u001b[0;31m \u001b[0mpurchase_mehpurchase_group\u001b[0m\u001b[0;34m\u001b[0m\u001b[0;34m\u001b[0m\u001b[0m\n\u001b[0m",
      "\u001b[0;31mNameError\u001b[0m: name 'purchase_mehpurchase_group' is not defined"
     ]
    }
   ],
   "source": [
    "purchase_mehpurchase_group"
   ]
  },
  {
   "cell_type": "code",
   "execution_count": null,
   "id": "published-library",
   "metadata": {},
   "outputs": [],
   "source": []
  },
  {
   "cell_type": "code",
   "execution_count": null,
   "id": "demographic-boutique",
   "metadata": {},
   "outputs": [],
   "source": [
    "#calculation to find number of unique items \n",
    "uniq_items=purchase_df['Item Name'].unique()"
   ]
  },
  {
   "cell_type": "code",
   "execution_count": null,
   "id": "disciplinary-phone",
   "metadata": {},
   "outputs": [],
   "source": [
    "print(uniq_items)"
   ]
  },
  {
   "cell_type": "code",
   "execution_count": null,
   "id": "precise-transcript",
   "metadata": {},
   "outputs": [],
   "source": [
    "print(type(uniq_items))"
   ]
  },
  {
   "cell_type": "code",
   "execution_count": null,
   "id": "challenging-sullivan",
   "metadata": {},
   "outputs": [],
   "source": [
    "#int variable that holds the number of unique items\n",
    "num_uniq_item = len(uniq_items)"
   ]
  },
  {
   "cell_type": "code",
   "execution_count": null,
   "id": "incorrect-lecture",
   "metadata": {},
   "outputs": [],
   "source": [
    "print(num_uniq_item)"
   ]
  },
  {
   "cell_type": "code",
   "execution_count": null,
   "id": "living-packet",
   "metadata": {},
   "outputs": [],
   "source": [
    "#calculation for average price \n",
    "ave_price_arr = purchase_df['Price'].mean()"
   ]
  },
  {
   "cell_type": "code",
   "execution_count": null,
   "id": "coordinate-biography",
   "metadata": {},
   "outputs": [],
   "source": [
    "print(ave_price_arr)"
   ]
  },
  {
   "cell_type": "code",
   "execution_count": null,
   "id": "western-compact",
   "metadata": {},
   "outputs": [],
   "source": [
    "print(type(ave_price_arr))"
   ]
  },
  {
   "cell_type": "code",
   "execution_count": null,
   "id": "featured-aircraft",
   "metadata": {},
   "outputs": [],
   "source": [
    "#calculation for number of purchases\n",
    "Purchases  = purchase_df[\"Purchase ID\"]"
   ]
  },
  {
   "cell_type": "code",
   "execution_count": null,
   "id": "twenty-fisher",
   "metadata": {},
   "outputs": [],
   "source": [
    "print(Purchases)"
   ]
  },
  {
   "cell_type": "code",
   "execution_count": null,
   "id": "associate-refund",
   "metadata": {},
   "outputs": [],
   "source": [
    "numPurchases = len(Purchases)"
   ]
  },
  {
   "cell_type": "code",
   "execution_count": null,
   "id": "married-wonder",
   "metadata": {},
   "outputs": [],
   "source": [
    "print(numPurchases)"
   ]
  },
  {
   "cell_type": "code",
   "execution_count": null,
   "id": "level-housing",
   "metadata": {},
   "outputs": [],
   "source": [
    "#calculation for total revenue \n",
    "totRev = purchase_df[\"Price\"].sum()"
   ]
  },
  {
   "cell_type": "code",
   "execution_count": null,
   "id": "critical-stylus",
   "metadata": {},
   "outputs": [],
   "source": [
    "print(totRev)"
   ]
  },
  {
   "cell_type": "code",
   "execution_count": null,
   "id": "informal-answer",
   "metadata": {},
   "outputs": [],
   "source": [
    "Rev = np.float64(0)\n",
    "pyRev = Rev.item()"
   ]
  },
  {
   "cell_type": "code",
   "execution_count": null,
   "id": "personal-intro",
   "metadata": {},
   "outputs": [],
   "source": [
    "#create dictionary of lists \n",
    "purchDict = {\"Number of Unique Items\":[num_uniq_item],\n",
    "             \"Average Price\": [ave_price_arr],\n",
    "             \"Number of Purchases\": [numPurchases],\n",
    "             \"Total Revenue\": [totRev]}\n"
   ]
  },
  {
   "cell_type": "code",
   "execution_count": null,
   "id": "smoking-effect",
   "metadata": {},
   "outputs": [],
   "source": [
    "#purch df number 2\n",
    "sum_df= pd.DataFrame(purchDict)"
   ]
  },
  {
   "cell_type": "code",
   "execution_count": 105,
   "id": "joined-official",
   "metadata": {},
   "outputs": [
    {
     "data": {
      "text/html": [
       "<div>\n",
       "<style scoped>\n",
       "    .dataframe tbody tr th:only-of-type {\n",
       "        vertical-align: middle;\n",
       "    }\n",
       "\n",
       "    .dataframe tbody tr th {\n",
       "        vertical-align: top;\n",
       "    }\n",
       "\n",
       "    .dataframe thead th {\n",
       "        text-align: right;\n",
       "    }\n",
       "</style>\n",
       "<table border=\"1\" class=\"dataframe\">\n",
       "  <thead>\n",
       "    <tr style=\"text-align: right;\">\n",
       "      <th></th>\n",
       "      <th>Number of Unique Items</th>\n",
       "      <th>Average Price</th>\n",
       "      <th>Number of Purchases</th>\n",
       "      <th>Total Revenue</th>\n",
       "    </tr>\n",
       "  </thead>\n",
       "  <tbody>\n",
       "    <tr>\n",
       "      <th>0</th>\n",
       "      <td>179</td>\n",
       "      <td>3.050987</td>\n",
       "      <td>780</td>\n",
       "      <td>2379.77</td>\n",
       "    </tr>\n",
       "  </tbody>\n",
       "</table>\n",
       "</div>"
      ],
      "text/plain": [
       "   Number of Unique Items  Average Price  Number of Purchases  Total Revenue\n",
       "0                     179       3.050987                  780        2379.77"
      ]
     },
     "execution_count": 105,
     "metadata": {},
     "output_type": "execute_result"
    }
   ],
   "source": [
    "sum_df"
   ]
  },
  {
   "cell_type": "code",
   "execution_count": null,
   "id": "finnish-resort",
   "metadata": {},
   "outputs": [],
   "source": []
  }
 ],
 "metadata": {
  "kernelspec": {
   "display_name": "Python [conda env:PythonData] *",
   "language": "python",
   "name": "conda-env-PythonData-py"
  },
  "language_info": {
   "codemirror_mode": {
    "name": "ipython",
    "version": 3
   },
   "file_extension": ".py",
   "mimetype": "text/x-python",
   "name": "python",
   "nbconvert_exporter": "python",
   "pygments_lexer": "ipython3",
   "version": "3.6.10"
  }
 },
 "nbformat": 4,
 "nbformat_minor": 5
}
