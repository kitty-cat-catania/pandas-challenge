{
 "cells": [
  {
   "cell_type": "code",
   "execution_count": 1,
   "id": "minor-genesis",
   "metadata": {},
   "outputs": [],
   "source": [
    "import pandas as pd\n",
    "import csv\n",
    "import numpy as np"
   ]
  },
  {
   "cell_type": "code",
   "execution_count": 2,
   "id": "adolescent-spanking",
   "metadata": {},
   "outputs": [],
   "source": [
    "purchase_file = \"Resources/purchase_data.csv\"\n",
    "purchase_df = pd.read_csv(purchase_file)"
   ]
  },
  {
   "cell_type": "code",
   "execution_count": 3,
   "id": "future-found",
   "metadata": {},
   "outputs": [
    {
     "name": "stdout",
     "output_type": "stream",
     "text": [
      "576\n"
     ]
    }
   ],
   "source": [
    "print(len(purchase_df['SN'].unique()))"
   ]
  },
  {
   "cell_type": "code",
   "execution_count": 4,
   "id": "hidden-newcastle",
   "metadata": {},
   "outputs": [],
   "source": [
    "tot_players = pd.Series(purchase_df['SN'].unique())"
   ]
  },
  {
   "cell_type": "code",
   "execution_count": 6,
   "id": "catholic-sally",
   "metadata": {},
   "outputs": [],
   "source": [
    "purchase_group = purchase_df.groupby('SN')"
   ]
  },
  {
   "cell_type": "code",
   "execution_count": 7,
   "id": "demographic-boutique",
   "metadata": {},
   "outputs": [],
   "source": [
    "#calculation to find number of unique items \n",
    "uniq_items=purchase_df['Item Name'].unique()"
   ]
  },
  {
   "cell_type": "code",
   "execution_count": 8,
   "id": "challenging-sullivan",
   "metadata": {},
   "outputs": [],
   "source": [
    "#int variable that holds the number of unique items\n",
    "num_uniq_item = len(uniq_items)"
   ]
  },
  {
   "cell_type": "code",
   "execution_count": 9,
   "id": "living-packet",
   "metadata": {},
   "outputs": [],
   "source": [
    "#calculation for average price \n",
    "ave_price_arr = purchase_df['Price'].mean()"
   ]
  },
  {
   "cell_type": "code",
   "execution_count": 10,
   "id": "featured-aircraft",
   "metadata": {},
   "outputs": [],
   "source": [
    "#calculation for number of purchases\n",
    "Purchases  = purchase_df[\"Purchase ID\"]"
   ]
  },
  {
   "cell_type": "code",
   "execution_count": 11,
   "id": "associate-refund",
   "metadata": {},
   "outputs": [],
   "source": [
    "numPurchases = len(Purchases)"
   ]
  },
  {
   "cell_type": "code",
   "execution_count": 12,
   "id": "level-housing",
   "metadata": {},
   "outputs": [],
   "source": [
    "#calculation for total revenue \n",
    "totRev = purchase_df[\"Price\"].sum()"
   ]
  },
  {
   "cell_type": "code",
   "execution_count": 13,
   "id": "informal-answer",
   "metadata": {},
   "outputs": [],
   "source": [
    "Rev = np.float64(0)\n",
    "pyRev = Rev.item()"
   ]
  },
  {
   "cell_type": "code",
   "execution_count": 14,
   "id": "personal-intro",
   "metadata": {},
   "outputs": [],
   "source": [
    "#create dictionary of lists \n",
    "purchDict = {\"Number of Unique Items\":[num_uniq_item],\n",
    "             \"Average Price\": [ave_price_arr],\n",
    "             \"Number of Purchases\": [numPurchases],\n",
    "             \"Total Revenue\": [totRev]}\n"
   ]
  },
  {
   "cell_type": "code",
   "execution_count": 15,
   "id": "smoking-effect",
   "metadata": {},
   "outputs": [],
   "source": [
    "#purch df number 2\n",
    "sum_df= pd.DataFrame(purchDict)"
   ]
  },
  {
   "cell_type": "code",
   "execution_count": 16,
   "id": "joined-official",
   "metadata": {},
   "outputs": [
    {
     "data": {
      "text/html": [
       "<div>\n",
       "<style scoped>\n",
       "    .dataframe tbody tr th:only-of-type {\n",
       "        vertical-align: middle;\n",
       "    }\n",
       "\n",
       "    .dataframe tbody tr th {\n",
       "        vertical-align: top;\n",
       "    }\n",
       "\n",
       "    .dataframe thead th {\n",
       "        text-align: right;\n",
       "    }\n",
       "</style>\n",
       "<table border=\"1\" class=\"dataframe\">\n",
       "  <thead>\n",
       "    <tr style=\"text-align: right;\">\n",
       "      <th></th>\n",
       "      <th>Number of Unique Items</th>\n",
       "      <th>Average Price</th>\n",
       "      <th>Number of Purchases</th>\n",
       "      <th>Total Revenue</th>\n",
       "    </tr>\n",
       "  </thead>\n",
       "  <tbody>\n",
       "    <tr>\n",
       "      <th>0</th>\n",
       "      <td>179</td>\n",
       "      <td>$3.05</td>\n",
       "      <td>780</td>\n",
       "      <td>$2,379.77</td>\n",
       "    </tr>\n",
       "  </tbody>\n",
       "</table>\n",
       "</div>"
      ],
      "text/plain": [
       "   Number of Unique Items Average Price  Number of Purchases Total Revenue\n",
       "0                     179         $3.05                  780     $2,379.77"
      ]
     },
     "execution_count": 16,
     "metadata": {},
     "output_type": "execute_result"
    }
   ],
   "source": [
    "sum_df_ff = sum_df.copy()\n",
    "sum_df_ff[\"Average Price\"]=sum_df[\"Average Price\"].astype(float).map(\n",
    "    \"${:,.2f}\".format)\n",
    "sum_df_ff[\"Total Revenue\"]=sum_df[\"Total Revenue\"].astype(float).map(\n",
    "    \"${:,.2f}\".format)\n",
    "sum_df_ff"
   ]
  },
  {
   "cell_type": "code",
   "execution_count": 17,
   "id": "finnish-resort",
   "metadata": {},
   "outputs": [],
   "source": [
    "#Gender Demographics \n"
   ]
  },
  {
   "cell_type": "code",
   "execution_count": 18,
   "id": "loaded-modern",
   "metadata": {},
   "outputs": [],
   "source": [
    "#calculation for total count of male players \n",
    "#only_male is new df with info from purchase_df but only males-- contains repeats\n",
    "only_male = purchase_df.loc[purchase_df[\"Gender\"]==\"Male\"]"
   ]
  },
  {
   "cell_type": "code",
   "execution_count": 19,
   "id": "loving-activity",
   "metadata": {},
   "outputs": [],
   "source": [
    "male_uniq = only_male['SN'].unique()"
   ]
  },
  {
   "cell_type": "code",
   "execution_count": 20,
   "id": "intermediate-necessity",
   "metadata": {},
   "outputs": [],
   "source": [
    "male_count=(len(male_uniq))"
   ]
  },
  {
   "cell_type": "code",
   "execution_count": 21,
   "id": "affiliated-parent",
   "metadata": {},
   "outputs": [],
   "source": [
    "#get the number of total players-- store as an 'int' variable\n",
    "num_players = len(tot_players)"
   ]
  },
  {
   "cell_type": "code",
   "execution_count": 22,
   "id": "confirmed-twist",
   "metadata": {},
   "outputs": [],
   "source": [
    "percent_male = (male_count/num_players)"
   ]
  },
  {
   "cell_type": "code",
   "execution_count": 23,
   "id": "absent-buffer",
   "metadata": {},
   "outputs": [],
   "source": [
    "#calculation for total count of female players \n",
    "#only_fem is new df with info from purchase_df but only females-- contains repeats\n",
    "only_fem = purchase_df.loc[purchase_df[\"Gender\"]==\"Female\"]"
   ]
  },
  {
   "cell_type": "code",
   "execution_count": 24,
   "id": "speaking-pharmaceutical",
   "metadata": {},
   "outputs": [],
   "source": [
    "#creates array of unique female SN\n",
    "fem_uniq = only_fem['SN'].unique()"
   ]
  },
  {
   "cell_type": "code",
   "execution_count": 25,
   "id": "excessive-ready",
   "metadata": {},
   "outputs": [],
   "source": [
    "fem_count = len(fem_uniq)"
   ]
  },
  {
   "cell_type": "code",
   "execution_count": 26,
   "id": "bright-japan",
   "metadata": {},
   "outputs": [],
   "source": [
    "#calculate percent of female players and store in variable called 'percent_fem'\n",
    "percent_fem = (fem_count/num_players)"
   ]
  },
  {
   "cell_type": "code",
   "execution_count": 27,
   "id": "appointed-journal",
   "metadata": {},
   "outputs": [
    {
     "data": {
      "text/plain": [
       "Male                     652\n",
       "Female                   113\n",
       "Other / Non-Disclosed     15\n",
       "Name: Gender, dtype: int64"
      ]
     },
     "execution_count": 27,
     "metadata": {},
     "output_type": "execute_result"
    }
   ],
   "source": [
    "purchase_df[\"Gender\"].value_counts()"
   ]
  },
  {
   "cell_type": "code",
   "execution_count": 28,
   "id": "everyday-judge",
   "metadata": {},
   "outputs": [],
   "source": [
    "only_other = purchase_df.loc[purchase_df[\"Gender\"]==\"Other / Non-Disclosed\"]"
   ]
  },
  {
   "cell_type": "code",
   "execution_count": 29,
   "id": "connected-institute",
   "metadata": {},
   "outputs": [],
   "source": [
    "other_uniq = only_other[\"SN\"].unique()"
   ]
  },
  {
   "cell_type": "code",
   "execution_count": 30,
   "id": "emerging-antenna",
   "metadata": {},
   "outputs": [],
   "source": [
    "other_count = len(other_uniq)"
   ]
  },
  {
   "cell_type": "code",
   "execution_count": 31,
   "id": "alleged-greenhouse",
   "metadata": {},
   "outputs": [],
   "source": [
    "percent_other = (other_count/num_players)"
   ]
  },
  {
   "cell_type": "code",
   "execution_count": 32,
   "id": "nervous-sentence",
   "metadata": {},
   "outputs": [],
   "source": [
    "#creation of lists\n",
    "counts = [male_count,fem_count,other_count]"
   ]
  },
  {
   "cell_type": "code",
   "execution_count": 33,
   "id": "sporting-little",
   "metadata": {},
   "outputs": [],
   "source": [
    "percents = [percent_male,percent_fem,percent_other]"
   ]
  },
  {
   "cell_type": "code",
   "execution_count": 34,
   "id": "subtle-thong",
   "metadata": {},
   "outputs": [],
   "source": [
    "#try with list of dictionaries \n"
   ]
  },
  {
   "cell_type": "code",
   "execution_count": 35,
   "id": "congressional-dancing",
   "metadata": {},
   "outputs": [],
   "source": [
    "#create list of dictionaries\n",
    "gender_list = [{\"Total Count\": male_count,\"Percentage of Players\": percent_male},\n",
    "               {\"Total Count\":fem_count,\"Percentage of Players\":percent_fem},\n",
    "               {\"Total Count\":other_count,\"Percentage of Players\":percent_other}]"
   ]
  },
  {
   "cell_type": "code",
   "execution_count": 36,
   "id": "present-hands",
   "metadata": {},
   "outputs": [],
   "source": [
    "gender_df2 = pd.DataFrame(gender_list)"
   ]
  },
  {
   "cell_type": "code",
   "execution_count": 37,
   "id": "restricted-event",
   "metadata": {},
   "outputs": [],
   "source": [
    "gender_df2.index=['Male','Female', 'Other / Nondisclosed']"
   ]
  },
  {
   "cell_type": "code",
   "execution_count": 38,
   "id": "cardiac-player",
   "metadata": {},
   "outputs": [
    {
     "data": {
      "text/html": [
       "<div>\n",
       "<style scoped>\n",
       "    .dataframe tbody tr th:only-of-type {\n",
       "        vertical-align: middle;\n",
       "    }\n",
       "\n",
       "    .dataframe tbody tr th {\n",
       "        vertical-align: top;\n",
       "    }\n",
       "\n",
       "    .dataframe thead th {\n",
       "        text-align: right;\n",
       "    }\n",
       "</style>\n",
       "<table border=\"1\" class=\"dataframe\">\n",
       "  <thead>\n",
       "    <tr style=\"text-align: right;\">\n",
       "      <th></th>\n",
       "      <th>Total Count</th>\n",
       "      <th>Percentage of Players</th>\n",
       "    </tr>\n",
       "  </thead>\n",
       "  <tbody>\n",
       "    <tr>\n",
       "      <th>Male</th>\n",
       "      <td>484</td>\n",
       "      <td>84.03%</td>\n",
       "    </tr>\n",
       "    <tr>\n",
       "      <th>Female</th>\n",
       "      <td>81</td>\n",
       "      <td>14.06%</td>\n",
       "    </tr>\n",
       "    <tr>\n",
       "      <th>Other / Nondisclosed</th>\n",
       "      <td>11</td>\n",
       "      <td>1.91%</td>\n",
       "    </tr>\n",
       "  </tbody>\n",
       "</table>\n",
       "</div>"
      ],
      "text/plain": [
       "                      Total Count Percentage of Players\n",
       "Male                          484                84.03%\n",
       "Female                         81                14.06%\n",
       "Other / Nondisclosed           11                 1.91%"
      ]
     },
     "execution_count": 38,
     "metadata": {},
     "output_type": "execute_result"
    }
   ],
   "source": [
    "gender_df2_ff =gender_df2.copy()\n",
    "gender_df2_ff[\"Percentage of Players\"]=gender_df2[\"Percentage of Players\"].astype(float).map(\n",
    "    \"{:.2%}\".format)\n",
    "gender_df2_ff"
   ]
  },
  {
   "cell_type": "code",
   "execution_count": 39,
   "id": "successful-chart",
   "metadata": {},
   "outputs": [],
   "source": [
    "#purchasing analysis (gender)\n"
   ]
  },
  {
   "cell_type": "code",
   "execution_count": 40,
   "id": "desirable-damages",
   "metadata": {},
   "outputs": [],
   "source": [
    "gender_group_pur = purchase_df.groupby(\"Gender\")"
   ]
  },
  {
   "cell_type": "code",
   "execution_count": 41,
   "id": "falling-baghdad",
   "metadata": {},
   "outputs": [],
   "source": [
    "gender_group_purchase = gender_group_pur[\"Gender\"].count()"
   ]
  },
  {
   "cell_type": "code",
   "execution_count": 42,
   "id": "relevant-vertical",
   "metadata": {},
   "outputs": [],
   "source": [
    "avg_price_gen = gender_group_pur[\"Price\"].mean()"
   ]
  },
  {
   "cell_type": "code",
   "execution_count": 43,
   "id": "heated-sympathy",
   "metadata": {},
   "outputs": [],
   "source": [
    "tot_purch = gender_group_pur[\"Price\"].sum()"
   ]
  },
  {
   "cell_type": "code",
   "execution_count": 44,
   "id": "loose-infrastructure",
   "metadata": {},
   "outputs": [],
   "source": [
    "gen_uniq = purchase_df.groupby(\"Gender\")"
   ]
  },
  {
   "cell_type": "code",
   "execution_count": 45,
   "id": "suited-storm",
   "metadata": {},
   "outputs": [],
   "source": [
    "gen_nums = gen_uniq[\"SN\"].value_counts()"
   ]
  },
  {
   "cell_type": "code",
   "execution_count": 46,
   "id": "otherwise-sweden",
   "metadata": {},
   "outputs": [],
   "source": [
    "persons=gender_df2[\"Total Count\"].sort_index()"
   ]
  },
  {
   "cell_type": "code",
   "execution_count": 47,
   "id": "dietary-popularity",
   "metadata": {},
   "outputs": [],
   "source": [
    "ave_purch_person = tot_purch/persons"
   ]
  },
  {
   "cell_type": "code",
   "execution_count": 48,
   "id": "advised-watson",
   "metadata": {},
   "outputs": [],
   "source": [
    "fem_av_purch= tot_purch[0]/fem_count"
   ]
  },
  {
   "cell_type": "code",
   "execution_count": 49,
   "id": "continuing-arena",
   "metadata": {},
   "outputs": [],
   "source": [
    "male_av_purch = tot_purch[1]/male_count"
   ]
  },
  {
   "cell_type": "code",
   "execution_count": 50,
   "id": "solid-aluminum",
   "metadata": {},
   "outputs": [],
   "source": [
    "other_av_purch = tot_purch[2]/other_count"
   ]
  },
  {
   "cell_type": "code",
   "execution_count": 51,
   "id": "through-borough",
   "metadata": {},
   "outputs": [],
   "source": [
    "ave_gen_list = [fem_av_purch,male_av_purch,other_av_purch]"
   ]
  },
  {
   "cell_type": "code",
   "execution_count": 52,
   "id": "robust-chain",
   "metadata": {},
   "outputs": [
    {
     "name": "stdout",
     "output_type": "stream",
     "text": [
      "0    4.468395\n",
      "1    4.065372\n",
      "2    4.562727\n",
      "dtype: float64\n"
     ]
    }
   ],
   "source": [
    "ave_gen_series = pd.Series(ave_gen_list)\n",
    "print(ave_gen_series)"
   ]
  },
  {
   "cell_type": "code",
   "execution_count": 53,
   "id": "hybrid-filename",
   "metadata": {},
   "outputs": [],
   "source": [
    "trial_frame={\"Purchase Count\": gender_group_purchase,\n",
    "             \"Average Purchase Price\": avg_price_gen,\n",
    "             \"Total Purchase Value\": tot_purch}"
   ]
  },
  {
   "cell_type": "code",
   "execution_count": 54,
   "id": "unnecessary-manitoba",
   "metadata": {},
   "outputs": [],
   "source": [
    "trial2 = pd.DataFrame(trial_frame)"
   ]
  },
  {
   "cell_type": "code",
   "execution_count": 55,
   "id": "instant-ireland",
   "metadata": {},
   "outputs": [],
   "source": [
    "trial2.insert(3,\"Avg Total Purchase per Person\",ave_gen_list)"
   ]
  },
  {
   "cell_type": "code",
   "execution_count": 56,
   "id": "prospective-sewing",
   "metadata": {},
   "outputs": [
    {
     "data": {
      "text/html": [
       "<div>\n",
       "<style scoped>\n",
       "    .dataframe tbody tr th:only-of-type {\n",
       "        vertical-align: middle;\n",
       "    }\n",
       "\n",
       "    .dataframe tbody tr th {\n",
       "        vertical-align: top;\n",
       "    }\n",
       "\n",
       "    .dataframe thead th {\n",
       "        text-align: right;\n",
       "    }\n",
       "</style>\n",
       "<table border=\"1\" class=\"dataframe\">\n",
       "  <thead>\n",
       "    <tr style=\"text-align: right;\">\n",
       "      <th></th>\n",
       "      <th>Purchase Count</th>\n",
       "      <th>Average Purchase Price</th>\n",
       "      <th>Total Purchase Value</th>\n",
       "      <th>Avg Total Purchase per Person</th>\n",
       "    </tr>\n",
       "    <tr>\n",
       "      <th>Gender</th>\n",
       "      <th></th>\n",
       "      <th></th>\n",
       "      <th></th>\n",
       "      <th></th>\n",
       "    </tr>\n",
       "  </thead>\n",
       "  <tbody>\n",
       "    <tr>\n",
       "      <th>Female</th>\n",
       "      <td>113</td>\n",
       "      <td>$3.20</td>\n",
       "      <td>$361.94</td>\n",
       "      <td>$4.47</td>\n",
       "    </tr>\n",
       "    <tr>\n",
       "      <th>Male</th>\n",
       "      <td>652</td>\n",
       "      <td>$3.02</td>\n",
       "      <td>$1,967.64</td>\n",
       "      <td>$4.07</td>\n",
       "    </tr>\n",
       "    <tr>\n",
       "      <th>Other / Non-Disclosed</th>\n",
       "      <td>15</td>\n",
       "      <td>$3.35</td>\n",
       "      <td>$50.19</td>\n",
       "      <td>$4.56</td>\n",
       "    </tr>\n",
       "  </tbody>\n",
       "</table>\n",
       "</div>"
      ],
      "text/plain": [
       "                       Purchase Count Average Purchase Price  \\\n",
       "Gender                                                         \n",
       "Female                            113                  $3.20   \n",
       "Male                              652                  $3.02   \n",
       "Other / Non-Disclosed              15                  $3.35   \n",
       "\n",
       "                      Total Purchase Value Avg Total Purchase per Person  \n",
       "Gender                                                                    \n",
       "Female                             $361.94                         $4.47  \n",
       "Male                             $1,967.64                         $4.07  \n",
       "Other / Non-Disclosed               $50.19                         $4.56  "
      ]
     },
     "execution_count": 56,
     "metadata": {},
     "output_type": "execute_result"
    }
   ],
   "source": [
    "trial2_ff = trial2.copy()\n",
    "trial2_ff[\"Total Purchase Value\"]=trial2[\"Total Purchase Value\"].astype(float).map(\n",
    "    \"${:,.2f}\".format)\n",
    "trial2_ff[\"Average Purchase Price\"]=trial2[\"Average Purchase Price\"].astype(float).map(\n",
    "    \"${:,.2f}\".format)\n",
    "trial2_ff[\"Avg Total Purchase per Person\"]=trial2[\"Avg Total Purchase per Person\"].astype(float).map(\n",
    "    \"${:,.2f}\".format)\n",
    "trial2_ff"
   ]
  },
  {
   "cell_type": "code",
   "execution_count": 57,
   "id": "quarterly-friendship",
   "metadata": {},
   "outputs": [],
   "source": [
    "#age demographics "
   ]
  },
  {
   "cell_type": "code",
   "execution_count": 58,
   "id": "promotional-antique",
   "metadata": {},
   "outputs": [],
   "source": [
    "#get summary of ages\n",
    "meh= purchase_df[\"Age\"].unique()"
   ]
  },
  {
   "cell_type": "code",
   "execution_count": 59,
   "id": "electrical-sterling",
   "metadata": {},
   "outputs": [],
   "source": [
    "meh.sort()"
   ]
  },
  {
   "cell_type": "code",
   "execution_count": 60,
   "id": "choice-density",
   "metadata": {},
   "outputs": [],
   "source": [
    "bins = [0, 9.9,14.9, 19.9, 24.9, 29.9, 34.9, 39.9, 50.9 ]\n"
   ]
  },
  {
   "cell_type": "code",
   "execution_count": 61,
   "id": "intended-canada",
   "metadata": {},
   "outputs": [],
   "source": [
    "bin_names = [\"<10\", \"10-14\", \"15-19\", \"20-24\", \"25-29\", \"30-34\", \"35-39\", \"40+\"]"
   ]
  },
  {
   "cell_type": "code",
   "execution_count": 62,
   "id": "improved-check",
   "metadata": {},
   "outputs": [],
   "source": [
    "uniq_players_group= purchase_df.groupby(\"Age\")"
   ]
  },
  {
   "cell_type": "code",
   "execution_count": 63,
   "id": "uniform-cover",
   "metadata": {},
   "outputs": [],
   "source": [
    "uniq_try = uniq_players_group[\"SN\"].unique()"
   ]
  },
  {
   "cell_type": "code",
   "execution_count": 64,
   "id": "responsible-clerk",
   "metadata": {},
   "outputs": [],
   "source": [
    "seriously = purchase_df.drop_duplicates(subset = \"SN\")"
   ]
  },
  {
   "cell_type": "code",
   "execution_count": 65,
   "id": "controversial-treasurer",
   "metadata": {},
   "outputs": [],
   "source": [
    "why= pd.cut(seriously[\"Age\"], bins,labels=bin_names, include_lowest=True)"
   ]
  },
  {
   "cell_type": "code",
   "execution_count": 66,
   "id": "accompanied-correction",
   "metadata": {},
   "outputs": [],
   "source": [
    "seriously.insert(7,\"plz\",why)"
   ]
  },
  {
   "cell_type": "code",
   "execution_count": 67,
   "id": "awful-elizabeth",
   "metadata": {},
   "outputs": [],
   "source": [
    "seriously_group = seriously.groupby(\"plz\")"
   ]
  },
  {
   "cell_type": "code",
   "execution_count": 68,
   "id": "delayed-mongolia",
   "metadata": {},
   "outputs": [],
   "source": [
    "seriously_df = seriously_group.count()"
   ]
  },
  {
   "cell_type": "raw",
   "id": "similar-toner",
   "metadata": {},
   "source": []
  },
  {
   "cell_type": "code",
   "execution_count": 69,
   "id": "active-shaft",
   "metadata": {},
   "outputs": [],
   "source": [
    "seriously_bins = seriously_df[\"Purchase ID\"]"
   ]
  },
  {
   "cell_type": "code",
   "execution_count": 70,
   "id": "faced-translation",
   "metadata": {},
   "outputs": [],
   "source": [
    "omg_why = seriously_bins/num_players"
   ]
  },
  {
   "cell_type": "code",
   "execution_count": 71,
   "id": "tested-variety",
   "metadata": {},
   "outputs": [],
   "source": [
    "seriously_frame = {\"Total Count\": seriously_bins,\n",
    "                   \"Percentage of Players\": omg_why}"
   ]
  },
  {
   "cell_type": "code",
   "execution_count": 72,
   "id": "greatest-hudson",
   "metadata": {},
   "outputs": [],
   "source": [
    "send_halp = pd.DataFrame(seriously_frame)"
   ]
  },
  {
   "cell_type": "code",
   "execution_count": 73,
   "id": "focal-clinton",
   "metadata": {},
   "outputs": [
    {
     "data": {
      "text/html": [
       "<div>\n",
       "<style scoped>\n",
       "    .dataframe tbody tr th:only-of-type {\n",
       "        vertical-align: middle;\n",
       "    }\n",
       "\n",
       "    .dataframe tbody tr th {\n",
       "        vertical-align: top;\n",
       "    }\n",
       "\n",
       "    .dataframe thead th {\n",
       "        text-align: right;\n",
       "    }\n",
       "</style>\n",
       "<table border=\"1\" class=\"dataframe\">\n",
       "  <thead>\n",
       "    <tr style=\"text-align: right;\">\n",
       "      <th></th>\n",
       "      <th>Total Count</th>\n",
       "      <th>Percentage of Players</th>\n",
       "    </tr>\n",
       "    <tr>\n",
       "      <th>plz</th>\n",
       "      <th></th>\n",
       "      <th></th>\n",
       "    </tr>\n",
       "  </thead>\n",
       "  <tbody>\n",
       "    <tr>\n",
       "      <th>&lt;10</th>\n",
       "      <td>17</td>\n",
       "      <td>2.95%</td>\n",
       "    </tr>\n",
       "    <tr>\n",
       "      <th>10-14</th>\n",
       "      <td>22</td>\n",
       "      <td>3.82%</td>\n",
       "    </tr>\n",
       "    <tr>\n",
       "      <th>15-19</th>\n",
       "      <td>107</td>\n",
       "      <td>18.58%</td>\n",
       "    </tr>\n",
       "    <tr>\n",
       "      <th>20-24</th>\n",
       "      <td>258</td>\n",
       "      <td>44.79%</td>\n",
       "    </tr>\n",
       "    <tr>\n",
       "      <th>25-29</th>\n",
       "      <td>77</td>\n",
       "      <td>13.37%</td>\n",
       "    </tr>\n",
       "    <tr>\n",
       "      <th>30-34</th>\n",
       "      <td>52</td>\n",
       "      <td>9.03%</td>\n",
       "    </tr>\n",
       "    <tr>\n",
       "      <th>35-39</th>\n",
       "      <td>31</td>\n",
       "      <td>5.38%</td>\n",
       "    </tr>\n",
       "    <tr>\n",
       "      <th>40+</th>\n",
       "      <td>12</td>\n",
       "      <td>2.08%</td>\n",
       "    </tr>\n",
       "  </tbody>\n",
       "</table>\n",
       "</div>"
      ],
      "text/plain": [
       "       Total Count Percentage of Players\n",
       "plz                                     \n",
       "<10             17                 2.95%\n",
       "10-14           22                 3.82%\n",
       "15-19          107                18.58%\n",
       "20-24          258                44.79%\n",
       "25-29           77                13.37%\n",
       "30-34           52                 9.03%\n",
       "35-39           31                 5.38%\n",
       "40+             12                 2.08%"
      ]
     },
     "execution_count": 73,
     "metadata": {},
     "output_type": "execute_result"
    }
   ],
   "source": [
    "\n",
    "send_halp_ff = send_halp.copy()\n",
    "send_halp_ff[\"Percentage of Players\"]=send_halp[\"Percentage of Players\"].astype(float).map(\n",
    "    \"{:.2%}\".format)\n",
    "send_halp_ff"
   ]
  },
  {
   "cell_type": "code",
   "execution_count": 74,
   "id": "hearing-stream",
   "metadata": {},
   "outputs": [],
   "source": [
    "#purchasing analysis (age)"
   ]
  },
  {
   "cell_type": "code",
   "execution_count": 75,
   "id": "commercial-member",
   "metadata": {},
   "outputs": [],
   "source": [
    "bins2= pd.cut(purchase_df[\"Age\"], bins,labels=bin_names, include_lowest=True)"
   ]
  },
  {
   "cell_type": "code",
   "execution_count": 76,
   "id": "cooperative-instruction",
   "metadata": {},
   "outputs": [],
   "source": [
    "purchase_df.insert(7,\"Bin\",bins2)"
   ]
  },
  {
   "cell_type": "code",
   "execution_count": 77,
   "id": "innocent-waterproof",
   "metadata": {},
   "outputs": [
    {
     "data": {
      "text/html": [
       "<div>\n",
       "<style scoped>\n",
       "    .dataframe tbody tr th:only-of-type {\n",
       "        vertical-align: middle;\n",
       "    }\n",
       "\n",
       "    .dataframe tbody tr th {\n",
       "        vertical-align: top;\n",
       "    }\n",
       "\n",
       "    .dataframe thead th {\n",
       "        text-align: right;\n",
       "    }\n",
       "</style>\n",
       "<table border=\"1\" class=\"dataframe\">\n",
       "  <thead>\n",
       "    <tr style=\"text-align: right;\">\n",
       "      <th></th>\n",
       "      <th>Purchase ID</th>\n",
       "      <th>SN</th>\n",
       "      <th>Age</th>\n",
       "      <th>Gender</th>\n",
       "      <th>Item ID</th>\n",
       "      <th>Item Name</th>\n",
       "      <th>Price</th>\n",
       "      <th>Bin</th>\n",
       "    </tr>\n",
       "  </thead>\n",
       "  <tbody>\n",
       "    <tr>\n",
       "      <th>0</th>\n",
       "      <td>0</td>\n",
       "      <td>Lisim78</td>\n",
       "      <td>20</td>\n",
       "      <td>Male</td>\n",
       "      <td>108</td>\n",
       "      <td>Extraction, Quickblade Of Trembling Hands</td>\n",
       "      <td>3.53</td>\n",
       "      <td>20-24</td>\n",
       "    </tr>\n",
       "    <tr>\n",
       "      <th>1</th>\n",
       "      <td>1</td>\n",
       "      <td>Lisovynya38</td>\n",
       "      <td>40</td>\n",
       "      <td>Male</td>\n",
       "      <td>143</td>\n",
       "      <td>Frenzied Scimitar</td>\n",
       "      <td>1.56</td>\n",
       "      <td>40+</td>\n",
       "    </tr>\n",
       "    <tr>\n",
       "      <th>2</th>\n",
       "      <td>2</td>\n",
       "      <td>Ithergue48</td>\n",
       "      <td>24</td>\n",
       "      <td>Male</td>\n",
       "      <td>92</td>\n",
       "      <td>Final Critic</td>\n",
       "      <td>4.88</td>\n",
       "      <td>20-24</td>\n",
       "    </tr>\n",
       "    <tr>\n",
       "      <th>3</th>\n",
       "      <td>3</td>\n",
       "      <td>Chamassasya86</td>\n",
       "      <td>24</td>\n",
       "      <td>Male</td>\n",
       "      <td>100</td>\n",
       "      <td>Blindscythe</td>\n",
       "      <td>3.27</td>\n",
       "      <td>20-24</td>\n",
       "    </tr>\n",
       "    <tr>\n",
       "      <th>4</th>\n",
       "      <td>4</td>\n",
       "      <td>Iskosia90</td>\n",
       "      <td>23</td>\n",
       "      <td>Male</td>\n",
       "      <td>131</td>\n",
       "      <td>Fury</td>\n",
       "      <td>1.44</td>\n",
       "      <td>20-24</td>\n",
       "    </tr>\n",
       "    <tr>\n",
       "      <th>...</th>\n",
       "      <td>...</td>\n",
       "      <td>...</td>\n",
       "      <td>...</td>\n",
       "      <td>...</td>\n",
       "      <td>...</td>\n",
       "      <td>...</td>\n",
       "      <td>...</td>\n",
       "      <td>...</td>\n",
       "    </tr>\n",
       "    <tr>\n",
       "      <th>775</th>\n",
       "      <td>775</td>\n",
       "      <td>Aethedru70</td>\n",
       "      <td>21</td>\n",
       "      <td>Female</td>\n",
       "      <td>60</td>\n",
       "      <td>Wolf</td>\n",
       "      <td>3.54</td>\n",
       "      <td>20-24</td>\n",
       "    </tr>\n",
       "    <tr>\n",
       "      <th>776</th>\n",
       "      <td>776</td>\n",
       "      <td>Iral74</td>\n",
       "      <td>21</td>\n",
       "      <td>Male</td>\n",
       "      <td>164</td>\n",
       "      <td>Exiled Doomblade</td>\n",
       "      <td>1.63</td>\n",
       "      <td>20-24</td>\n",
       "    </tr>\n",
       "    <tr>\n",
       "      <th>777</th>\n",
       "      <td>777</td>\n",
       "      <td>Yathecal72</td>\n",
       "      <td>20</td>\n",
       "      <td>Male</td>\n",
       "      <td>67</td>\n",
       "      <td>Celeste, Incarnation of the Corrupted</td>\n",
       "      <td>3.46</td>\n",
       "      <td>20-24</td>\n",
       "    </tr>\n",
       "    <tr>\n",
       "      <th>778</th>\n",
       "      <td>778</td>\n",
       "      <td>Sisur91</td>\n",
       "      <td>7</td>\n",
       "      <td>Male</td>\n",
       "      <td>92</td>\n",
       "      <td>Final Critic</td>\n",
       "      <td>4.19</td>\n",
       "      <td>&lt;10</td>\n",
       "    </tr>\n",
       "    <tr>\n",
       "      <th>779</th>\n",
       "      <td>779</td>\n",
       "      <td>Ennrian78</td>\n",
       "      <td>24</td>\n",
       "      <td>Male</td>\n",
       "      <td>50</td>\n",
       "      <td>Dawn</td>\n",
       "      <td>4.60</td>\n",
       "      <td>20-24</td>\n",
       "    </tr>\n",
       "  </tbody>\n",
       "</table>\n",
       "<p>780 rows × 8 columns</p>\n",
       "</div>"
      ],
      "text/plain": [
       "     Purchase ID             SN  Age  Gender  Item ID  \\\n",
       "0              0        Lisim78   20    Male      108   \n",
       "1              1    Lisovynya38   40    Male      143   \n",
       "2              2     Ithergue48   24    Male       92   \n",
       "3              3  Chamassasya86   24    Male      100   \n",
       "4              4      Iskosia90   23    Male      131   \n",
       "..           ...            ...  ...     ...      ...   \n",
       "775          775     Aethedru70   21  Female       60   \n",
       "776          776         Iral74   21    Male      164   \n",
       "777          777     Yathecal72   20    Male       67   \n",
       "778          778        Sisur91    7    Male       92   \n",
       "779          779      Ennrian78   24    Male       50   \n",
       "\n",
       "                                     Item Name  Price    Bin  \n",
       "0    Extraction, Quickblade Of Trembling Hands   3.53  20-24  \n",
       "1                            Frenzied Scimitar   1.56    40+  \n",
       "2                                 Final Critic   4.88  20-24  \n",
       "3                                  Blindscythe   3.27  20-24  \n",
       "4                                         Fury   1.44  20-24  \n",
       "..                                         ...    ...    ...  \n",
       "775                                       Wolf   3.54  20-24  \n",
       "776                           Exiled Doomblade   1.63  20-24  \n",
       "777      Celeste, Incarnation of the Corrupted   3.46  20-24  \n",
       "778                               Final Critic   4.19    <10  \n",
       "779                                       Dawn   4.60  20-24  \n",
       "\n",
       "[780 rows x 8 columns]"
      ]
     },
     "execution_count": 77,
     "metadata": {},
     "output_type": "execute_result"
    }
   ],
   "source": [
    "purchase_df"
   ]
  },
  {
   "cell_type": "code",
   "execution_count": 78,
   "id": "resident-enough",
   "metadata": {},
   "outputs": [],
   "source": [
    "bins2_group = purchase_df.groupby(\"Bin\")"
   ]
  },
  {
   "cell_type": "code",
   "execution_count": 79,
   "id": "helpful-natural",
   "metadata": {},
   "outputs": [],
   "source": [
    "bins2_df = bins2_group.count()"
   ]
  },
  {
   "cell_type": "code",
   "execution_count": 80,
   "id": "guilty-closure",
   "metadata": {},
   "outputs": [],
   "source": [
    "bins2_purchCount= bins2_df[\"SN\"]\n"
   ]
  },
  {
   "cell_type": "code",
   "execution_count": 81,
   "id": "impressive-cuisine",
   "metadata": {},
   "outputs": [],
   "source": [
    "bins2_avPrice= bins2_group[\"Price\"].mean()"
   ]
  },
  {
   "cell_type": "code",
   "execution_count": 82,
   "id": "chubby-vacuum",
   "metadata": {},
   "outputs": [],
   "source": [
    "bins2_totRev= bins2_group[\"Price\"].sum()"
   ]
  },
  {
   "cell_type": "code",
   "execution_count": 83,
   "id": "better-silicon",
   "metadata": {},
   "outputs": [],
   "source": [
    "bins2_av_pp = bins2_totRev/seriously_bins"
   ]
  },
  {
   "cell_type": "code",
   "execution_count": 84,
   "id": "naked-antenna",
   "metadata": {},
   "outputs": [],
   "source": [
    "bins2_finalFrame = {\"Purchase Count\": bins2_purchCount,\n",
    "                    \"Average Purchase Price\": bins2_avPrice,\n",
    "                    \"Total Purchase Revenue\": bins2_totRev,\n",
    "                    \"Avg Total Purchase per Person\": bins2_av_pp}"
   ]
  },
  {
   "cell_type": "code",
   "execution_count": 85,
   "id": "empirical-bridal",
   "metadata": {},
   "outputs": [],
   "source": [
    "bins2_df_fin = pd.DataFrame(bins2_finalFrame)\n"
   ]
  },
  {
   "cell_type": "code",
   "execution_count": 86,
   "id": "legal-guidance",
   "metadata": {},
   "outputs": [
    {
     "data": {
      "text/html": [
       "<div>\n",
       "<style scoped>\n",
       "    .dataframe tbody tr th:only-of-type {\n",
       "        vertical-align: middle;\n",
       "    }\n",
       "\n",
       "    .dataframe tbody tr th {\n",
       "        vertical-align: top;\n",
       "    }\n",
       "\n",
       "    .dataframe thead th {\n",
       "        text-align: right;\n",
       "    }\n",
       "</style>\n",
       "<table border=\"1\" class=\"dataframe\">\n",
       "  <thead>\n",
       "    <tr style=\"text-align: right;\">\n",
       "      <th></th>\n",
       "      <th>Purchase Count</th>\n",
       "      <th>Average Purchase Price</th>\n",
       "      <th>Total Purchase Revenue</th>\n",
       "      <th>Avg Total Purchase per Person</th>\n",
       "    </tr>\n",
       "    <tr>\n",
       "      <th>Bin</th>\n",
       "      <th></th>\n",
       "      <th></th>\n",
       "      <th></th>\n",
       "      <th></th>\n",
       "    </tr>\n",
       "  </thead>\n",
       "  <tbody>\n",
       "    <tr>\n",
       "      <th>&lt;10</th>\n",
       "      <td>23</td>\n",
       "      <td>$3.35</td>\n",
       "      <td>$77.13</td>\n",
       "      <td>$4.54</td>\n",
       "    </tr>\n",
       "    <tr>\n",
       "      <th>10-14</th>\n",
       "      <td>28</td>\n",
       "      <td>$2.96</td>\n",
       "      <td>$82.78</td>\n",
       "      <td>$3.76</td>\n",
       "    </tr>\n",
       "    <tr>\n",
       "      <th>15-19</th>\n",
       "      <td>136</td>\n",
       "      <td>$3.04</td>\n",
       "      <td>$412.89</td>\n",
       "      <td>$3.86</td>\n",
       "    </tr>\n",
       "    <tr>\n",
       "      <th>20-24</th>\n",
       "      <td>365</td>\n",
       "      <td>$3.05</td>\n",
       "      <td>$1,114.06</td>\n",
       "      <td>$4.32</td>\n",
       "    </tr>\n",
       "    <tr>\n",
       "      <th>25-29</th>\n",
       "      <td>101</td>\n",
       "      <td>$2.90</td>\n",
       "      <td>$293.00</td>\n",
       "      <td>$3.81</td>\n",
       "    </tr>\n",
       "    <tr>\n",
       "      <th>30-34</th>\n",
       "      <td>73</td>\n",
       "      <td>$2.93</td>\n",
       "      <td>$214.00</td>\n",
       "      <td>$4.12</td>\n",
       "    </tr>\n",
       "    <tr>\n",
       "      <th>35-39</th>\n",
       "      <td>41</td>\n",
       "      <td>$3.60</td>\n",
       "      <td>$147.67</td>\n",
       "      <td>$4.76</td>\n",
       "    </tr>\n",
       "    <tr>\n",
       "      <th>40+</th>\n",
       "      <td>13</td>\n",
       "      <td>$2.94</td>\n",
       "      <td>$38.24</td>\n",
       "      <td>$3.19</td>\n",
       "    </tr>\n",
       "  </tbody>\n",
       "</table>\n",
       "</div>"
      ],
      "text/plain": [
       "       Purchase Count Average Purchase Price Total Purchase Revenue  \\\n",
       "Bin                                                                   \n",
       "<10                23                  $3.35                 $77.13   \n",
       "10-14              28                  $2.96                 $82.78   \n",
       "15-19             136                  $3.04                $412.89   \n",
       "20-24             365                  $3.05              $1,114.06   \n",
       "25-29             101                  $2.90                $293.00   \n",
       "30-34              73                  $2.93                $214.00   \n",
       "35-39              41                  $3.60                $147.67   \n",
       "40+                13                  $2.94                 $38.24   \n",
       "\n",
       "      Avg Total Purchase per Person  \n",
       "Bin                                  \n",
       "<10                           $4.54  \n",
       "10-14                         $3.76  \n",
       "15-19                         $3.86  \n",
       "20-24                         $4.32  \n",
       "25-29                         $3.81  \n",
       "30-34                         $4.12  \n",
       "35-39                         $4.76  \n",
       "40+                           $3.19  "
      ]
     },
     "execution_count": 86,
     "metadata": {},
     "output_type": "execute_result"
    }
   ],
   "source": [
    "bins2_ff = bins2_df_fin.copy()\n",
    "bins2_ff[\"Average Purchase Price\"]= bins2_df_fin[\"Average Purchase Price\"].astype(float).map((\n",
    "    \"${:,.2f}\".format))\n",
    "bins2_ff[\"Total Purchase Revenue\"]= bins2_df_fin[\"Total Purchase Revenue\"].astype(float).map((\n",
    "    \"${:,.2f}\".format))\n",
    "bins2_ff[\"Avg Total Purchase per Person\"]= bins2_df_fin[\"Avg Total Purchase per Person\"].astype(float).map((\n",
    "    \"${:,.2f}\".format))\n",
    "bins2_ff"
   ]
  },
  {
   "cell_type": "code",
   "execution_count": 87,
   "id": "veterinary-jacob",
   "metadata": {},
   "outputs": [],
   "source": [
    "#top spenders"
   ]
  },
  {
   "cell_type": "code",
   "execution_count": 88,
   "id": "favorite-warrior",
   "metadata": {},
   "outputs": [],
   "source": [
    "spender_group = purchase_df.groupby(\"SN\")"
   ]
  },
  {
   "cell_type": "code",
   "execution_count": 89,
   "id": "designed-cemetery",
   "metadata": {},
   "outputs": [],
   "source": [
    "spend_purch_count = spender_group[\"SN\"].count()"
   ]
  },
  {
   "cell_type": "code",
   "execution_count": 90,
   "id": "angry-verse",
   "metadata": {},
   "outputs": [],
   "source": [
    "spender_av_p = spender_group[\"Price\"].mean()"
   ]
  },
  {
   "cell_type": "code",
   "execution_count": 91,
   "id": "intensive-oasis",
   "metadata": {},
   "outputs": [],
   "source": [
    "spender_tot_p = spender_group[\"Price\"].sum()"
   ]
  },
  {
   "cell_type": "code",
   "execution_count": 92,
   "id": "given-screen",
   "metadata": {},
   "outputs": [],
   "source": [
    "hm_frame = {\"Purchase Count\": spend_purch_count,\n",
    "            \"Average Purchase Price\": spender_av_p,\n",
    "            \"Total Purchase Value\": spender_tot_p}"
   ]
  },
  {
   "cell_type": "code",
   "execution_count": 93,
   "id": "elegant-characterization",
   "metadata": {},
   "outputs": [],
   "source": [
    "top_spenders_df = pd.DataFrame(hm_frame)"
   ]
  },
  {
   "cell_type": "code",
   "execution_count": 94,
   "id": "outdoor-dealer",
   "metadata": {},
   "outputs": [],
   "source": [
    "newTop = top_spenders_df.sort_values(by = [\"Total Purchase Value\"],ascending = False)"
   ]
  },
  {
   "cell_type": "code",
   "execution_count": 95,
   "id": "strategic-concrete",
   "metadata": {},
   "outputs": [],
   "source": [
    "top_spender_final = newTop.head(5)"
   ]
  },
  {
   "cell_type": "code",
   "execution_count": 96,
   "id": "stylish-receptor",
   "metadata": {},
   "outputs": [
    {
     "data": {
      "text/html": [
       "<div>\n",
       "<style scoped>\n",
       "    .dataframe tbody tr th:only-of-type {\n",
       "        vertical-align: middle;\n",
       "    }\n",
       "\n",
       "    .dataframe tbody tr th {\n",
       "        vertical-align: top;\n",
       "    }\n",
       "\n",
       "    .dataframe thead th {\n",
       "        text-align: right;\n",
       "    }\n",
       "</style>\n",
       "<table border=\"1\" class=\"dataframe\">\n",
       "  <thead>\n",
       "    <tr style=\"text-align: right;\">\n",
       "      <th></th>\n",
       "      <th>Purchase Count</th>\n",
       "      <th>Average Purchase Price</th>\n",
       "      <th>Total Purchase Value</th>\n",
       "    </tr>\n",
       "    <tr>\n",
       "      <th>SN</th>\n",
       "      <th></th>\n",
       "      <th></th>\n",
       "      <th></th>\n",
       "    </tr>\n",
       "  </thead>\n",
       "  <tbody>\n",
       "    <tr>\n",
       "      <th>Lisosia93</th>\n",
       "      <td>5</td>\n",
       "      <td>$3.79</td>\n",
       "      <td>$18.96</td>\n",
       "    </tr>\n",
       "    <tr>\n",
       "      <th>Idastidru52</th>\n",
       "      <td>4</td>\n",
       "      <td>$3.86</td>\n",
       "      <td>$15.45</td>\n",
       "    </tr>\n",
       "    <tr>\n",
       "      <th>Chamjask73</th>\n",
       "      <td>3</td>\n",
       "      <td>$4.61</td>\n",
       "      <td>$13.83</td>\n",
       "    </tr>\n",
       "    <tr>\n",
       "      <th>Iral74</th>\n",
       "      <td>4</td>\n",
       "      <td>$3.40</td>\n",
       "      <td>$13.62</td>\n",
       "    </tr>\n",
       "    <tr>\n",
       "      <th>Iskadarya95</th>\n",
       "      <td>3</td>\n",
       "      <td>$4.37</td>\n",
       "      <td>$13.10</td>\n",
       "    </tr>\n",
       "  </tbody>\n",
       "</table>\n",
       "</div>"
      ],
      "text/plain": [
       "             Purchase Count Average Purchase Price Total Purchase Value\n",
       "SN                                                                     \n",
       "Lisosia93                 5                  $3.79               $18.96\n",
       "Idastidru52               4                  $3.86               $15.45\n",
       "Chamjask73                3                  $4.61               $13.83\n",
       "Iral74                    4                  $3.40               $13.62\n",
       "Iskadarya95               3                  $4.37               $13.10"
      ]
     },
     "execution_count": 96,
     "metadata": {},
     "output_type": "execute_result"
    }
   ],
   "source": [
    "top_spend_ff =top_spender_final.copy()\n",
    "top_spend_ff[\"Average Purchase Price\"]=top_spender_final[\"Average Purchase Price\"].astype(float).map(\n",
    "    \"${:,.2f}\".format)\n",
    "top_spend_ff[\"Total Purchase Value\"]=top_spender_final[\"Total Purchase Value\"].astype(float).map(\n",
    "    \"${:,.2f}\".format)\n",
    "top_spend_ff"
   ]
  },
  {
   "cell_type": "code",
   "execution_count": 97,
   "id": "brave-movement",
   "metadata": {},
   "outputs": [],
   "source": [
    "#most popular items"
   ]
  },
  {
   "cell_type": "code",
   "execution_count": 98,
   "id": "legal-sleeping",
   "metadata": {},
   "outputs": [],
   "source": [
    "itemID = purchase_df[\"Item ID\"]"
   ]
  },
  {
   "cell_type": "code",
   "execution_count": 99,
   "id": "precise-bermuda",
   "metadata": {},
   "outputs": [],
   "source": [
    "itemName = purchase_df[\"Item Name\"]"
   ]
  },
  {
   "cell_type": "code",
   "execution_count": 100,
   "id": "vietnamese-fourth",
   "metadata": {},
   "outputs": [],
   "source": [
    "itemPrice = purchase_df[\"Price\"]"
   ]
  },
  {
   "cell_type": "code",
   "execution_count": 101,
   "id": "faced-aspect",
   "metadata": {},
   "outputs": [],
   "source": [
    "pop_frame = {\"Item ID\": itemID,\n",
    "             \"Item Name\": itemName,\n",
    "             \"Item Price\": itemPrice}"
   ]
  },
  {
   "cell_type": "code",
   "execution_count": 102,
   "id": "continuing-active",
   "metadata": {},
   "outputs": [],
   "source": [
    "pop_df = pd.DataFrame(pop_frame)"
   ]
  },
  {
   "cell_type": "code",
   "execution_count": 103,
   "id": "golden-atlantic",
   "metadata": {},
   "outputs": [],
   "source": [
    "pop_groups = pop_df.groupby([\"Item ID\",\"Item Name\"])"
   ]
  },
  {
   "cell_type": "code",
   "execution_count": 104,
   "id": "attended-spiritual",
   "metadata": {},
   "outputs": [],
   "source": [
    "purchCount = pop_groups[\"Item ID\"].count()"
   ]
  },
  {
   "cell_type": "code",
   "execution_count": 105,
   "id": "resistant-housing",
   "metadata": {},
   "outputs": [],
   "source": [
    "aveItPrice = pop_groups[\"Item Price\"].mean()"
   ]
  },
  {
   "cell_type": "code",
   "execution_count": 106,
   "id": "union-killer",
   "metadata": {},
   "outputs": [],
   "source": [
    "totPurVal = pop_groups[\"Item Price\"].sum()"
   ]
  },
  {
   "cell_type": "code",
   "execution_count": 107,
   "id": "former-defendant",
   "metadata": {},
   "outputs": [],
   "source": [
    "pop_sum_frame = {\"Purchase Count\": purchCount,\n",
    "                 \"Item Price\": aveItPrice,\n",
    "                 \"Total Purchase Value\": totPurVal}"
   ]
  },
  {
   "cell_type": "code",
   "execution_count": 108,
   "id": "permanent-baking",
   "metadata": {},
   "outputs": [],
   "source": [
    "pop_sum_df = pd.DataFrame(pop_sum_frame)"
   ]
  },
  {
   "cell_type": "code",
   "execution_count": 109,
   "id": "romantic-scheduling",
   "metadata": {},
   "outputs": [],
   "source": [
    "pop_sum=pop_sum_df.sort_values(by = [\"Purchase Count\"],ascending = False)\n",
    "pop_sum_fin = pop_sum.copy()"
   ]
  },
  {
   "cell_type": "code",
   "execution_count": 110,
   "id": "sexual-juice",
   "metadata": {},
   "outputs": [
    {
     "data": {
      "text/html": [
       "<div>\n",
       "<style scoped>\n",
       "    .dataframe tbody tr th:only-of-type {\n",
       "        vertical-align: middle;\n",
       "    }\n",
       "\n",
       "    .dataframe tbody tr th {\n",
       "        vertical-align: top;\n",
       "    }\n",
       "\n",
       "    .dataframe thead th {\n",
       "        text-align: right;\n",
       "    }\n",
       "</style>\n",
       "<table border=\"1\" class=\"dataframe\">\n",
       "  <thead>\n",
       "    <tr style=\"text-align: right;\">\n",
       "      <th></th>\n",
       "      <th></th>\n",
       "      <th>Purchase Count</th>\n",
       "      <th>Item Price</th>\n",
       "      <th>Total Purchase Value</th>\n",
       "    </tr>\n",
       "    <tr>\n",
       "      <th>Item ID</th>\n",
       "      <th>Item Name</th>\n",
       "      <th></th>\n",
       "      <th></th>\n",
       "      <th></th>\n",
       "    </tr>\n",
       "  </thead>\n",
       "  <tbody>\n",
       "    <tr>\n",
       "      <th>92</th>\n",
       "      <th>Final Critic</th>\n",
       "      <td>13</td>\n",
       "      <td>$4.61</td>\n",
       "      <td>$59.99</td>\n",
       "    </tr>\n",
       "    <tr>\n",
       "      <th>178</th>\n",
       "      <th>Oathbreaker, Last Hope of the Breaking Storm</th>\n",
       "      <td>12</td>\n",
       "      <td>$4.23</td>\n",
       "      <td>$50.76</td>\n",
       "    </tr>\n",
       "    <tr>\n",
       "      <th>145</th>\n",
       "      <th>Fiery Glass Crusader</th>\n",
       "      <td>9</td>\n",
       "      <td>$4.58</td>\n",
       "      <td>$41.22</td>\n",
       "    </tr>\n",
       "    <tr>\n",
       "      <th>132</th>\n",
       "      <th>Persuasion</th>\n",
       "      <td>9</td>\n",
       "      <td>$3.22</td>\n",
       "      <td>$28.99</td>\n",
       "    </tr>\n",
       "    <tr>\n",
       "      <th>108</th>\n",
       "      <th>Extraction, Quickblade Of Trembling Hands</th>\n",
       "      <td>9</td>\n",
       "      <td>$3.53</td>\n",
       "      <td>$31.77</td>\n",
       "    </tr>\n",
       "  </tbody>\n",
       "</table>\n",
       "</div>"
      ],
      "text/plain": [
       "                                                      Purchase Count  \\\n",
       "Item ID Item Name                                                      \n",
       "92      Final Critic                                              13   \n",
       "178     Oathbreaker, Last Hope of the Breaking Storm              12   \n",
       "145     Fiery Glass Crusader                                       9   \n",
       "132     Persuasion                                                 9   \n",
       "108     Extraction, Quickblade Of Trembling Hands                  9   \n",
       "\n",
       "                                                     Item Price  \\\n",
       "Item ID Item Name                                                 \n",
       "92      Final Critic                                      $4.61   \n",
       "178     Oathbreaker, Last Hope of the Breaking Storm      $4.23   \n",
       "145     Fiery Glass Crusader                              $4.58   \n",
       "132     Persuasion                                        $3.22   \n",
       "108     Extraction, Quickblade Of Trembling Hands         $3.53   \n",
       "\n",
       "                                                     Total Purchase Value  \n",
       "Item ID Item Name                                                          \n",
       "92      Final Critic                                               $59.99  \n",
       "178     Oathbreaker, Last Hope of the Breaking Storm               $50.76  \n",
       "145     Fiery Glass Crusader                                       $41.22  \n",
       "132     Persuasion                                                 $28.99  \n",
       "108     Extraction, Quickblade Of Trembling Hands                  $31.77  "
      ]
     },
     "execution_count": 110,
     "metadata": {},
     "output_type": "execute_result"
    }
   ],
   "source": [
    "pop_sum_fin[\"Total Purchase Value\"]=pop_sum[\"Total Purchase Value\"].astype(float).map(\n",
    "    \"${:,.2f}\".format)\n",
    "pop_sum_fin[\"Item Price\"]=pop_sum[\"Item Price\"].astype(float).map(\n",
    "    \"${:,.2f}\".format)\n",
    "pop_sum_fin.head()"
   ]
  },
  {
   "cell_type": "code",
   "execution_count": 111,
   "id": "documentary-handle",
   "metadata": {},
   "outputs": [],
   "source": [
    "profItem_df = pop_sum_df.sort_values(by = [\"Total Purchase Value\"], ascending = False)"
   ]
  },
  {
   "cell_type": "code",
   "execution_count": 112,
   "id": "extra-racing",
   "metadata": {},
   "outputs": [],
   "source": [
    "profItem_df_fin = profItem_df.copy()"
   ]
  },
  {
   "cell_type": "code",
   "execution_count": 113,
   "id": "central-petite",
   "metadata": {},
   "outputs": [],
   "source": [
    "profItem_df_fin[\"Item Price\"]=profItem_df_fin[\"Item Price\"].astype(float).map(\n",
    "    \"${:,.2f}\".format)"
   ]
  },
  {
   "cell_type": "code",
   "execution_count": 114,
   "id": "dress-bottle",
   "metadata": {},
   "outputs": [],
   "source": [
    "profItem_df_fin[\"Total Purchase Value\"]=profItem_df_fin[\"Total Purchase Value\"].astype(float).map(\n",
    "    \"${:,.2f}\".format)"
   ]
  },
  {
   "cell_type": "code",
   "execution_count": 115,
   "id": "western-morning",
   "metadata": {},
   "outputs": [
    {
     "data": {
      "text/html": [
       "<div>\n",
       "<style scoped>\n",
       "    .dataframe tbody tr th:only-of-type {\n",
       "        vertical-align: middle;\n",
       "    }\n",
       "\n",
       "    .dataframe tbody tr th {\n",
       "        vertical-align: top;\n",
       "    }\n",
       "\n",
       "    .dataframe thead th {\n",
       "        text-align: right;\n",
       "    }\n",
       "</style>\n",
       "<table border=\"1\" class=\"dataframe\">\n",
       "  <thead>\n",
       "    <tr style=\"text-align: right;\">\n",
       "      <th></th>\n",
       "      <th></th>\n",
       "      <th>Purchase Count</th>\n",
       "      <th>Item Price</th>\n",
       "      <th>Total Purchase Value</th>\n",
       "    </tr>\n",
       "    <tr>\n",
       "      <th>Item ID</th>\n",
       "      <th>Item Name</th>\n",
       "      <th></th>\n",
       "      <th></th>\n",
       "      <th></th>\n",
       "    </tr>\n",
       "  </thead>\n",
       "  <tbody>\n",
       "    <tr>\n",
       "      <th>92</th>\n",
       "      <th>Final Critic</th>\n",
       "      <td>13</td>\n",
       "      <td>$4.61</td>\n",
       "      <td>$59.99</td>\n",
       "    </tr>\n",
       "    <tr>\n",
       "      <th>178</th>\n",
       "      <th>Oathbreaker, Last Hope of the Breaking Storm</th>\n",
       "      <td>12</td>\n",
       "      <td>$4.23</td>\n",
       "      <td>$50.76</td>\n",
       "    </tr>\n",
       "    <tr>\n",
       "      <th>82</th>\n",
       "      <th>Nirvana</th>\n",
       "      <td>9</td>\n",
       "      <td>$4.90</td>\n",
       "      <td>$44.10</td>\n",
       "    </tr>\n",
       "    <tr>\n",
       "      <th>145</th>\n",
       "      <th>Fiery Glass Crusader</th>\n",
       "      <td>9</td>\n",
       "      <td>$4.58</td>\n",
       "      <td>$41.22</td>\n",
       "    </tr>\n",
       "    <tr>\n",
       "      <th>103</th>\n",
       "      <th>Singed Scalpel</th>\n",
       "      <td>8</td>\n",
       "      <td>$4.35</td>\n",
       "      <td>$34.80</td>\n",
       "    </tr>\n",
       "  </tbody>\n",
       "</table>\n",
       "</div>"
      ],
      "text/plain": [
       "                                                      Purchase Count  \\\n",
       "Item ID Item Name                                                      \n",
       "92      Final Critic                                              13   \n",
       "178     Oathbreaker, Last Hope of the Breaking Storm              12   \n",
       "82      Nirvana                                                    9   \n",
       "145     Fiery Glass Crusader                                       9   \n",
       "103     Singed Scalpel                                             8   \n",
       "\n",
       "                                                     Item Price  \\\n",
       "Item ID Item Name                                                 \n",
       "92      Final Critic                                      $4.61   \n",
       "178     Oathbreaker, Last Hope of the Breaking Storm      $4.23   \n",
       "82      Nirvana                                           $4.90   \n",
       "145     Fiery Glass Crusader                              $4.58   \n",
       "103     Singed Scalpel                                    $4.35   \n",
       "\n",
       "                                                     Total Purchase Value  \n",
       "Item ID Item Name                                                          \n",
       "92      Final Critic                                               $59.99  \n",
       "178     Oathbreaker, Last Hope of the Breaking Storm               $50.76  \n",
       "82      Nirvana                                                    $44.10  \n",
       "145     Fiery Glass Crusader                                       $41.22  \n",
       "103     Singed Scalpel                                             $34.80  "
      ]
     },
     "execution_count": 115,
     "metadata": {},
     "output_type": "execute_result"
    }
   ],
   "source": [
    "profItem_df_fin.head()"
   ]
  },
  {
   "cell_type": "code",
   "execution_count": null,
   "id": "supreme-startup",
   "metadata": {},
   "outputs": [],
   "source": []
  }
 ],
 "metadata": {
  "kernelspec": {
   "display_name": "Python [conda env:PythonData] *",
   "language": "python",
   "name": "conda-env-PythonData-py"
  },
  "language_info": {
   "codemirror_mode": {
    "name": "ipython",
    "version": 3
   },
   "file_extension": ".py",
   "mimetype": "text/x-python",
   "name": "python",
   "nbconvert_exporter": "python",
   "pygments_lexer": "ipython3",
   "version": "3.6.10"
  }
 },
 "nbformat": 4,
 "nbformat_minor": 5
}
