{
 "cells": [
  {
   "cell_type": "code",
   "execution_count": 193,
   "id": "minor-genesis",
   "metadata": {},
   "outputs": [],
   "source": [
    "import pandas as pd\n",
    "import csv\n",
    "import numpy as np"
   ]
  },
  {
   "cell_type": "code",
   "execution_count": 194,
   "id": "adolescent-spanking",
   "metadata": {},
   "outputs": [],
   "source": [
    "purchase_file = \"Resources/purchase_data.csv\"\n",
    "purchase_df = pd.read_csv(purchase_file)"
   ]
  },
  {
   "cell_type": "code",
   "execution_count": 195,
   "id": "loved-ghost",
   "metadata": {},
   "outputs": [
    {
     "data": {
      "text/html": [
       "<div>\n",
       "<style scoped>\n",
       "    .dataframe tbody tr th:only-of-type {\n",
       "        vertical-align: middle;\n",
       "    }\n",
       "\n",
       "    .dataframe tbody tr th {\n",
       "        vertical-align: top;\n",
       "    }\n",
       "\n",
       "    .dataframe thead th {\n",
       "        text-align: right;\n",
       "    }\n",
       "</style>\n",
       "<table border=\"1\" class=\"dataframe\">\n",
       "  <thead>\n",
       "    <tr style=\"text-align: right;\">\n",
       "      <th></th>\n",
       "      <th>Purchase ID</th>\n",
       "      <th>SN</th>\n",
       "      <th>Age</th>\n",
       "      <th>Gender</th>\n",
       "      <th>Item ID</th>\n",
       "      <th>Item Name</th>\n",
       "      <th>Price</th>\n",
       "    </tr>\n",
       "  </thead>\n",
       "  <tbody>\n",
       "    <tr>\n",
       "      <th>0</th>\n",
       "      <td>0</td>\n",
       "      <td>Lisim78</td>\n",
       "      <td>20</td>\n",
       "      <td>Male</td>\n",
       "      <td>108</td>\n",
       "      <td>Extraction, Quickblade Of Trembling Hands</td>\n",
       "      <td>3.53</td>\n",
       "    </tr>\n",
       "    <tr>\n",
       "      <th>1</th>\n",
       "      <td>1</td>\n",
       "      <td>Lisovynya38</td>\n",
       "      <td>40</td>\n",
       "      <td>Male</td>\n",
       "      <td>143</td>\n",
       "      <td>Frenzied Scimitar</td>\n",
       "      <td>1.56</td>\n",
       "    </tr>\n",
       "    <tr>\n",
       "      <th>2</th>\n",
       "      <td>2</td>\n",
       "      <td>Ithergue48</td>\n",
       "      <td>24</td>\n",
       "      <td>Male</td>\n",
       "      <td>92</td>\n",
       "      <td>Final Critic</td>\n",
       "      <td>4.88</td>\n",
       "    </tr>\n",
       "    <tr>\n",
       "      <th>3</th>\n",
       "      <td>3</td>\n",
       "      <td>Chamassasya86</td>\n",
       "      <td>24</td>\n",
       "      <td>Male</td>\n",
       "      <td>100</td>\n",
       "      <td>Blindscythe</td>\n",
       "      <td>3.27</td>\n",
       "    </tr>\n",
       "    <tr>\n",
       "      <th>4</th>\n",
       "      <td>4</td>\n",
       "      <td>Iskosia90</td>\n",
       "      <td>23</td>\n",
       "      <td>Male</td>\n",
       "      <td>131</td>\n",
       "      <td>Fury</td>\n",
       "      <td>1.44</td>\n",
       "    </tr>\n",
       "  </tbody>\n",
       "</table>\n",
       "</div>"
      ],
      "text/plain": [
       "   Purchase ID             SN  Age Gender  Item ID  \\\n",
       "0            0        Lisim78   20   Male      108   \n",
       "1            1    Lisovynya38   40   Male      143   \n",
       "2            2     Ithergue48   24   Male       92   \n",
       "3            3  Chamassasya86   24   Male      100   \n",
       "4            4      Iskosia90   23   Male      131   \n",
       "\n",
       "                                   Item Name  Price  \n",
       "0  Extraction, Quickblade Of Trembling Hands   3.53  \n",
       "1                          Frenzied Scimitar   1.56  \n",
       "2                               Final Critic   4.88  \n",
       "3                                Blindscythe   3.27  \n",
       "4                                       Fury   1.44  "
      ]
     },
     "execution_count": 195,
     "metadata": {},
     "output_type": "execute_result"
    }
   ],
   "source": [
    "purchase_df.head()"
   ]
  },
  {
   "cell_type": "code",
   "execution_count": 196,
   "id": "continent-morris",
   "metadata": {},
   "outputs": [
    {
     "data": {
      "text/plain": [
       "Lisosia93       5\n",
       "Idastidru52     4\n",
       "Iral74          4\n",
       "Chanastnya43    3\n",
       "Zontibe81       3\n",
       "               ..\n",
       "Sondossa69      1\n",
       "Tyialisti80     1\n",
       "Styaduen40      1\n",
       "Eudanu32        1\n",
       "Filrion59       1\n",
       "Name: SN, Length: 576, dtype: int64"
      ]
     },
     "execution_count": 196,
     "metadata": {},
     "output_type": "execute_result"
    }
   ],
   "source": [
    "#display overview of 'SN' column\n",
    "purchase_df['SN'].value_counts()"
   ]
  },
  {
   "cell_type": "code",
   "execution_count": 197,
   "id": "future-found",
   "metadata": {},
   "outputs": [
    {
     "name": "stdout",
     "output_type": "stream",
     "text": [
      "576\n"
     ]
    }
   ],
   "source": [
    "print(len(purchase_df['SN'].unique()))"
   ]
  },
  {
   "cell_type": "code",
   "execution_count": 198,
   "id": "hidden-newcastle",
   "metadata": {},
   "outputs": [],
   "source": [
    "tot_players = pd.Series(purchase_df['SN'].unique())"
   ]
  },
  {
   "cell_type": "code",
   "execution_count": 199,
   "id": "invalid-spanish",
   "metadata": {},
   "outputs": [
    {
     "name": "stdout",
     "output_type": "stream",
     "text": [
      "<class 'pandas.core.series.Series'>\n"
     ]
    }
   ],
   "source": [
    "print((type(tot_players)))"
   ]
  },
  {
   "cell_type": "code",
   "execution_count": 200,
   "id": "collectible-oriental",
   "metadata": {},
   "outputs": [
    {
     "data": {
      "text/plain": [
       "0          Lisim78\n",
       "1      Lisovynya38\n",
       "2       Ithergue48\n",
       "3    Chamassasya86\n",
       "4        Iskosia90\n",
       "dtype: object"
      ]
     },
     "execution_count": 200,
     "metadata": {},
     "output_type": "execute_result"
    }
   ],
   "source": [
    "tot_players.head()"
   ]
  },
  {
   "cell_type": "code",
   "execution_count": 201,
   "id": "catholic-sally",
   "metadata": {},
   "outputs": [],
   "source": [
    "purchase_group = purchase_df.groupby('SN')"
   ]
  },
  {
   "cell_type": "code",
   "execution_count": 202,
   "id": "neutral-tonight",
   "metadata": {},
   "outputs": [
    {
     "ename": "NameError",
     "evalue": "name 'purchase_mehpurchase_group' is not defined",
     "output_type": "error",
     "traceback": [
      "\u001b[0;31m---------------------------------------------------------------------------\u001b[0m",
      "\u001b[0;31mNameError\u001b[0m                                 Traceback (most recent call last)",
      "\u001b[0;32m<ipython-input-202-22acc03e6e87>\u001b[0m in \u001b[0;36m<module>\u001b[0;34m\u001b[0m\n\u001b[0;32m----> 1\u001b[0;31m \u001b[0mpurchase_mehpurchase_group\u001b[0m\u001b[0;34m\u001b[0m\u001b[0;34m\u001b[0m\u001b[0m\n\u001b[0m",
      "\u001b[0;31mNameError\u001b[0m: name 'purchase_mehpurchase_group' is not defined"
     ]
    }
   ],
   "source": [
    "purchase_mehpurchase_group"
   ]
  },
  {
   "cell_type": "code",
   "execution_count": null,
   "id": "published-library",
   "metadata": {},
   "outputs": [],
   "source": []
  },
  {
   "cell_type": "code",
   "execution_count": 203,
   "id": "demographic-boutique",
   "metadata": {},
   "outputs": [],
   "source": [
    "#calculation to find number of unique items \n",
    "uniq_items=purchase_df['Item Name'].unique()"
   ]
  },
  {
   "cell_type": "code",
   "execution_count": 204,
   "id": "disciplinary-phone",
   "metadata": {},
   "outputs": [
    {
     "name": "stdout",
     "output_type": "stream",
     "text": [
      "['Extraction, Quickblade Of Trembling Hands' 'Frenzied Scimitar'\n",
      " 'Final Critic' 'Blindscythe' 'Fury' 'Dreamkiss'\n",
      " 'Interrogator, Blood Blade of the Queen' 'Abyssal Shard' 'Souleater'\n",
      " 'Ghastly Adamantite Protector' 'Singed Onyx Warscythe'\n",
      " 'Renewed Skeletal Katana' \"Bloodlord's Fetish\"\n",
      " 'Bone Crushing Silver Skewer' 'Deadline, Voice Of Subtlety'\n",
      " 'Second Chance' 'Devine' 'Nirvana' 'Blazefury, Protector of Delusions'\n",
      " 'Despair, Favor of Due Diligence' 'Sun Strike, Jaws of Twisted Visions'\n",
      " 'Warped Fetish' 'Severance' 'Persuasion'\n",
      " 'Oathbreaker, Last Hope of the Breaking Storm' 'Demise'\n",
      " 'Blood-Forged Skeletal Spine' 'Stormbringer, Dark Blade of Ending Misery'\n",
      " 'Shadow Strike, Glory of Ending Hope' 'Striker'\n",
      " 'Wolf, Promise of the Moonwalker' \"Faith's Scimitar\"\n",
      " 'Bonecarvin Battle Axe' 'Azurewrath' 'Vengeance Cleaver'\n",
      " 'Haunted Bronzed Bludgeon' 'Ritual Mace' 'Blade of the Grave'\n",
      " 'Thorn, Satchel of Dark Souls' \"Winter's Bite\"\n",
      " 'Thorn, Conqueror of the Corrupted' \"Reaper's Toll\" 'Avenger'\n",
      " 'Shadowsteel' 'Peacekeeper, Wit of Dark Magic' 'Suspension' 'Amnesia'\n",
      " 'Soul Infused Crystal' 'Wolf' 'Relentless Iron Skewer' 'Hero Cane'\n",
      " 'Arcane Gem' 'Dreamsong' 'Darkheart' 'Hailstorm Shadowsteel Scythe'\n",
      " 'Whistling Mithril Warblade' 'Foul Titanium Battle Axe' 'Retribution Axe'\n",
      " 'Rusty Skull' 'Riddle, Tribute of Ended Dreams' 'Chaos, Ender of the End'\n",
      " 'Storm-Weaver, Slayer of Inception' 'Venom Claymore'\n",
      " 'Emberling, Defender of Delusions' 'Netherbane' 'Dawn' 'Primitive Blade'\n",
      " 'Dawne' 'Curved Axe' 'Fate, Vengeance of Eternal Justice'\n",
      " 'Lazarus, Terror of the Earth' 'Lightning, Etcher of the King'\n",
      " 'Betrayal, Whisper of Grieving Widows' 'Exiled Doomblade'\n",
      " 'Undead Crusader' 'Downfall, Scalpel Of The Emperor' 'Sleepwalker'\n",
      " 'Eternal Cleaver' 'Expiration, Warscythe Of Lost Worlds' 'Malificent Bag'\n",
      " 'Mercy, Katana of Dismay' 'Orbit' 'Deathraze' 'Serenity'\n",
      " 'Heartstriker, Legacy of the Light' 'Glimmer, Ender of the Moon'\n",
      " 'Deluge, Edge of the West' 'Crucifer' 'Piece Maker'\n",
      " 'Brutality Ivory Warmace' \"Freak's Bite, Favor of Holy Might\"\n",
      " 'Yearning Crusher' 'Agatha' 'Fiery Glass Crusader' 'Splinter' 'Verdict'\n",
      " 'Warped Iron Scimitar' 'Darkheart, Butcher of the Champion'\n",
      " 'Purgatory, Gem of Regret' 'Woeful Adamantite Claymore'\n",
      " 'Hopeless Ebon Dualblade' \"Warmonger, Gift of Suffering's End\"\n",
      " \"Misery's End\" 'Phantomlight' 'Conqueror Adamantite Mace'\n",
      " \"Dragon's Greatsword\" 'Stormcaller' 'Spada, Etcher of Hatred'\n",
      " \"Twilight's Carver\" 'Putrid Fan' 'Blood Infused Guardian'\n",
      " 'Singed Scalpel' 'Warped Diamond Crusader' 'Endbringer' 'Feral Katana'\n",
      " 'Orenmir' 'Piety, Guardian of Riddles' 'Brimstone' 'Stormfury Mace'\n",
      " 'Frenzy, Defender of the Harvest' \"Solitude's Reaver\" 'Mercenary Sabre'\n",
      " 'Yearning Mageblade' 'Tranquility, Razor of Black Magic'\n",
      " 'Oathbreaker, Spellblade of Trials' 'Aetherius, Boon of the Blessed'\n",
      " 'Righteous Might' 'Victor Iron Spikes' 'Swan Song, Gouger Of Terror'\n",
      " 'Thunderfury Scimitar' 'Splitter, Foe Of Subtlety' 'Restored Bauble'\n",
      " 'The Decapitator' 'Pursuit, Cudgel of Necromancy' 'Lifebender'\n",
      " 'Flux, Destroyer of Due Diligence' 'Mourning Blade' 'Toothpick'\n",
      " \"Hope's End\" 'Torchlight, Bond of Storms' 'Thirsty Iron Reaver'\n",
      " 'Stormfury Longsword' 'Malice, Legacy of the Queen'\n",
      " 'War-Forged Gold Deflector' 'Blazeguard, Reach of Eternity'\n",
      " 'Soul-Forged Steel Shortsword' 'Hellreaver, Heirloom of Inception'\n",
      " 'Heartless Bone Dualblade' 'Scalpel' 'Hatred' 'Crying Steel Sickle'\n",
      " 'The Void, Vengeance of Dark Magic' 'Celeste'\n",
      " 'Ghost Reaver, Longsword of Magic'\n",
      " 'Celeste, Incarnation of the Corrupted' 'Glinting Glass Edge'\n",
      " 'The Oculus, Token of Lost Worlds' 'Massacre' 'Alpha, Oath of Zeal'\n",
      " 'Possessed Core' 'Foul Edge' 'Trickster' 'Fusion Pummel'\n",
      " 'Stormfury Lantern' 'Apocalyptic Battlescythe' 'Unholy Wand'\n",
      " 'Unending Tyranny' 'Ragnarok' 'Rage, Legacy of the Lone Victor'\n",
      " 'Worldbreaker' 'Exiled Mithril Longsword' 'Spectral Diamond Doomblade'\n",
      " 'Vindictive Glass Edge' 'Heartseeker, Reaver of Souls'\n",
      " 'Alpha, Reach of Ending Hope' 'Alpha' 'Betrayer'\n",
      " 'Winterthorn, Defender of Shifting Worlds' \"Gladiator's Glaive\"]\n"
     ]
    }
   ],
   "source": [
    "print(uniq_items)"
   ]
  },
  {
   "cell_type": "code",
   "execution_count": 205,
   "id": "precise-transcript",
   "metadata": {},
   "outputs": [
    {
     "name": "stdout",
     "output_type": "stream",
     "text": [
      "<class 'numpy.ndarray'>\n"
     ]
    }
   ],
   "source": [
    "print(type(uniq_items))"
   ]
  },
  {
   "cell_type": "code",
   "execution_count": 206,
   "id": "challenging-sullivan",
   "metadata": {},
   "outputs": [],
   "source": [
    "#int variable that holds the number of unique items\n",
    "num_uniq_item = len(uniq_items)"
   ]
  },
  {
   "cell_type": "code",
   "execution_count": 207,
   "id": "incorrect-lecture",
   "metadata": {},
   "outputs": [
    {
     "name": "stdout",
     "output_type": "stream",
     "text": [
      "179\n"
     ]
    }
   ],
   "source": [
    "print(num_uniq_item)"
   ]
  },
  {
   "cell_type": "code",
   "execution_count": 208,
   "id": "living-packet",
   "metadata": {},
   "outputs": [],
   "source": [
    "#calculation for average price \n",
    "ave_price_arr = purchase_df['Price'].mean()"
   ]
  },
  {
   "cell_type": "code",
   "execution_count": 209,
   "id": "coordinate-biography",
   "metadata": {},
   "outputs": [
    {
     "name": "stdout",
     "output_type": "stream",
     "text": [
      "3.0509871794871795\n"
     ]
    }
   ],
   "source": [
    "print(ave_price_arr)"
   ]
  },
  {
   "cell_type": "code",
   "execution_count": 210,
   "id": "western-compact",
   "metadata": {},
   "outputs": [
    {
     "name": "stdout",
     "output_type": "stream",
     "text": [
      "<class 'numpy.float64'>\n"
     ]
    }
   ],
   "source": [
    "print(type(ave_price_arr))"
   ]
  },
  {
   "cell_type": "code",
   "execution_count": 211,
   "id": "featured-aircraft",
   "metadata": {},
   "outputs": [],
   "source": [
    "#calculation for number of purchases\n",
    "Purchases  = purchase_df[\"Purchase ID\"]"
   ]
  },
  {
   "cell_type": "code",
   "execution_count": 212,
   "id": "twenty-fisher",
   "metadata": {},
   "outputs": [
    {
     "name": "stdout",
     "output_type": "stream",
     "text": [
      "0        0\n",
      "1        1\n",
      "2        2\n",
      "3        3\n",
      "4        4\n",
      "      ... \n",
      "775    775\n",
      "776    776\n",
      "777    777\n",
      "778    778\n",
      "779    779\n",
      "Name: Purchase ID, Length: 780, dtype: int64\n"
     ]
    }
   ],
   "source": [
    "print(Purchases)"
   ]
  },
  {
   "cell_type": "code",
   "execution_count": 213,
   "id": "associate-refund",
   "metadata": {},
   "outputs": [],
   "source": [
    "numPurchases = len(Purchases)"
   ]
  },
  {
   "cell_type": "code",
   "execution_count": 214,
   "id": "married-wonder",
   "metadata": {},
   "outputs": [
    {
     "name": "stdout",
     "output_type": "stream",
     "text": [
      "780\n"
     ]
    }
   ],
   "source": [
    "print(numPurchases)"
   ]
  },
  {
   "cell_type": "code",
   "execution_count": 215,
   "id": "level-housing",
   "metadata": {},
   "outputs": [],
   "source": [
    "#calculation for total revenue \n",
    "totRev = purchase_df[\"Price\"].sum()"
   ]
  },
  {
   "cell_type": "code",
   "execution_count": 216,
   "id": "critical-stylus",
   "metadata": {},
   "outputs": [
    {
     "name": "stdout",
     "output_type": "stream",
     "text": [
      "2379.77\n"
     ]
    }
   ],
   "source": [
    "print(totRev)"
   ]
  },
  {
   "cell_type": "code",
   "execution_count": 217,
   "id": "informal-answer",
   "metadata": {},
   "outputs": [],
   "source": [
    "Rev = np.float64(0)\n",
    "pyRev = Rev.item()"
   ]
  },
  {
   "cell_type": "code",
   "execution_count": 218,
   "id": "personal-intro",
   "metadata": {},
   "outputs": [],
   "source": [
    "#create dictionary of lists \n",
    "purchDict = {\"Number of Unique Items\":[num_uniq_item],\n",
    "             \"Average Price\": [ave_price_arr],\n",
    "             \"Number of Purchases\": [numPurchases],\n",
    "             \"Total Revenue\": [totRev]}\n"
   ]
  },
  {
   "cell_type": "code",
   "execution_count": 219,
   "id": "smoking-effect",
   "metadata": {},
   "outputs": [],
   "source": [
    "#purch df number 2\n",
    "sum_df= pd.DataFrame(purchDict)"
   ]
  },
  {
   "cell_type": "code",
   "execution_count": 220,
   "id": "joined-official",
   "metadata": {},
   "outputs": [
    {
     "data": {
      "text/html": [
       "<div>\n",
       "<style scoped>\n",
       "    .dataframe tbody tr th:only-of-type {\n",
       "        vertical-align: middle;\n",
       "    }\n",
       "\n",
       "    .dataframe tbody tr th {\n",
       "        vertical-align: top;\n",
       "    }\n",
       "\n",
       "    .dataframe thead th {\n",
       "        text-align: right;\n",
       "    }\n",
       "</style>\n",
       "<table border=\"1\" class=\"dataframe\">\n",
       "  <thead>\n",
       "    <tr style=\"text-align: right;\">\n",
       "      <th></th>\n",
       "      <th>Number of Unique Items</th>\n",
       "      <th>Average Price</th>\n",
       "      <th>Number of Purchases</th>\n",
       "      <th>Total Revenue</th>\n",
       "    </tr>\n",
       "  </thead>\n",
       "  <tbody>\n",
       "    <tr>\n",
       "      <th>0</th>\n",
       "      <td>179</td>\n",
       "      <td>3.050987</td>\n",
       "      <td>780</td>\n",
       "      <td>2379.77</td>\n",
       "    </tr>\n",
       "  </tbody>\n",
       "</table>\n",
       "</div>"
      ],
      "text/plain": [
       "   Number of Unique Items  Average Price  Number of Purchases  Total Revenue\n",
       "0                     179       3.050987                  780        2379.77"
      ]
     },
     "execution_count": 220,
     "metadata": {},
     "output_type": "execute_result"
    }
   ],
   "source": [
    "sum_df"
   ]
  },
  {
   "cell_type": "code",
   "execution_count": 221,
   "id": "finnish-resort",
   "metadata": {},
   "outputs": [],
   "source": [
    "#Gender Demographics \n"
   ]
  },
  {
   "cell_type": "code",
   "execution_count": 222,
   "id": "loaded-modern",
   "metadata": {},
   "outputs": [],
   "source": [
    "#calculation for total count of male players \n",
    "#only_male is new df with info from purchase_df but only males-- contains repeats\n",
    "only_male = purchase_df.loc[purchase_df[\"Gender\"]==\"Male\"]"
   ]
  },
  {
   "cell_type": "code",
   "execution_count": 223,
   "id": "faced-hearts",
   "metadata": {},
   "outputs": [
    {
     "data": {
      "text/html": [
       "<div>\n",
       "<style scoped>\n",
       "    .dataframe tbody tr th:only-of-type {\n",
       "        vertical-align: middle;\n",
       "    }\n",
       "\n",
       "    .dataframe tbody tr th {\n",
       "        vertical-align: top;\n",
       "    }\n",
       "\n",
       "    .dataframe thead th {\n",
       "        text-align: right;\n",
       "    }\n",
       "</style>\n",
       "<table border=\"1\" class=\"dataframe\">\n",
       "  <thead>\n",
       "    <tr style=\"text-align: right;\">\n",
       "      <th></th>\n",
       "      <th>Purchase ID</th>\n",
       "      <th>SN</th>\n",
       "      <th>Age</th>\n",
       "      <th>Gender</th>\n",
       "      <th>Item ID</th>\n",
       "      <th>Item Name</th>\n",
       "      <th>Price</th>\n",
       "    </tr>\n",
       "  </thead>\n",
       "  <tbody>\n",
       "    <tr>\n",
       "      <th>0</th>\n",
       "      <td>0</td>\n",
       "      <td>Lisim78</td>\n",
       "      <td>20</td>\n",
       "      <td>Male</td>\n",
       "      <td>108</td>\n",
       "      <td>Extraction, Quickblade Of Trembling Hands</td>\n",
       "      <td>3.53</td>\n",
       "    </tr>\n",
       "    <tr>\n",
       "      <th>1</th>\n",
       "      <td>1</td>\n",
       "      <td>Lisovynya38</td>\n",
       "      <td>40</td>\n",
       "      <td>Male</td>\n",
       "      <td>143</td>\n",
       "      <td>Frenzied Scimitar</td>\n",
       "      <td>1.56</td>\n",
       "    </tr>\n",
       "    <tr>\n",
       "      <th>2</th>\n",
       "      <td>2</td>\n",
       "      <td>Ithergue48</td>\n",
       "      <td>24</td>\n",
       "      <td>Male</td>\n",
       "      <td>92</td>\n",
       "      <td>Final Critic</td>\n",
       "      <td>4.88</td>\n",
       "    </tr>\n",
       "    <tr>\n",
       "      <th>3</th>\n",
       "      <td>3</td>\n",
       "      <td>Chamassasya86</td>\n",
       "      <td>24</td>\n",
       "      <td>Male</td>\n",
       "      <td>100</td>\n",
       "      <td>Blindscythe</td>\n",
       "      <td>3.27</td>\n",
       "    </tr>\n",
       "    <tr>\n",
       "      <th>4</th>\n",
       "      <td>4</td>\n",
       "      <td>Iskosia90</td>\n",
       "      <td>23</td>\n",
       "      <td>Male</td>\n",
       "      <td>131</td>\n",
       "      <td>Fury</td>\n",
       "      <td>1.44</td>\n",
       "    </tr>\n",
       "    <tr>\n",
       "      <th>...</th>\n",
       "      <td>...</td>\n",
       "      <td>...</td>\n",
       "      <td>...</td>\n",
       "      <td>...</td>\n",
       "      <td>...</td>\n",
       "      <td>...</td>\n",
       "      <td>...</td>\n",
       "    </tr>\n",
       "    <tr>\n",
       "      <th>774</th>\n",
       "      <td>774</td>\n",
       "      <td>Jiskjask80</td>\n",
       "      <td>11</td>\n",
       "      <td>Male</td>\n",
       "      <td>92</td>\n",
       "      <td>Final Critic</td>\n",
       "      <td>4.19</td>\n",
       "    </tr>\n",
       "    <tr>\n",
       "      <th>776</th>\n",
       "      <td>776</td>\n",
       "      <td>Iral74</td>\n",
       "      <td>21</td>\n",
       "      <td>Male</td>\n",
       "      <td>164</td>\n",
       "      <td>Exiled Doomblade</td>\n",
       "      <td>1.63</td>\n",
       "    </tr>\n",
       "    <tr>\n",
       "      <th>777</th>\n",
       "      <td>777</td>\n",
       "      <td>Yathecal72</td>\n",
       "      <td>20</td>\n",
       "      <td>Male</td>\n",
       "      <td>67</td>\n",
       "      <td>Celeste, Incarnation of the Corrupted</td>\n",
       "      <td>3.46</td>\n",
       "    </tr>\n",
       "    <tr>\n",
       "      <th>778</th>\n",
       "      <td>778</td>\n",
       "      <td>Sisur91</td>\n",
       "      <td>7</td>\n",
       "      <td>Male</td>\n",
       "      <td>92</td>\n",
       "      <td>Final Critic</td>\n",
       "      <td>4.19</td>\n",
       "    </tr>\n",
       "    <tr>\n",
       "      <th>779</th>\n",
       "      <td>779</td>\n",
       "      <td>Ennrian78</td>\n",
       "      <td>24</td>\n",
       "      <td>Male</td>\n",
       "      <td>50</td>\n",
       "      <td>Dawn</td>\n",
       "      <td>4.60</td>\n",
       "    </tr>\n",
       "  </tbody>\n",
       "</table>\n",
       "<p>652 rows × 7 columns</p>\n",
       "</div>"
      ],
      "text/plain": [
       "     Purchase ID             SN  Age Gender  Item ID  \\\n",
       "0              0        Lisim78   20   Male      108   \n",
       "1              1    Lisovynya38   40   Male      143   \n",
       "2              2     Ithergue48   24   Male       92   \n",
       "3              3  Chamassasya86   24   Male      100   \n",
       "4              4      Iskosia90   23   Male      131   \n",
       "..           ...            ...  ...    ...      ...   \n",
       "774          774     Jiskjask80   11   Male       92   \n",
       "776          776         Iral74   21   Male      164   \n",
       "777          777     Yathecal72   20   Male       67   \n",
       "778          778        Sisur91    7   Male       92   \n",
       "779          779      Ennrian78   24   Male       50   \n",
       "\n",
       "                                     Item Name  Price  \n",
       "0    Extraction, Quickblade Of Trembling Hands   3.53  \n",
       "1                            Frenzied Scimitar   1.56  \n",
       "2                                 Final Critic   4.88  \n",
       "3                                  Blindscythe   3.27  \n",
       "4                                         Fury   1.44  \n",
       "..                                         ...    ...  \n",
       "774                               Final Critic   4.19  \n",
       "776                           Exiled Doomblade   1.63  \n",
       "777      Celeste, Incarnation of the Corrupted   3.46  \n",
       "778                               Final Critic   4.19  \n",
       "779                                       Dawn   4.60  \n",
       "\n",
       "[652 rows x 7 columns]"
      ]
     },
     "execution_count": 223,
     "metadata": {},
     "output_type": "execute_result"
    }
   ],
   "source": [
    "only_male\n"
   ]
  },
  {
   "cell_type": "code",
   "execution_count": 224,
   "id": "loving-activity",
   "metadata": {},
   "outputs": [],
   "source": [
    "male_uniq = only_male['SN'].unique()"
   ]
  },
  {
   "cell_type": "code",
   "execution_count": 225,
   "id": "intermediate-necessity",
   "metadata": {},
   "outputs": [],
   "source": [
    "male_count=(len(male_uniq))"
   ]
  },
  {
   "cell_type": "code",
   "execution_count": 226,
   "id": "received-attack",
   "metadata": {},
   "outputs": [
    {
     "name": "stdout",
     "output_type": "stream",
     "text": [
      "<class 'pandas.core.series.Series'>\n"
     ]
    }
   ],
   "source": [
    "#calculate percent of total players that are male\n",
    "print(type(tot_players))"
   ]
  },
  {
   "cell_type": "code",
   "execution_count": 227,
   "id": "affiliated-parent",
   "metadata": {},
   "outputs": [],
   "source": [
    "#get the number of total players-- store as an 'int' variable\n",
    "num_players = len(tot_players)"
   ]
  },
  {
   "cell_type": "code",
   "execution_count": 228,
   "id": "confirmed-twist",
   "metadata": {},
   "outputs": [],
   "source": [
    "percent_male = (male_count/num_players)"
   ]
  },
  {
   "cell_type": "code",
   "execution_count": 229,
   "id": "christian-czech",
   "metadata": {},
   "outputs": [
    {
     "name": "stdout",
     "output_type": "stream",
     "text": [
      "0.8402777777777778\n"
     ]
    }
   ],
   "source": [
    "print(percent_male)"
   ]
  },
  {
   "cell_type": "code",
   "execution_count": 230,
   "id": "absent-buffer",
   "metadata": {},
   "outputs": [],
   "source": [
    "#calculation for total count of female players \n",
    "#only_fem is new df with info from purchase_df but only females-- contains repeats\n",
    "only_fem = purchase_df.loc[purchase_df[\"Gender\"]==\"Female\"]"
   ]
  },
  {
   "cell_type": "code",
   "execution_count": 231,
   "id": "spanish-lincoln",
   "metadata": {},
   "outputs": [
    {
     "data": {
      "text/html": [
       "<div>\n",
       "<style scoped>\n",
       "    .dataframe tbody tr th:only-of-type {\n",
       "        vertical-align: middle;\n",
       "    }\n",
       "\n",
       "    .dataframe tbody tr th {\n",
       "        vertical-align: top;\n",
       "    }\n",
       "\n",
       "    .dataframe thead th {\n",
       "        text-align: right;\n",
       "    }\n",
       "</style>\n",
       "<table border=\"1\" class=\"dataframe\">\n",
       "  <thead>\n",
       "    <tr style=\"text-align: right;\">\n",
       "      <th></th>\n",
       "      <th>Purchase ID</th>\n",
       "      <th>SN</th>\n",
       "      <th>Age</th>\n",
       "      <th>Gender</th>\n",
       "      <th>Item ID</th>\n",
       "      <th>Item Name</th>\n",
       "      <th>Price</th>\n",
       "    </tr>\n",
       "  </thead>\n",
       "  <tbody>\n",
       "    <tr>\n",
       "      <th>15</th>\n",
       "      <td>15</td>\n",
       "      <td>Lisassa64</td>\n",
       "      <td>21</td>\n",
       "      <td>Female</td>\n",
       "      <td>98</td>\n",
       "      <td>Deadline, Voice Of Subtlety</td>\n",
       "      <td>2.89</td>\n",
       "    </tr>\n",
       "    <tr>\n",
       "      <th>18</th>\n",
       "      <td>18</td>\n",
       "      <td>Reunasu60</td>\n",
       "      <td>22</td>\n",
       "      <td>Female</td>\n",
       "      <td>82</td>\n",
       "      <td>Nirvana</td>\n",
       "      <td>4.90</td>\n",
       "    </tr>\n",
       "    <tr>\n",
       "      <th>38</th>\n",
       "      <td>38</td>\n",
       "      <td>Reulae52</td>\n",
       "      <td>10</td>\n",
       "      <td>Female</td>\n",
       "      <td>116</td>\n",
       "      <td>Renewed Skeletal Katana</td>\n",
       "      <td>4.18</td>\n",
       "    </tr>\n",
       "    <tr>\n",
       "      <th>41</th>\n",
       "      <td>41</td>\n",
       "      <td>Assosia88</td>\n",
       "      <td>20</td>\n",
       "      <td>Female</td>\n",
       "      <td>7</td>\n",
       "      <td>Thorn, Satchel of Dark Souls</td>\n",
       "      <td>1.33</td>\n",
       "    </tr>\n",
       "    <tr>\n",
       "      <th>55</th>\n",
       "      <td>55</td>\n",
       "      <td>Phaelap26</td>\n",
       "      <td>25</td>\n",
       "      <td>Female</td>\n",
       "      <td>84</td>\n",
       "      <td>Arcane Gem</td>\n",
       "      <td>3.79</td>\n",
       "    </tr>\n",
       "    <tr>\n",
       "      <th>...</th>\n",
       "      <td>...</td>\n",
       "      <td>...</td>\n",
       "      <td>...</td>\n",
       "      <td>...</td>\n",
       "      <td>...</td>\n",
       "      <td>...</td>\n",
       "      <td>...</td>\n",
       "    </tr>\n",
       "    <tr>\n",
       "      <th>731</th>\n",
       "      <td>731</td>\n",
       "      <td>Eudanu84</td>\n",
       "      <td>22</td>\n",
       "      <td>Female</td>\n",
       "      <td>12</td>\n",
       "      <td>Dawne</td>\n",
       "      <td>1.02</td>\n",
       "    </tr>\n",
       "    <tr>\n",
       "      <th>740</th>\n",
       "      <td>740</td>\n",
       "      <td>Reunasu60</td>\n",
       "      <td>22</td>\n",
       "      <td>Female</td>\n",
       "      <td>127</td>\n",
       "      <td>Heartseeker, Reaver of Souls</td>\n",
       "      <td>3.92</td>\n",
       "    </tr>\n",
       "    <tr>\n",
       "      <th>754</th>\n",
       "      <td>754</td>\n",
       "      <td>Pheosurllorin41</td>\n",
       "      <td>23</td>\n",
       "      <td>Female</td>\n",
       "      <td>79</td>\n",
       "      <td>Alpha, Oath of Zeal</td>\n",
       "      <td>4.05</td>\n",
       "    </tr>\n",
       "    <tr>\n",
       "      <th>767</th>\n",
       "      <td>767</td>\n",
       "      <td>Ilmol66</td>\n",
       "      <td>8</td>\n",
       "      <td>Female</td>\n",
       "      <td>92</td>\n",
       "      <td>Final Critic</td>\n",
       "      <td>4.88</td>\n",
       "    </tr>\n",
       "    <tr>\n",
       "      <th>775</th>\n",
       "      <td>775</td>\n",
       "      <td>Aethedru70</td>\n",
       "      <td>21</td>\n",
       "      <td>Female</td>\n",
       "      <td>60</td>\n",
       "      <td>Wolf</td>\n",
       "      <td>3.54</td>\n",
       "    </tr>\n",
       "  </tbody>\n",
       "</table>\n",
       "<p>113 rows × 7 columns</p>\n",
       "</div>"
      ],
      "text/plain": [
       "     Purchase ID               SN  Age  Gender  Item ID  \\\n",
       "15            15        Lisassa64   21  Female       98   \n",
       "18            18        Reunasu60   22  Female       82   \n",
       "38            38         Reulae52   10  Female      116   \n",
       "41            41        Assosia88   20  Female        7   \n",
       "55            55        Phaelap26   25  Female       84   \n",
       "..           ...              ...  ...     ...      ...   \n",
       "731          731         Eudanu84   22  Female       12   \n",
       "740          740        Reunasu60   22  Female      127   \n",
       "754          754  Pheosurllorin41   23  Female       79   \n",
       "767          767          Ilmol66    8  Female       92   \n",
       "775          775       Aethedru70   21  Female       60   \n",
       "\n",
       "                        Item Name  Price  \n",
       "15    Deadline, Voice Of Subtlety   2.89  \n",
       "18                        Nirvana   4.90  \n",
       "38        Renewed Skeletal Katana   4.18  \n",
       "41   Thorn, Satchel of Dark Souls   1.33  \n",
       "55                     Arcane Gem   3.79  \n",
       "..                            ...    ...  \n",
       "731                         Dawne   1.02  \n",
       "740  Heartseeker, Reaver of Souls   3.92  \n",
       "754           Alpha, Oath of Zeal   4.05  \n",
       "767                  Final Critic   4.88  \n",
       "775                          Wolf   3.54  \n",
       "\n",
       "[113 rows x 7 columns]"
      ]
     },
     "execution_count": 231,
     "metadata": {},
     "output_type": "execute_result"
    }
   ],
   "source": [
    "only_fem"
   ]
  },
  {
   "cell_type": "code",
   "execution_count": 232,
   "id": "speaking-pharmaceutical",
   "metadata": {},
   "outputs": [],
   "source": [
    "#creates array of unique female SN\n",
    "fem_uniq = only_fem['SN'].unique()"
   ]
  },
  {
   "cell_type": "code",
   "execution_count": 233,
   "id": "surgical-fleece",
   "metadata": {},
   "outputs": [
    {
     "data": {
      "text/plain": [
       "array(['Lisassa64', 'Reunasu60', 'Reulae52', 'Assosia88', 'Phaelap26',\n",
       "       'Chanastsda67', 'Hari50', 'Marilsa69', 'Mindadaran26', 'Heudai45',\n",
       "       'Jiskjask60', 'Umolrian85', 'Chadistaya75', 'Iskichinya81',\n",
       "       'Phyali88', 'Frichaststa61', 'Frichosia58', 'Yathecal82',\n",
       "       'Adastirin33', 'Aillyrin83', 'Marast30', 'Sondim68',\n",
       "       'Heosurnuru52', 'Syathe73', 'Baelollodeu94', 'Maradaran90',\n",
       "       'Ialallo29', 'Haisurra41', 'Chamjask73', 'Tyaenasti87',\n",
       "       'Taeduenu92', 'Quanunwen42', 'Tyidaim51', 'Aerithllora36',\n",
       "       'Yana46', 'Wailin72', 'Marim28', 'Syalollorap93', 'Mindilsa34',\n",
       "       'Tyidainu31', 'Layjask75', 'Iduenu77', 'Phaedue89', 'Ilmol66',\n",
       "       'Chamilsala65', 'Heuli25', 'Chamirrasya33', 'Sida61', 'Heunadil74',\n",
       "       'Lisotesta51', 'Eusri70', 'Leyirra83', 'Aiduesu86',\n",
       "       'Frichosiala98', 'Aisurdru79', 'Sondassasya91', 'Chanossast57',\n",
       "       'Chanjask65', 'Sondistanya61', 'Eudanu32', 'Sundjask71',\n",
       "       'Errian63', 'Aidain51', 'Sally64', 'Isurria36', 'Pheosurllorin41',\n",
       "       'Lassadarsda57', 'Yoishirrala98', 'Chanirra79', 'Rithe53',\n",
       "       'Quanrion96', 'Lisirra58', 'Chamast86', 'Quilassa66', 'Assilsan72',\n",
       "       'Inasuir29', 'Tyaelistidru84', 'Yarithrin84', 'Tyaelly53',\n",
       "       'Eudanu84', 'Aethedru70'], dtype=object)"
      ]
     },
     "execution_count": 233,
     "metadata": {},
     "output_type": "execute_result"
    }
   ],
   "source": [
    "fem_uniq"
   ]
  },
  {
   "cell_type": "code",
   "execution_count": 234,
   "id": "excessive-ready",
   "metadata": {},
   "outputs": [],
   "source": [
    "fem_count = len(fem_uniq)"
   ]
  },
  {
   "cell_type": "code",
   "execution_count": 235,
   "id": "certified-continuity",
   "metadata": {},
   "outputs": [
    {
     "name": "stdout",
     "output_type": "stream",
     "text": [
      "81\n"
     ]
    }
   ],
   "source": [
    "print(fem_count)"
   ]
  },
  {
   "cell_type": "code",
   "execution_count": 236,
   "id": "bright-japan",
   "metadata": {},
   "outputs": [],
   "source": [
    "#calculate percent of female players and store in variable called 'percent_fem'\n",
    "percent_fem = (fem_count/num_players)"
   ]
  },
  {
   "cell_type": "code",
   "execution_count": 237,
   "id": "acute-measure",
   "metadata": {},
   "outputs": [
    {
     "name": "stdout",
     "output_type": "stream",
     "text": [
      "0.140625\n"
     ]
    }
   ],
   "source": [
    "print(percent_fem)"
   ]
  },
  {
   "cell_type": "code",
   "execution_count": 238,
   "id": "appointed-journal",
   "metadata": {},
   "outputs": [
    {
     "data": {
      "text/plain": [
       "Male                     652\n",
       "Female                   113\n",
       "Other / Non-Disclosed     15\n",
       "Name: Gender, dtype: int64"
      ]
     },
     "execution_count": 238,
     "metadata": {},
     "output_type": "execute_result"
    }
   ],
   "source": [
    "purchase_df[\"Gender\"].value_counts()"
   ]
  },
  {
   "cell_type": "code",
   "execution_count": 239,
   "id": "everyday-judge",
   "metadata": {},
   "outputs": [],
   "source": [
    "only_other = purchase_df.loc[purchase_df[\"Gender\"]==\"Other / Non-Disclosed\"]"
   ]
  },
  {
   "cell_type": "code",
   "execution_count": 240,
   "id": "opposite-feature",
   "metadata": {},
   "outputs": [
    {
     "data": {
      "text/html": [
       "<div>\n",
       "<style scoped>\n",
       "    .dataframe tbody tr th:only-of-type {\n",
       "        vertical-align: middle;\n",
       "    }\n",
       "\n",
       "    .dataframe tbody tr th {\n",
       "        vertical-align: top;\n",
       "    }\n",
       "\n",
       "    .dataframe thead th {\n",
       "        text-align: right;\n",
       "    }\n",
       "</style>\n",
       "<table border=\"1\" class=\"dataframe\">\n",
       "  <thead>\n",
       "    <tr style=\"text-align: right;\">\n",
       "      <th></th>\n",
       "      <th>Purchase ID</th>\n",
       "      <th>SN</th>\n",
       "      <th>Age</th>\n",
       "      <th>Gender</th>\n",
       "      <th>Item ID</th>\n",
       "      <th>Item Name</th>\n",
       "      <th>Price</th>\n",
       "    </tr>\n",
       "  </thead>\n",
       "  <tbody>\n",
       "    <tr>\n",
       "      <th>9</th>\n",
       "      <td>9</td>\n",
       "      <td>Chanosian48</td>\n",
       "      <td>35</td>\n",
       "      <td>Other / Non-Disclosed</td>\n",
       "      <td>136</td>\n",
       "      <td>Ghastly Adamantite Protector</td>\n",
       "      <td>3.58</td>\n",
       "    </tr>\n",
       "    <tr>\n",
       "      <th>22</th>\n",
       "      <td>22</td>\n",
       "      <td>Siarithria38</td>\n",
       "      <td>38</td>\n",
       "      <td>Other / Non-Disclosed</td>\n",
       "      <td>24</td>\n",
       "      <td>Warped Fetish</td>\n",
       "      <td>3.81</td>\n",
       "    </tr>\n",
       "    <tr>\n",
       "      <th>82</th>\n",
       "      <td>82</td>\n",
       "      <td>Haerithp41</td>\n",
       "      <td>16</td>\n",
       "      <td>Other / Non-Disclosed</td>\n",
       "      <td>160</td>\n",
       "      <td>Azurewrath</td>\n",
       "      <td>4.40</td>\n",
       "    </tr>\n",
       "    <tr>\n",
       "      <th>111</th>\n",
       "      <td>111</td>\n",
       "      <td>Sundim98</td>\n",
       "      <td>21</td>\n",
       "      <td>Other / Non-Disclosed</td>\n",
       "      <td>41</td>\n",
       "      <td>Orbit</td>\n",
       "      <td>4.75</td>\n",
       "    </tr>\n",
       "    <tr>\n",
       "      <th>228</th>\n",
       "      <td>228</td>\n",
       "      <td>Jiskirran77</td>\n",
       "      <td>20</td>\n",
       "      <td>Other / Non-Disclosed</td>\n",
       "      <td>80</td>\n",
       "      <td>Dreamsong</td>\n",
       "      <td>3.39</td>\n",
       "    </tr>\n",
       "    <tr>\n",
       "      <th>237</th>\n",
       "      <td>237</td>\n",
       "      <td>Idairin51</td>\n",
       "      <td>20</td>\n",
       "      <td>Other / Non-Disclosed</td>\n",
       "      <td>16</td>\n",
       "      <td>Restored Bauble</td>\n",
       "      <td>3.55</td>\n",
       "    </tr>\n",
       "    <tr>\n",
       "      <th>242</th>\n",
       "      <td>242</td>\n",
       "      <td>Eodaisu60</td>\n",
       "      <td>16</td>\n",
       "      <td>Other / Non-Disclosed</td>\n",
       "      <td>39</td>\n",
       "      <td>Betrayal, Whisper of Grieving Widows</td>\n",
       "      <td>3.94</td>\n",
       "    </tr>\n",
       "    <tr>\n",
       "      <th>291</th>\n",
       "      <td>291</td>\n",
       "      <td>Idairin51</td>\n",
       "      <td>20</td>\n",
       "      <td>Other / Non-Disclosed</td>\n",
       "      <td>35</td>\n",
       "      <td>Heartless Bone Dualblade</td>\n",
       "      <td>3.45</td>\n",
       "    </tr>\n",
       "    <tr>\n",
       "      <th>350</th>\n",
       "      <td>350</td>\n",
       "      <td>Rairith81</td>\n",
       "      <td>15</td>\n",
       "      <td>Other / Non-Disclosed</td>\n",
       "      <td>34</td>\n",
       "      <td>Retribution Axe</td>\n",
       "      <td>2.22</td>\n",
       "    </tr>\n",
       "    <tr>\n",
       "      <th>401</th>\n",
       "      <td>401</td>\n",
       "      <td>Lirtim36</td>\n",
       "      <td>15</td>\n",
       "      <td>Other / Non-Disclosed</td>\n",
       "      <td>46</td>\n",
       "      <td>Hopeless Ebon Dualblade</td>\n",
       "      <td>1.33</td>\n",
       "    </tr>\n",
       "    <tr>\n",
       "      <th>484</th>\n",
       "      <td>484</td>\n",
       "      <td>Chanosian48</td>\n",
       "      <td>35</td>\n",
       "      <td>Other / Non-Disclosed</td>\n",
       "      <td>39</td>\n",
       "      <td>Betrayal, Whisper of Grieving Widows</td>\n",
       "      <td>3.94</td>\n",
       "    </tr>\n",
       "    <tr>\n",
       "      <th>549</th>\n",
       "      <td>549</td>\n",
       "      <td>Maluncil97</td>\n",
       "      <td>25</td>\n",
       "      <td>Other / Non-Disclosed</td>\n",
       "      <td>146</td>\n",
       "      <td>Warped Iron Scimitar</td>\n",
       "      <td>3.10</td>\n",
       "    </tr>\n",
       "    <tr>\n",
       "      <th>629</th>\n",
       "      <td>629</td>\n",
       "      <td>Maluncil97</td>\n",
       "      <td>25</td>\n",
       "      <td>Other / Non-Disclosed</td>\n",
       "      <td>107</td>\n",
       "      <td>Splitter, Foe Of Subtlety</td>\n",
       "      <td>2.18</td>\n",
       "    </tr>\n",
       "    <tr>\n",
       "      <th>637</th>\n",
       "      <td>637</td>\n",
       "      <td>Airi27</td>\n",
       "      <td>24</td>\n",
       "      <td>Other / Non-Disclosed</td>\n",
       "      <td>163</td>\n",
       "      <td>Thunderfury Scimitar</td>\n",
       "      <td>3.45</td>\n",
       "    </tr>\n",
       "    <tr>\n",
       "      <th>747</th>\n",
       "      <td>747</td>\n",
       "      <td>Siarithria38</td>\n",
       "      <td>38</td>\n",
       "      <td>Other / Non-Disclosed</td>\n",
       "      <td>146</td>\n",
       "      <td>Warped Iron Scimitar</td>\n",
       "      <td>3.10</td>\n",
       "    </tr>\n",
       "  </tbody>\n",
       "</table>\n",
       "</div>"
      ],
      "text/plain": [
       "     Purchase ID            SN  Age                 Gender  Item ID  \\\n",
       "9              9   Chanosian48   35  Other / Non-Disclosed      136   \n",
       "22            22  Siarithria38   38  Other / Non-Disclosed       24   \n",
       "82            82    Haerithp41   16  Other / Non-Disclosed      160   \n",
       "111          111      Sundim98   21  Other / Non-Disclosed       41   \n",
       "228          228   Jiskirran77   20  Other / Non-Disclosed       80   \n",
       "237          237     Idairin51   20  Other / Non-Disclosed       16   \n",
       "242          242     Eodaisu60   16  Other / Non-Disclosed       39   \n",
       "291          291     Idairin51   20  Other / Non-Disclosed       35   \n",
       "350          350     Rairith81   15  Other / Non-Disclosed       34   \n",
       "401          401      Lirtim36   15  Other / Non-Disclosed       46   \n",
       "484          484   Chanosian48   35  Other / Non-Disclosed       39   \n",
       "549          549    Maluncil97   25  Other / Non-Disclosed      146   \n",
       "629          629    Maluncil97   25  Other / Non-Disclosed      107   \n",
       "637          637        Airi27   24  Other / Non-Disclosed      163   \n",
       "747          747  Siarithria38   38  Other / Non-Disclosed      146   \n",
       "\n",
       "                                Item Name  Price  \n",
       "9            Ghastly Adamantite Protector   3.58  \n",
       "22                          Warped Fetish   3.81  \n",
       "82                             Azurewrath   4.40  \n",
       "111                                 Orbit   4.75  \n",
       "228                             Dreamsong   3.39  \n",
       "237                       Restored Bauble   3.55  \n",
       "242  Betrayal, Whisper of Grieving Widows   3.94  \n",
       "291              Heartless Bone Dualblade   3.45  \n",
       "350                       Retribution Axe   2.22  \n",
       "401               Hopeless Ebon Dualblade   1.33  \n",
       "484  Betrayal, Whisper of Grieving Widows   3.94  \n",
       "549                  Warped Iron Scimitar   3.10  \n",
       "629             Splitter, Foe Of Subtlety   2.18  \n",
       "637                  Thunderfury Scimitar   3.45  \n",
       "747                  Warped Iron Scimitar   3.10  "
      ]
     },
     "execution_count": 240,
     "metadata": {},
     "output_type": "execute_result"
    }
   ],
   "source": [
    "only_other\n"
   ]
  },
  {
   "cell_type": "code",
   "execution_count": 241,
   "id": "connected-institute",
   "metadata": {},
   "outputs": [],
   "source": [
    "other_uniq = only_other[\"SN\"].unique()"
   ]
  },
  {
   "cell_type": "code",
   "execution_count": 242,
   "id": "emerging-antenna",
   "metadata": {},
   "outputs": [],
   "source": [
    "other_count = len(other_uniq)"
   ]
  },
  {
   "cell_type": "code",
   "execution_count": 243,
   "id": "collaborative-mirror",
   "metadata": {},
   "outputs": [
    {
     "name": "stdout",
     "output_type": "stream",
     "text": [
      "11\n"
     ]
    }
   ],
   "source": [
    "print(other_count)"
   ]
  },
  {
   "cell_type": "code",
   "execution_count": 244,
   "id": "alleged-greenhouse",
   "metadata": {},
   "outputs": [],
   "source": [
    "percent_other = (other_count/num_players)"
   ]
  },
  {
   "cell_type": "code",
   "execution_count": 245,
   "id": "electoral-surprise",
   "metadata": {},
   "outputs": [
    {
     "name": "stdout",
     "output_type": "stream",
     "text": [
      "0.019097222222222224\n"
     ]
    }
   ],
   "source": [
    "print(percent_other)"
   ]
  },
  {
   "cell_type": "code",
   "execution_count": 246,
   "id": "demographic-relevance",
   "metadata": {},
   "outputs": [],
   "source": [
    "#try dictionary of lists\n"
   ]
  },
  {
   "cell_type": "code",
   "execution_count": 247,
   "id": "nervous-sentence",
   "metadata": {},
   "outputs": [],
   "source": [
    "#creation of lists\n",
    "counts = [male_count,fem_count,other_count]"
   ]
  },
  {
   "cell_type": "code",
   "execution_count": 248,
   "id": "sporting-little",
   "metadata": {},
   "outputs": [],
   "source": [
    "percents = [percent_male,percent_fem,percent_other]"
   ]
  },
  {
   "cell_type": "code",
   "execution_count": 249,
   "id": "enormous-hands",
   "metadata": {},
   "outputs": [],
   "source": [
    "#create dictionary of lists \n",
    "gender_dict = {\"Total Counts\": [counts],\n",
    "               \"Percentage of Players\":[percents]}"
   ]
  },
  {
   "cell_type": "code",
   "execution_count": 250,
   "id": "indoor-median",
   "metadata": {},
   "outputs": [],
   "source": [
    "gender_df = pd.DataFrame(gender_dict)"
   ]
  },
  {
   "cell_type": "code",
   "execution_count": 251,
   "id": "broad-strengthening",
   "metadata": {},
   "outputs": [
    {
     "data": {
      "text/html": [
       "<div>\n",
       "<style scoped>\n",
       "    .dataframe tbody tr th:only-of-type {\n",
       "        vertical-align: middle;\n",
       "    }\n",
       "\n",
       "    .dataframe tbody tr th {\n",
       "        vertical-align: top;\n",
       "    }\n",
       "\n",
       "    .dataframe thead th {\n",
       "        text-align: right;\n",
       "    }\n",
       "</style>\n",
       "<table border=\"1\" class=\"dataframe\">\n",
       "  <thead>\n",
       "    <tr style=\"text-align: right;\">\n",
       "      <th></th>\n",
       "      <th>Total Counts</th>\n",
       "      <th>Percentage of Players</th>\n",
       "    </tr>\n",
       "  </thead>\n",
       "  <tbody>\n",
       "    <tr>\n",
       "      <th>0</th>\n",
       "      <td>[484, 81, 11]</td>\n",
       "      <td>[0.8402777777777778, 0.140625, 0.0190972222222...</td>\n",
       "    </tr>\n",
       "  </tbody>\n",
       "</table>\n",
       "</div>"
      ],
      "text/plain": [
       "    Total Counts                              Percentage of Players\n",
       "0  [484, 81, 11]  [0.8402777777777778, 0.140625, 0.0190972222222..."
      ]
     },
     "execution_count": 251,
     "metadata": {},
     "output_type": "execute_result"
    }
   ],
   "source": [
    "gender_df"
   ]
  },
  {
   "cell_type": "code",
   "execution_count": 252,
   "id": "subtle-thong",
   "metadata": {},
   "outputs": [],
   "source": [
    "#try with list of dictionaries \n"
   ]
  },
  {
   "cell_type": "code",
   "execution_count": 253,
   "id": "congressional-dancing",
   "metadata": {},
   "outputs": [],
   "source": [
    "#create list of dictionaries\n",
    "gender_list = [{\"Total Count\": male_count,\"Percentage of Players\": percent_male},\n",
    "               {\"Total Count\":fem_count,\"Percentage of Players\":percent_fem},\n",
    "               {\"Total Count\":other_count,\"Percentage of Players\":percent_other}]"
   ]
  },
  {
   "cell_type": "code",
   "execution_count": 254,
   "id": "present-hands",
   "metadata": {},
   "outputs": [],
   "source": [
    "gender_df2 = pd.DataFrame(gender_list)"
   ]
  },
  {
   "cell_type": "code",
   "execution_count": 255,
   "id": "appointed-trainer",
   "metadata": {},
   "outputs": [
    {
     "data": {
      "text/html": [
       "<div>\n",
       "<style scoped>\n",
       "    .dataframe tbody tr th:only-of-type {\n",
       "        vertical-align: middle;\n",
       "    }\n",
       "\n",
       "    .dataframe tbody tr th {\n",
       "        vertical-align: top;\n",
       "    }\n",
       "\n",
       "    .dataframe thead th {\n",
       "        text-align: right;\n",
       "    }\n",
       "</style>\n",
       "<table border=\"1\" class=\"dataframe\">\n",
       "  <thead>\n",
       "    <tr style=\"text-align: right;\">\n",
       "      <th></th>\n",
       "      <th>Total Count</th>\n",
       "      <th>Percentage of Players</th>\n",
       "    </tr>\n",
       "  </thead>\n",
       "  <tbody>\n",
       "    <tr>\n",
       "      <th>0</th>\n",
       "      <td>484</td>\n",
       "      <td>0.840278</td>\n",
       "    </tr>\n",
       "    <tr>\n",
       "      <th>1</th>\n",
       "      <td>81</td>\n",
       "      <td>0.140625</td>\n",
       "    </tr>\n",
       "    <tr>\n",
       "      <th>2</th>\n",
       "      <td>11</td>\n",
       "      <td>0.019097</td>\n",
       "    </tr>\n",
       "  </tbody>\n",
       "</table>\n",
       "</div>"
      ],
      "text/plain": [
       "   Total Count  Percentage of Players\n",
       "0          484               0.840278\n",
       "1           81               0.140625\n",
       "2           11               0.019097"
      ]
     },
     "execution_count": 255,
     "metadata": {},
     "output_type": "execute_result"
    }
   ],
   "source": [
    "gender_df2"
   ]
  },
  {
   "cell_type": "code",
   "execution_count": 256,
   "id": "restricted-event",
   "metadata": {},
   "outputs": [],
   "source": [
    "gender_df2.index=['Male','Female', 'Other / Nondisclosed']"
   ]
  },
  {
   "cell_type": "code",
   "execution_count": 257,
   "id": "cardiac-player",
   "metadata": {},
   "outputs": [
    {
     "data": {
      "text/html": [
       "<div>\n",
       "<style scoped>\n",
       "    .dataframe tbody tr th:only-of-type {\n",
       "        vertical-align: middle;\n",
       "    }\n",
       "\n",
       "    .dataframe tbody tr th {\n",
       "        vertical-align: top;\n",
       "    }\n",
       "\n",
       "    .dataframe thead th {\n",
       "        text-align: right;\n",
       "    }\n",
       "</style>\n",
       "<table border=\"1\" class=\"dataframe\">\n",
       "  <thead>\n",
       "    <tr style=\"text-align: right;\">\n",
       "      <th></th>\n",
       "      <th>Total Count</th>\n",
       "      <th>Percentage of Players</th>\n",
       "    </tr>\n",
       "  </thead>\n",
       "  <tbody>\n",
       "    <tr>\n",
       "      <th>Male</th>\n",
       "      <td>484</td>\n",
       "      <td>0.840278</td>\n",
       "    </tr>\n",
       "    <tr>\n",
       "      <th>Female</th>\n",
       "      <td>81</td>\n",
       "      <td>0.140625</td>\n",
       "    </tr>\n",
       "    <tr>\n",
       "      <th>Other / Nondisclosed</th>\n",
       "      <td>11</td>\n",
       "      <td>0.019097</td>\n",
       "    </tr>\n",
       "  </tbody>\n",
       "</table>\n",
       "</div>"
      ],
      "text/plain": [
       "                      Total Count  Percentage of Players\n",
       "Male                          484               0.840278\n",
       "Female                         81               0.140625\n",
       "Other / Nondisclosed           11               0.019097"
      ]
     },
     "execution_count": 257,
     "metadata": {},
     "output_type": "execute_result"
    }
   ],
   "source": [
    "gender_df2"
   ]
  },
  {
   "cell_type": "code",
   "execution_count": 258,
   "id": "successful-chart",
   "metadata": {},
   "outputs": [],
   "source": [
    "#purchasing analysis (gender)\n"
   ]
  },
  {
   "cell_type": "code",
   "execution_count": 259,
   "id": "desirable-damages",
   "metadata": {},
   "outputs": [],
   "source": [
    "gender_group_pur = purchase_df.groupby(\"Gender\")"
   ]
  },
  {
   "cell_type": "code",
   "execution_count": 260,
   "id": "falling-baghdad",
   "metadata": {},
   "outputs": [],
   "source": [
    "gender_group_purchase = gender_group_pur[\"Gender\"].count()"
   ]
  },
  {
   "cell_type": "code",
   "execution_count": 261,
   "id": "residential-sperm",
   "metadata": {},
   "outputs": [
    {
     "data": {
      "text/plain": [
       "Gender\n",
       "Female                   113\n",
       "Male                     652\n",
       "Other / Non-Disclosed     15\n",
       "Name: Gender, dtype: int64"
      ]
     },
     "execution_count": 261,
     "metadata": {},
     "output_type": "execute_result"
    }
   ],
   "source": [
    "gender_group_purchase"
   ]
  },
  {
   "cell_type": "code",
   "execution_count": 262,
   "id": "relevant-vertical",
   "metadata": {},
   "outputs": [],
   "source": [
    "avg_price_gen = gender_group_pur[\"Price\"].mean()"
   ]
  },
  {
   "cell_type": "code",
   "execution_count": 263,
   "id": "offshore-adolescent",
   "metadata": {},
   "outputs": [
    {
     "data": {
      "text/plain": [
       "Gender\n",
       "Female                   3.203009\n",
       "Male                     3.017853\n",
       "Other / Non-Disclosed    3.346000\n",
       "Name: Price, dtype: float64"
      ]
     },
     "execution_count": 263,
     "metadata": {},
     "output_type": "execute_result"
    }
   ],
   "source": [
    "avg_price_gen"
   ]
  },
  {
   "cell_type": "code",
   "execution_count": 264,
   "id": "heated-sympathy",
   "metadata": {},
   "outputs": [],
   "source": [
    "tot_purch = gender_group_pur[\"Price\"].sum()"
   ]
  },
  {
   "cell_type": "code",
   "execution_count": 265,
   "id": "accompanied-amplifier",
   "metadata": {},
   "outputs": [
    {
     "data": {
      "text/plain": [
       "Gender\n",
       "Female                    361.94\n",
       "Male                     1967.64\n",
       "Other / Non-Disclosed      50.19\n",
       "Name: Price, dtype: float64"
      ]
     },
     "execution_count": 265,
     "metadata": {},
     "output_type": "execute_result"
    }
   ],
   "source": [
    "tot_purch"
   ]
  },
  {
   "cell_type": "code",
   "execution_count": 266,
   "id": "loose-infrastructure",
   "metadata": {},
   "outputs": [],
   "source": [
    "gen_uniq = purchase_df.groupby(\"Gender\")"
   ]
  },
  {
   "cell_type": "code",
   "execution_count": 267,
   "id": "simple-blank",
   "metadata": {},
   "outputs": [],
   "source": [
    "gen_nums = gen_uniq[\"SN\"].value_counts()"
   ]
  },
  {
   "cell_type": "code",
   "execution_count": 268,
   "id": "successful-november",
   "metadata": {},
   "outputs": [],
   "source": [
    "persons=gender_df2[\"Total Count\"].sort_index()"
   ]
  },
  {
   "cell_type": "code",
   "execution_count": 269,
   "id": "cellular-moldova",
   "metadata": {},
   "outputs": [
    {
     "data": {
      "text/plain": [
       "Female                   81\n",
       "Male                    484\n",
       "Other / Nondisclosed     11\n",
       "Name: Total Count, dtype: int64"
      ]
     },
     "execution_count": 269,
     "metadata": {},
     "output_type": "execute_result"
    }
   ],
   "source": [
    "persons"
   ]
  },
  {
   "cell_type": "code",
   "execution_count": 270,
   "id": "simple-october",
   "metadata": {},
   "outputs": [],
   "source": [
    "ave_purch_person = tot_purch/persons"
   ]
  },
  {
   "cell_type": "code",
   "execution_count": 271,
   "id": "legendary-management",
   "metadata": {},
   "outputs": [
    {
     "name": "stdout",
     "output_type": "stream",
     "text": [
      "361.93999999999966\n"
     ]
    }
   ],
   "source": [
    "print(tot_purch[0])"
   ]
  },
  {
   "cell_type": "code",
   "execution_count": 272,
   "id": "retained-presence",
   "metadata": {},
   "outputs": [],
   "source": [
    "fem_av_purch= tot_purch[0]/fem_count"
   ]
  },
  {
   "cell_type": "code",
   "execution_count": 273,
   "id": "collected-nomination",
   "metadata": {},
   "outputs": [
    {
     "name": "stdout",
     "output_type": "stream",
     "text": [
      "4.4683950617283905\n"
     ]
    }
   ],
   "source": [
    "print(fem_av_purch)"
   ]
  },
  {
   "cell_type": "code",
   "execution_count": 274,
   "id": "cheap-worthy",
   "metadata": {},
   "outputs": [],
   "source": [
    "male_av_purch = tot_purch[1]/male_count"
   ]
  },
  {
   "cell_type": "code",
   "execution_count": 275,
   "id": "united-bacon",
   "metadata": {},
   "outputs": [],
   "source": [
    "other_av_purch = tot_purch[2]/other_count"
   ]
  },
  {
   "cell_type": "code",
   "execution_count": 276,
   "id": "simple-peoples",
   "metadata": {},
   "outputs": [],
   "source": [
    "ave_gen_list = [fem_av_purch,male_av_purch,other_av_purch]"
   ]
  },
  {
   "cell_type": "code",
   "execution_count": 277,
   "id": "elegant-philadelphia",
   "metadata": {},
   "outputs": [],
   "source": [
    "ave_gen_series = pd.Series(ave_gen_list)"
   ]
  },
  {
   "cell_type": "code",
   "execution_count": 278,
   "id": "mineral-fight",
   "metadata": {},
   "outputs": [],
   "source": [
    "#ave_gen_series.index=[\"Female\",\"Male\",\"Other / Non-Disclosed\"]"
   ]
  },
  {
   "cell_type": "code",
   "execution_count": 279,
   "id": "inappropriate-kansas",
   "metadata": {},
   "outputs": [
    {
     "data": {
      "text/plain": [
       "0    4.468395\n",
       "1    4.065372\n",
       "2    4.562727\n",
       "dtype: float64"
      ]
     },
     "execution_count": 279,
     "metadata": {},
     "output_type": "execute_result"
    }
   ],
   "source": [
    "ave_gen_series"
   ]
  },
  {
   "cell_type": "code",
   "execution_count": 280,
   "id": "pressed-surrey",
   "metadata": {},
   "outputs": [],
   "source": [
    "trial_dict = [{\"Purchase Count\":gender_group_purchase},\n",
    "              {\"Average Purchase Price\":avg_price_gen}]"
   ]
  },
  {
   "cell_type": "raw",
   "id": "freelance-socket",
   "metadata": {},
   "source": []
  },
  {
   "cell_type": "code",
   "execution_count": 281,
   "id": "norwegian-kingdom",
   "metadata": {},
   "outputs": [],
   "source": [
    "trials= pd.DataFrame(trial_dict)"
   ]
  },
  {
   "cell_type": "code",
   "execution_count": 282,
   "id": "authorized-eligibility",
   "metadata": {},
   "outputs": [
    {
     "data": {
      "text/html": [
       "<div>\n",
       "<style scoped>\n",
       "    .dataframe tbody tr th:only-of-type {\n",
       "        vertical-align: middle;\n",
       "    }\n",
       "\n",
       "    .dataframe tbody tr th {\n",
       "        vertical-align: top;\n",
       "    }\n",
       "\n",
       "    .dataframe thead th {\n",
       "        text-align: right;\n",
       "    }\n",
       "</style>\n",
       "<table border=\"1\" class=\"dataframe\">\n",
       "  <thead>\n",
       "    <tr style=\"text-align: right;\">\n",
       "      <th></th>\n",
       "      <th>Purchase Count</th>\n",
       "      <th>Average Purchase Price</th>\n",
       "    </tr>\n",
       "  </thead>\n",
       "  <tbody>\n",
       "    <tr>\n",
       "      <th>0</th>\n",
       "      <td>Gender\n",
       "Female                   113\n",
       "Male      ...</td>\n",
       "      <td>NaN</td>\n",
       "    </tr>\n",
       "    <tr>\n",
       "      <th>1</th>\n",
       "      <td>NaN</td>\n",
       "      <td>Gender\n",
       "Female                   3.203009\n",
       "Male ...</td>\n",
       "    </tr>\n",
       "  </tbody>\n",
       "</table>\n",
       "</div>"
      ],
      "text/plain": [
       "                                      Purchase Count  \\\n",
       "0  Gender\n",
       "Female                   113\n",
       "Male      ...   \n",
       "1                                                NaN   \n",
       "\n",
       "                              Average Purchase Price  \n",
       "0                                                NaN  \n",
       "1  Gender\n",
       "Female                   3.203009\n",
       "Male ...  "
      ]
     },
     "execution_count": 282,
     "metadata": {},
     "output_type": "execute_result"
    }
   ],
   "source": [
    "trials\n"
   ]
  },
  {
   "cell_type": "code",
   "execution_count": 283,
   "id": "positive-component",
   "metadata": {},
   "outputs": [],
   "source": [
    "trial_frame={\"Purchase Count\": gender_group_purchase,\n",
    "             \"Average Purchase Price\": avg_price_gen,\n",
    "             \"Total Purchase Value\": tot_purch}"
   ]
  },
  {
   "cell_type": "code",
   "execution_count": 284,
   "id": "brown-waste",
   "metadata": {},
   "outputs": [],
   "source": [
    "trial2 = pd.DataFrame(trial_frame)"
   ]
  },
  {
   "cell_type": "code",
   "execution_count": 285,
   "id": "violent-music",
   "metadata": {},
   "outputs": [
    {
     "data": {
      "text/html": [
       "<div>\n",
       "<style scoped>\n",
       "    .dataframe tbody tr th:only-of-type {\n",
       "        vertical-align: middle;\n",
       "    }\n",
       "\n",
       "    .dataframe tbody tr th {\n",
       "        vertical-align: top;\n",
       "    }\n",
       "\n",
       "    .dataframe thead th {\n",
       "        text-align: right;\n",
       "    }\n",
       "</style>\n",
       "<table border=\"1\" class=\"dataframe\">\n",
       "  <thead>\n",
       "    <tr style=\"text-align: right;\">\n",
       "      <th></th>\n",
       "      <th>Purchase Count</th>\n",
       "      <th>Average Purchase Price</th>\n",
       "      <th>Total Purchase Value</th>\n",
       "    </tr>\n",
       "    <tr>\n",
       "      <th>Gender</th>\n",
       "      <th></th>\n",
       "      <th></th>\n",
       "      <th></th>\n",
       "    </tr>\n",
       "  </thead>\n",
       "  <tbody>\n",
       "    <tr>\n",
       "      <th>Female</th>\n",
       "      <td>113</td>\n",
       "      <td>3.203009</td>\n",
       "      <td>361.94</td>\n",
       "    </tr>\n",
       "    <tr>\n",
       "      <th>Male</th>\n",
       "      <td>652</td>\n",
       "      <td>3.017853</td>\n",
       "      <td>1967.64</td>\n",
       "    </tr>\n",
       "    <tr>\n",
       "      <th>Other / Non-Disclosed</th>\n",
       "      <td>15</td>\n",
       "      <td>3.346000</td>\n",
       "      <td>50.19</td>\n",
       "    </tr>\n",
       "  </tbody>\n",
       "</table>\n",
       "</div>"
      ],
      "text/plain": [
       "                       Purchase Count  Average Purchase Price  \\\n",
       "Gender                                                          \n",
       "Female                            113                3.203009   \n",
       "Male                              652                3.017853   \n",
       "Other / Non-Disclosed              15                3.346000   \n",
       "\n",
       "                       Total Purchase Value  \n",
       "Gender                                       \n",
       "Female                               361.94  \n",
       "Male                                1967.64  \n",
       "Other / Non-Disclosed                 50.19  "
      ]
     },
     "execution_count": 285,
     "metadata": {},
     "output_type": "execute_result"
    }
   ],
   "source": [
    "trial2"
   ]
  },
  {
   "cell_type": "code",
   "execution_count": 286,
   "id": "instrumental-newcastle",
   "metadata": {},
   "outputs": [],
   "source": [
    "trial2.insert(3,\"Avg Total Purchase per Person\",ave_gen_series)"
   ]
  },
  {
   "cell_type": "code",
   "execution_count": 287,
   "id": "prescribed-palestinian",
   "metadata": {},
   "outputs": [
    {
     "data": {
      "text/html": [
       "<div>\n",
       "<style scoped>\n",
       "    .dataframe tbody tr th:only-of-type {\n",
       "        vertical-align: middle;\n",
       "    }\n",
       "\n",
       "    .dataframe tbody tr th {\n",
       "        vertical-align: top;\n",
       "    }\n",
       "\n",
       "    .dataframe thead th {\n",
       "        text-align: right;\n",
       "    }\n",
       "</style>\n",
       "<table border=\"1\" class=\"dataframe\">\n",
       "  <thead>\n",
       "    <tr style=\"text-align: right;\">\n",
       "      <th></th>\n",
       "      <th>Purchase Count</th>\n",
       "      <th>Average Purchase Price</th>\n",
       "      <th>Total Purchase Value</th>\n",
       "      <th>Avg Total Purchase per Person</th>\n",
       "    </tr>\n",
       "    <tr>\n",
       "      <th>Gender</th>\n",
       "      <th></th>\n",
       "      <th></th>\n",
       "      <th></th>\n",
       "      <th></th>\n",
       "    </tr>\n",
       "  </thead>\n",
       "  <tbody>\n",
       "    <tr>\n",
       "      <th>Female</th>\n",
       "      <td>113</td>\n",
       "      <td>3.203009</td>\n",
       "      <td>361.94</td>\n",
       "      <td>NaN</td>\n",
       "    </tr>\n",
       "    <tr>\n",
       "      <th>Male</th>\n",
       "      <td>652</td>\n",
       "      <td>3.017853</td>\n",
       "      <td>1967.64</td>\n",
       "      <td>NaN</td>\n",
       "    </tr>\n",
       "    <tr>\n",
       "      <th>Other / Non-Disclosed</th>\n",
       "      <td>15</td>\n",
       "      <td>3.346000</td>\n",
       "      <td>50.19</td>\n",
       "      <td>NaN</td>\n",
       "    </tr>\n",
       "  </tbody>\n",
       "</table>\n",
       "</div>"
      ],
      "text/plain": [
       "                       Purchase Count  Average Purchase Price  \\\n",
       "Gender                                                          \n",
       "Female                            113                3.203009   \n",
       "Male                              652                3.017853   \n",
       "Other / Non-Disclosed              15                3.346000   \n",
       "\n",
       "                       Total Purchase Value  Avg Total Purchase per Person  \n",
       "Gender                                                                      \n",
       "Female                               361.94                            NaN  \n",
       "Male                                1967.64                            NaN  \n",
       "Other / Non-Disclosed                 50.19                            NaN  "
      ]
     },
     "execution_count": 287,
     "metadata": {},
     "output_type": "execute_result"
    }
   ],
   "source": [
    "trial2"
   ]
  },
  {
   "cell_type": "code",
   "execution_count": 288,
   "id": "intimate-graduate",
   "metadata": {},
   "outputs": [],
   "source": [
    "#age demographics "
   ]
  },
  {
   "cell_type": "code",
   "execution_count": 289,
   "id": "dominican-valuation",
   "metadata": {},
   "outputs": [],
   "source": [
    "#get summary of ages\n",
    "meh= purchase_df[\"Age\"].unique()"
   ]
  },
  {
   "cell_type": "code",
   "execution_count": 290,
   "id": "operating-inspiration",
   "metadata": {},
   "outputs": [],
   "source": [
    "meh.sort()"
   ]
  },
  {
   "cell_type": "code",
   "execution_count": 291,
   "id": "rapid-strap",
   "metadata": {},
   "outputs": [
    {
     "data": {
      "text/plain": [
       "array([ 7,  8,  9, 10, 11, 12, 13, 14, 15, 16, 17, 18, 19, 20, 21, 22, 23,\n",
       "       24, 25, 26, 27, 28, 29, 30, 31, 32, 33, 34, 35, 36, 37, 38, 39, 40,\n",
       "       41, 42, 43, 44, 45])"
      ]
     },
     "execution_count": 291,
     "metadata": {},
     "output_type": "execute_result"
    }
   ],
   "source": [
    "meh"
   ]
  },
  {
   "cell_type": "code",
   "execution_count": 292,
   "id": "bacterial-concern",
   "metadata": {},
   "outputs": [],
   "source": [
    "bins = [0, 9.9,14.9, 19.9, 24.9, 29.9, 34.9, 39.9, 50.9 ]\n"
   ]
  },
  {
   "cell_type": "code",
   "execution_count": 293,
   "id": "digital-aspect",
   "metadata": {},
   "outputs": [],
   "source": [
    "bin_names = [\"<10\", \"10-14\", \"15-19\", \"20-24\", \"25-29\", \"30-34\", \"35-39\", \"40+\"]"
   ]
  },
  {
   "cell_type": "code",
   "execution_count": 294,
   "id": "pregnant-sudan",
   "metadata": {},
   "outputs": [
    {
     "data": {
      "text/plain": [
       "20    99\n",
       "22    70\n",
       "24    67\n",
       "23    67\n",
       "21    62\n",
       "25    59\n",
       "15    35\n",
       "30    35\n",
       "16    30\n",
       "18    26\n",
       "19    23\n",
       "17    22\n",
       "35    14\n",
       "33    14\n",
       "26    14\n",
       "29    13\n",
       "27    10\n",
       "10     9\n",
       "7      9\n",
       "34     9\n",
       "38     9\n",
       "32     8\n",
       "8      8\n",
       "11     7\n",
       "31     7\n",
       "37     7\n",
       "39     6\n",
       "40     6\n",
       "9      6\n",
       "12     6\n",
       "36     5\n",
       "28     5\n",
       "13     4\n",
       "44     2\n",
       "41     2\n",
       "14     2\n",
       "43     1\n",
       "42     1\n",
       "45     1\n",
       "Name: Age, dtype: int64"
      ]
     },
     "execution_count": 294,
     "metadata": {},
     "output_type": "execute_result"
    }
   ],
   "source": [
    "purchase_df[\"Age\"].value_counts()"
   ]
  },
  {
   "cell_type": "code",
   "execution_count": 295,
   "id": "earned-belle",
   "metadata": {},
   "outputs": [],
   "source": [
    "uniq_players_group= purchase_df.groupby(\"Age\")"
   ]
  },
  {
   "cell_type": "code",
   "execution_count": 296,
   "id": "equal-hollywood",
   "metadata": {},
   "outputs": [],
   "source": [
    "uniq_try = uniq_players_group[\"SN\"].unique()"
   ]
  },
  {
   "cell_type": "code",
   "execution_count": 297,
   "id": "derived-ottawa",
   "metadata": {},
   "outputs": [
    {
     "data": {
      "text/html": [
       "<div>\n",
       "<style scoped>\n",
       "    .dataframe tbody tr th:only-of-type {\n",
       "        vertical-align: middle;\n",
       "    }\n",
       "\n",
       "    .dataframe tbody tr th {\n",
       "        vertical-align: top;\n",
       "    }\n",
       "\n",
       "    .dataframe thead th {\n",
       "        text-align: right;\n",
       "    }\n",
       "</style>\n",
       "<table border=\"1\" class=\"dataframe\">\n",
       "  <thead>\n",
       "    <tr style=\"text-align: right;\">\n",
       "      <th></th>\n",
       "      <th>Purchase ID</th>\n",
       "      <th>SN</th>\n",
       "      <th>Age</th>\n",
       "      <th>Gender</th>\n",
       "      <th>Item ID</th>\n",
       "      <th>Item Name</th>\n",
       "      <th>Price</th>\n",
       "    </tr>\n",
       "  </thead>\n",
       "  <tbody>\n",
       "    <tr>\n",
       "      <th>0</th>\n",
       "      <td>0</td>\n",
       "      <td>Lisim78</td>\n",
       "      <td>20</td>\n",
       "      <td>Male</td>\n",
       "      <td>108</td>\n",
       "      <td>Extraction, Quickblade Of Trembling Hands</td>\n",
       "      <td>3.53</td>\n",
       "    </tr>\n",
       "    <tr>\n",
       "      <th>1</th>\n",
       "      <td>1</td>\n",
       "      <td>Lisovynya38</td>\n",
       "      <td>40</td>\n",
       "      <td>Male</td>\n",
       "      <td>143</td>\n",
       "      <td>Frenzied Scimitar</td>\n",
       "      <td>1.56</td>\n",
       "    </tr>\n",
       "    <tr>\n",
       "      <th>2</th>\n",
       "      <td>2</td>\n",
       "      <td>Ithergue48</td>\n",
       "      <td>24</td>\n",
       "      <td>Male</td>\n",
       "      <td>92</td>\n",
       "      <td>Final Critic</td>\n",
       "      <td>4.88</td>\n",
       "    </tr>\n",
       "    <tr>\n",
       "      <th>3</th>\n",
       "      <td>3</td>\n",
       "      <td>Chamassasya86</td>\n",
       "      <td>24</td>\n",
       "      <td>Male</td>\n",
       "      <td>100</td>\n",
       "      <td>Blindscythe</td>\n",
       "      <td>3.27</td>\n",
       "    </tr>\n",
       "    <tr>\n",
       "      <th>4</th>\n",
       "      <td>4</td>\n",
       "      <td>Iskosia90</td>\n",
       "      <td>23</td>\n",
       "      <td>Male</td>\n",
       "      <td>131</td>\n",
       "      <td>Fury</td>\n",
       "      <td>1.44</td>\n",
       "    </tr>\n",
       "    <tr>\n",
       "      <th>...</th>\n",
       "      <td>...</td>\n",
       "      <td>...</td>\n",
       "      <td>...</td>\n",
       "      <td>...</td>\n",
       "      <td>...</td>\n",
       "      <td>...</td>\n",
       "      <td>...</td>\n",
       "    </tr>\n",
       "    <tr>\n",
       "      <th>773</th>\n",
       "      <td>773</td>\n",
       "      <td>Hala31</td>\n",
       "      <td>21</td>\n",
       "      <td>Male</td>\n",
       "      <td>19</td>\n",
       "      <td>Pursuit, Cudgel of Necromancy</td>\n",
       "      <td>1.02</td>\n",
       "    </tr>\n",
       "    <tr>\n",
       "      <th>774</th>\n",
       "      <td>774</td>\n",
       "      <td>Jiskjask80</td>\n",
       "      <td>11</td>\n",
       "      <td>Male</td>\n",
       "      <td>92</td>\n",
       "      <td>Final Critic</td>\n",
       "      <td>4.19</td>\n",
       "    </tr>\n",
       "    <tr>\n",
       "      <th>775</th>\n",
       "      <td>775</td>\n",
       "      <td>Aethedru70</td>\n",
       "      <td>21</td>\n",
       "      <td>Female</td>\n",
       "      <td>60</td>\n",
       "      <td>Wolf</td>\n",
       "      <td>3.54</td>\n",
       "    </tr>\n",
       "    <tr>\n",
       "      <th>777</th>\n",
       "      <td>777</td>\n",
       "      <td>Yathecal72</td>\n",
       "      <td>20</td>\n",
       "      <td>Male</td>\n",
       "      <td>67</td>\n",
       "      <td>Celeste, Incarnation of the Corrupted</td>\n",
       "      <td>3.46</td>\n",
       "    </tr>\n",
       "    <tr>\n",
       "      <th>778</th>\n",
       "      <td>778</td>\n",
       "      <td>Sisur91</td>\n",
       "      <td>7</td>\n",
       "      <td>Male</td>\n",
       "      <td>92</td>\n",
       "      <td>Final Critic</td>\n",
       "      <td>4.19</td>\n",
       "    </tr>\n",
       "  </tbody>\n",
       "</table>\n",
       "<p>576 rows × 7 columns</p>\n",
       "</div>"
      ],
      "text/plain": [
       "     Purchase ID             SN  Age  Gender  Item ID  \\\n",
       "0              0        Lisim78   20    Male      108   \n",
       "1              1    Lisovynya38   40    Male      143   \n",
       "2              2     Ithergue48   24    Male       92   \n",
       "3              3  Chamassasya86   24    Male      100   \n",
       "4              4      Iskosia90   23    Male      131   \n",
       "..           ...            ...  ...     ...      ...   \n",
       "773          773         Hala31   21    Male       19   \n",
       "774          774     Jiskjask80   11    Male       92   \n",
       "775          775     Aethedru70   21  Female       60   \n",
       "777          777     Yathecal72   20    Male       67   \n",
       "778          778        Sisur91    7    Male       92   \n",
       "\n",
       "                                     Item Name  Price  \n",
       "0    Extraction, Quickblade Of Trembling Hands   3.53  \n",
       "1                            Frenzied Scimitar   1.56  \n",
       "2                                 Final Critic   4.88  \n",
       "3                                  Blindscythe   3.27  \n",
       "4                                         Fury   1.44  \n",
       "..                                         ...    ...  \n",
       "773              Pursuit, Cudgel of Necromancy   1.02  \n",
       "774                               Final Critic   4.19  \n",
       "775                                       Wolf   3.54  \n",
       "777      Celeste, Incarnation of the Corrupted   3.46  \n",
       "778                               Final Critic   4.19  \n",
       "\n",
       "[576 rows x 7 columns]"
      ]
     },
     "execution_count": 297,
     "metadata": {},
     "output_type": "execute_result"
    }
   ],
   "source": [
    "seriously = purchase_df.drop_duplicates(subset = \"SN\")\n",
    "seriously"
   ]
  },
  {
   "cell_type": "code",
   "execution_count": 299,
   "id": "recorded-recipe",
   "metadata": {},
   "outputs": [],
   "source": [
    "why= pd.cut(seriously[\"Age\"], bins,labels=bin_names, include_lowest=True)"
   ]
  },
  {
   "cell_type": "code",
   "execution_count": 300,
   "id": "thousand-valve",
   "metadata": {},
   "outputs": [],
   "source": [
    "seriously.insert(7,\"plz\",why)"
   ]
  },
  {
   "cell_type": "code",
   "execution_count": 302,
   "id": "planned-luxury",
   "metadata": {},
   "outputs": [],
   "source": [
    "seriously_group = seriously.groupby(\"plz\")"
   ]
  },
  {
   "cell_type": "code",
   "execution_count": 303,
   "id": "identical-manhattan",
   "metadata": {},
   "outputs": [],
   "source": [
    "seriously_df = seriously_group.count()"
   ]
  },
  {
   "cell_type": "raw",
   "id": "searching-republic",
   "metadata": {},
   "source": []
  },
  {
   "cell_type": "code",
   "execution_count": 307,
   "id": "involved-cigarette",
   "metadata": {},
   "outputs": [
    {
     "data": {
      "text/html": [
       "<div>\n",
       "<style scoped>\n",
       "    .dataframe tbody tr th:only-of-type {\n",
       "        vertical-align: middle;\n",
       "    }\n",
       "\n",
       "    .dataframe tbody tr th {\n",
       "        vertical-align: top;\n",
       "    }\n",
       "\n",
       "    .dataframe thead th {\n",
       "        text-align: right;\n",
       "    }\n",
       "</style>\n",
       "<table border=\"1\" class=\"dataframe\">\n",
       "  <thead>\n",
       "    <tr style=\"text-align: right;\">\n",
       "      <th></th>\n",
       "      <th>Purchase ID</th>\n",
       "      <th>SN</th>\n",
       "      <th>Age</th>\n",
       "      <th>Gender</th>\n",
       "      <th>Item ID</th>\n",
       "      <th>Item Name</th>\n",
       "      <th>Price</th>\n",
       "    </tr>\n",
       "    <tr>\n",
       "      <th>plz</th>\n",
       "      <th></th>\n",
       "      <th></th>\n",
       "      <th></th>\n",
       "      <th></th>\n",
       "      <th></th>\n",
       "      <th></th>\n",
       "      <th></th>\n",
       "    </tr>\n",
       "  </thead>\n",
       "  <tbody>\n",
       "    <tr>\n",
       "      <th>&lt;10</th>\n",
       "      <td>17</td>\n",
       "      <td>17</td>\n",
       "      <td>17</td>\n",
       "      <td>17</td>\n",
       "      <td>17</td>\n",
       "      <td>17</td>\n",
       "      <td>17</td>\n",
       "    </tr>\n",
       "    <tr>\n",
       "      <th>10-14</th>\n",
       "      <td>22</td>\n",
       "      <td>22</td>\n",
       "      <td>22</td>\n",
       "      <td>22</td>\n",
       "      <td>22</td>\n",
       "      <td>22</td>\n",
       "      <td>22</td>\n",
       "    </tr>\n",
       "    <tr>\n",
       "      <th>15-19</th>\n",
       "      <td>107</td>\n",
       "      <td>107</td>\n",
       "      <td>107</td>\n",
       "      <td>107</td>\n",
       "      <td>107</td>\n",
       "      <td>107</td>\n",
       "      <td>107</td>\n",
       "    </tr>\n",
       "    <tr>\n",
       "      <th>20-24</th>\n",
       "      <td>258</td>\n",
       "      <td>258</td>\n",
       "      <td>258</td>\n",
       "      <td>258</td>\n",
       "      <td>258</td>\n",
       "      <td>258</td>\n",
       "      <td>258</td>\n",
       "    </tr>\n",
       "    <tr>\n",
       "      <th>25-29</th>\n",
       "      <td>77</td>\n",
       "      <td>77</td>\n",
       "      <td>77</td>\n",
       "      <td>77</td>\n",
       "      <td>77</td>\n",
       "      <td>77</td>\n",
       "      <td>77</td>\n",
       "    </tr>\n",
       "    <tr>\n",
       "      <th>30-34</th>\n",
       "      <td>52</td>\n",
       "      <td>52</td>\n",
       "      <td>52</td>\n",
       "      <td>52</td>\n",
       "      <td>52</td>\n",
       "      <td>52</td>\n",
       "      <td>52</td>\n",
       "    </tr>\n",
       "    <tr>\n",
       "      <th>35-39</th>\n",
       "      <td>31</td>\n",
       "      <td>31</td>\n",
       "      <td>31</td>\n",
       "      <td>31</td>\n",
       "      <td>31</td>\n",
       "      <td>31</td>\n",
       "      <td>31</td>\n",
       "    </tr>\n",
       "    <tr>\n",
       "      <th>40+</th>\n",
       "      <td>12</td>\n",
       "      <td>12</td>\n",
       "      <td>12</td>\n",
       "      <td>12</td>\n",
       "      <td>12</td>\n",
       "      <td>12</td>\n",
       "      <td>12</td>\n",
       "    </tr>\n",
       "  </tbody>\n",
       "</table>\n",
       "</div>"
      ],
      "text/plain": [
       "       Purchase ID   SN  Age  Gender  Item ID  Item Name  Price\n",
       "plz                                                            \n",
       "<10             17   17   17      17       17         17     17\n",
       "10-14           22   22   22      22       22         22     22\n",
       "15-19          107  107  107     107      107        107    107\n",
       "20-24          258  258  258     258      258        258    258\n",
       "25-29           77   77   77      77       77         77     77\n",
       "30-34           52   52   52      52       52         52     52\n",
       "35-39           31   31   31      31       31         31     31\n",
       "40+             12   12   12      12       12         12     12"
      ]
     },
     "execution_count": 307,
     "metadata": {},
     "output_type": "execute_result"
    }
   ],
   "source": [
    "seriously_df"
   ]
  },
  {
   "cell_type": "code",
   "execution_count": 312,
   "id": "challenging-observation",
   "metadata": {},
   "outputs": [],
   "source": [
    "seriously_bins = seriously_df[\"Purchase ID\"]"
   ]
  },
  {
   "cell_type": "code",
   "execution_count": 313,
   "id": "married-toddler",
   "metadata": {},
   "outputs": [
    {
     "data": {
      "text/plain": [
       "plz\n",
       "<10       17\n",
       "10-14     22\n",
       "15-19    107\n",
       "20-24    258\n",
       "25-29     77\n",
       "30-34     52\n",
       "35-39     31\n",
       "40+       12\n",
       "Name: Purchase ID, dtype: int64"
      ]
     },
     "execution_count": 313,
     "metadata": {},
     "output_type": "execute_result"
    }
   ],
   "source": [
    "seriously_bins"
   ]
  },
  {
   "cell_type": "code",
   "execution_count": 314,
   "id": "valid-halifax",
   "metadata": {},
   "outputs": [],
   "source": [
    "omg_why = seriously_bins/num_players"
   ]
  },
  {
   "cell_type": "code",
   "execution_count": 315,
   "id": "macro-stage",
   "metadata": {},
   "outputs": [
    {
     "data": {
      "text/plain": [
       "plz\n",
       "<10      0.029514\n",
       "10-14    0.038194\n",
       "15-19    0.185764\n",
       "20-24    0.447917\n",
       "25-29    0.133681\n",
       "30-34    0.090278\n",
       "35-39    0.053819\n",
       "40+      0.020833\n",
       "Name: Purchase ID, dtype: float64"
      ]
     },
     "execution_count": 315,
     "metadata": {},
     "output_type": "execute_result"
    }
   ],
   "source": [
    "omg_why"
   ]
  },
  {
   "cell_type": "code",
   "execution_count": 316,
   "id": "promotional-barcelona",
   "metadata": {},
   "outputs": [],
   "source": [
    "seriously_frame = {\"Total Count\": seriously_bins,\n",
    "                   \"Percentage of Players\": omg_why}"
   ]
  },
  {
   "cell_type": "code",
   "execution_count": 317,
   "id": "fantastic-hygiene",
   "metadata": {},
   "outputs": [],
   "source": [
    "send_halp = pd.DataFrame(seriously_frame)"
   ]
  },
  {
   "cell_type": "code",
   "execution_count": 318,
   "id": "orange-honor",
   "metadata": {},
   "outputs": [
    {
     "data": {
      "text/html": [
       "<div>\n",
       "<style scoped>\n",
       "    .dataframe tbody tr th:only-of-type {\n",
       "        vertical-align: middle;\n",
       "    }\n",
       "\n",
       "    .dataframe tbody tr th {\n",
       "        vertical-align: top;\n",
       "    }\n",
       "\n",
       "    .dataframe thead th {\n",
       "        text-align: right;\n",
       "    }\n",
       "</style>\n",
       "<table border=\"1\" class=\"dataframe\">\n",
       "  <thead>\n",
       "    <tr style=\"text-align: right;\">\n",
       "      <th></th>\n",
       "      <th>Total Count</th>\n",
       "      <th>Percentage of Players</th>\n",
       "    </tr>\n",
       "    <tr>\n",
       "      <th>plz</th>\n",
       "      <th></th>\n",
       "      <th></th>\n",
       "    </tr>\n",
       "  </thead>\n",
       "  <tbody>\n",
       "    <tr>\n",
       "      <th>&lt;10</th>\n",
       "      <td>17</td>\n",
       "      <td>0.029514</td>\n",
       "    </tr>\n",
       "    <tr>\n",
       "      <th>10-14</th>\n",
       "      <td>22</td>\n",
       "      <td>0.038194</td>\n",
       "    </tr>\n",
       "    <tr>\n",
       "      <th>15-19</th>\n",
       "      <td>107</td>\n",
       "      <td>0.185764</td>\n",
       "    </tr>\n",
       "    <tr>\n",
       "      <th>20-24</th>\n",
       "      <td>258</td>\n",
       "      <td>0.447917</td>\n",
       "    </tr>\n",
       "    <tr>\n",
       "      <th>25-29</th>\n",
       "      <td>77</td>\n",
       "      <td>0.133681</td>\n",
       "    </tr>\n",
       "    <tr>\n",
       "      <th>30-34</th>\n",
       "      <td>52</td>\n",
       "      <td>0.090278</td>\n",
       "    </tr>\n",
       "    <tr>\n",
       "      <th>35-39</th>\n",
       "      <td>31</td>\n",
       "      <td>0.053819</td>\n",
       "    </tr>\n",
       "    <tr>\n",
       "      <th>40+</th>\n",
       "      <td>12</td>\n",
       "      <td>0.020833</td>\n",
       "    </tr>\n",
       "  </tbody>\n",
       "</table>\n",
       "</div>"
      ],
      "text/plain": [
       "       Total Count  Percentage of Players\n",
       "plz                                      \n",
       "<10             17               0.029514\n",
       "10-14           22               0.038194\n",
       "15-19          107               0.185764\n",
       "20-24          258               0.447917\n",
       "25-29           77               0.133681\n",
       "30-34           52               0.090278\n",
       "35-39           31               0.053819\n",
       "40+             12               0.020833"
      ]
     },
     "execution_count": 318,
     "metadata": {},
     "output_type": "execute_result"
    }
   ],
   "source": [
    "send_halp"
   ]
  },
  {
   "cell_type": "code",
   "execution_count": 319,
   "id": "formed-dance",
   "metadata": {},
   "outputs": [],
   "source": [
    "#purchasing analysis (age)"
   ]
  },
  {
   "cell_type": "code",
   "execution_count": 322,
   "id": "unexpected-daily",
   "metadata": {},
   "outputs": [],
   "source": [
    "bins2= pd.cut(purchase_df[\"Age\"], bins,labels=bin_names, include_lowest=True)"
   ]
  },
  {
   "cell_type": "code",
   "execution_count": 323,
   "id": "wound-graham",
   "metadata": {},
   "outputs": [],
   "source": [
    "purchase_df.insert(7,\"Bin\",bins2)"
   ]
  },
  {
   "cell_type": "code",
   "execution_count": 324,
   "id": "filled-namibia",
   "metadata": {},
   "outputs": [
    {
     "data": {
      "text/html": [
       "<div>\n",
       "<style scoped>\n",
       "    .dataframe tbody tr th:only-of-type {\n",
       "        vertical-align: middle;\n",
       "    }\n",
       "\n",
       "    .dataframe tbody tr th {\n",
       "        vertical-align: top;\n",
       "    }\n",
       "\n",
       "    .dataframe thead th {\n",
       "        text-align: right;\n",
       "    }\n",
       "</style>\n",
       "<table border=\"1\" class=\"dataframe\">\n",
       "  <thead>\n",
       "    <tr style=\"text-align: right;\">\n",
       "      <th></th>\n",
       "      <th>Purchase ID</th>\n",
       "      <th>SN</th>\n",
       "      <th>Age</th>\n",
       "      <th>Gender</th>\n",
       "      <th>Item ID</th>\n",
       "      <th>Item Name</th>\n",
       "      <th>Price</th>\n",
       "      <th>Bin</th>\n",
       "    </tr>\n",
       "  </thead>\n",
       "  <tbody>\n",
       "    <tr>\n",
       "      <th>0</th>\n",
       "      <td>0</td>\n",
       "      <td>Lisim78</td>\n",
       "      <td>20</td>\n",
       "      <td>Male</td>\n",
       "      <td>108</td>\n",
       "      <td>Extraction, Quickblade Of Trembling Hands</td>\n",
       "      <td>3.53</td>\n",
       "      <td>20-24</td>\n",
       "    </tr>\n",
       "    <tr>\n",
       "      <th>1</th>\n",
       "      <td>1</td>\n",
       "      <td>Lisovynya38</td>\n",
       "      <td>40</td>\n",
       "      <td>Male</td>\n",
       "      <td>143</td>\n",
       "      <td>Frenzied Scimitar</td>\n",
       "      <td>1.56</td>\n",
       "      <td>40+</td>\n",
       "    </tr>\n",
       "    <tr>\n",
       "      <th>2</th>\n",
       "      <td>2</td>\n",
       "      <td>Ithergue48</td>\n",
       "      <td>24</td>\n",
       "      <td>Male</td>\n",
       "      <td>92</td>\n",
       "      <td>Final Critic</td>\n",
       "      <td>4.88</td>\n",
       "      <td>20-24</td>\n",
       "    </tr>\n",
       "    <tr>\n",
       "      <th>3</th>\n",
       "      <td>3</td>\n",
       "      <td>Chamassasya86</td>\n",
       "      <td>24</td>\n",
       "      <td>Male</td>\n",
       "      <td>100</td>\n",
       "      <td>Blindscythe</td>\n",
       "      <td>3.27</td>\n",
       "      <td>20-24</td>\n",
       "    </tr>\n",
       "    <tr>\n",
       "      <th>4</th>\n",
       "      <td>4</td>\n",
       "      <td>Iskosia90</td>\n",
       "      <td>23</td>\n",
       "      <td>Male</td>\n",
       "      <td>131</td>\n",
       "      <td>Fury</td>\n",
       "      <td>1.44</td>\n",
       "      <td>20-24</td>\n",
       "    </tr>\n",
       "    <tr>\n",
       "      <th>...</th>\n",
       "      <td>...</td>\n",
       "      <td>...</td>\n",
       "      <td>...</td>\n",
       "      <td>...</td>\n",
       "      <td>...</td>\n",
       "      <td>...</td>\n",
       "      <td>...</td>\n",
       "      <td>...</td>\n",
       "    </tr>\n",
       "    <tr>\n",
       "      <th>775</th>\n",
       "      <td>775</td>\n",
       "      <td>Aethedru70</td>\n",
       "      <td>21</td>\n",
       "      <td>Female</td>\n",
       "      <td>60</td>\n",
       "      <td>Wolf</td>\n",
       "      <td>3.54</td>\n",
       "      <td>20-24</td>\n",
       "    </tr>\n",
       "    <tr>\n",
       "      <th>776</th>\n",
       "      <td>776</td>\n",
       "      <td>Iral74</td>\n",
       "      <td>21</td>\n",
       "      <td>Male</td>\n",
       "      <td>164</td>\n",
       "      <td>Exiled Doomblade</td>\n",
       "      <td>1.63</td>\n",
       "      <td>20-24</td>\n",
       "    </tr>\n",
       "    <tr>\n",
       "      <th>777</th>\n",
       "      <td>777</td>\n",
       "      <td>Yathecal72</td>\n",
       "      <td>20</td>\n",
       "      <td>Male</td>\n",
       "      <td>67</td>\n",
       "      <td>Celeste, Incarnation of the Corrupted</td>\n",
       "      <td>3.46</td>\n",
       "      <td>20-24</td>\n",
       "    </tr>\n",
       "    <tr>\n",
       "      <th>778</th>\n",
       "      <td>778</td>\n",
       "      <td>Sisur91</td>\n",
       "      <td>7</td>\n",
       "      <td>Male</td>\n",
       "      <td>92</td>\n",
       "      <td>Final Critic</td>\n",
       "      <td>4.19</td>\n",
       "      <td>&lt;10</td>\n",
       "    </tr>\n",
       "    <tr>\n",
       "      <th>779</th>\n",
       "      <td>779</td>\n",
       "      <td>Ennrian78</td>\n",
       "      <td>24</td>\n",
       "      <td>Male</td>\n",
       "      <td>50</td>\n",
       "      <td>Dawn</td>\n",
       "      <td>4.60</td>\n",
       "      <td>20-24</td>\n",
       "    </tr>\n",
       "  </tbody>\n",
       "</table>\n",
       "<p>780 rows × 8 columns</p>\n",
       "</div>"
      ],
      "text/plain": [
       "     Purchase ID             SN  Age  Gender  Item ID  \\\n",
       "0              0        Lisim78   20    Male      108   \n",
       "1              1    Lisovynya38   40    Male      143   \n",
       "2              2     Ithergue48   24    Male       92   \n",
       "3              3  Chamassasya86   24    Male      100   \n",
       "4              4      Iskosia90   23    Male      131   \n",
       "..           ...            ...  ...     ...      ...   \n",
       "775          775     Aethedru70   21  Female       60   \n",
       "776          776         Iral74   21    Male      164   \n",
       "777          777     Yathecal72   20    Male       67   \n",
       "778          778        Sisur91    7    Male       92   \n",
       "779          779      Ennrian78   24    Male       50   \n",
       "\n",
       "                                     Item Name  Price    Bin  \n",
       "0    Extraction, Quickblade Of Trembling Hands   3.53  20-24  \n",
       "1                            Frenzied Scimitar   1.56    40+  \n",
       "2                                 Final Critic   4.88  20-24  \n",
       "3                                  Blindscythe   3.27  20-24  \n",
       "4                                         Fury   1.44  20-24  \n",
       "..                                         ...    ...    ...  \n",
       "775                                       Wolf   3.54  20-24  \n",
       "776                           Exiled Doomblade   1.63  20-24  \n",
       "777      Celeste, Incarnation of the Corrupted   3.46  20-24  \n",
       "778                               Final Critic   4.19    <10  \n",
       "779                                       Dawn   4.60  20-24  \n",
       "\n",
       "[780 rows x 8 columns]"
      ]
     },
     "execution_count": 324,
     "metadata": {},
     "output_type": "execute_result"
    }
   ],
   "source": [
    "purchase_df"
   ]
  },
  {
   "cell_type": "code",
   "execution_count": 326,
   "id": "communist-rogers",
   "metadata": {},
   "outputs": [],
   "source": [
    "bins2_group = purchase_df.groupby(\"Bin\")"
   ]
  },
  {
   "cell_type": "code",
   "execution_count": 327,
   "id": "twenty-hampshire",
   "metadata": {},
   "outputs": [],
   "source": [
    "bins2_df = bins2_group.count()"
   ]
  },
  {
   "cell_type": "code",
   "execution_count": 328,
   "id": "antique-title",
   "metadata": {},
   "outputs": [
    {
     "data": {
      "text/html": [
       "<div>\n",
       "<style scoped>\n",
       "    .dataframe tbody tr th:only-of-type {\n",
       "        vertical-align: middle;\n",
       "    }\n",
       "\n",
       "    .dataframe tbody tr th {\n",
       "        vertical-align: top;\n",
       "    }\n",
       "\n",
       "    .dataframe thead th {\n",
       "        text-align: right;\n",
       "    }\n",
       "</style>\n",
       "<table border=\"1\" class=\"dataframe\">\n",
       "  <thead>\n",
       "    <tr style=\"text-align: right;\">\n",
       "      <th></th>\n",
       "      <th>Purchase ID</th>\n",
       "      <th>SN</th>\n",
       "      <th>Age</th>\n",
       "      <th>Gender</th>\n",
       "      <th>Item ID</th>\n",
       "      <th>Item Name</th>\n",
       "      <th>Price</th>\n",
       "    </tr>\n",
       "    <tr>\n",
       "      <th>Bin</th>\n",
       "      <th></th>\n",
       "      <th></th>\n",
       "      <th></th>\n",
       "      <th></th>\n",
       "      <th></th>\n",
       "      <th></th>\n",
       "      <th></th>\n",
       "    </tr>\n",
       "  </thead>\n",
       "  <tbody>\n",
       "    <tr>\n",
       "      <th>&lt;10</th>\n",
       "      <td>23</td>\n",
       "      <td>23</td>\n",
       "      <td>23</td>\n",
       "      <td>23</td>\n",
       "      <td>23</td>\n",
       "      <td>23</td>\n",
       "      <td>23</td>\n",
       "    </tr>\n",
       "    <tr>\n",
       "      <th>10-14</th>\n",
       "      <td>28</td>\n",
       "      <td>28</td>\n",
       "      <td>28</td>\n",
       "      <td>28</td>\n",
       "      <td>28</td>\n",
       "      <td>28</td>\n",
       "      <td>28</td>\n",
       "    </tr>\n",
       "    <tr>\n",
       "      <th>15-19</th>\n",
       "      <td>136</td>\n",
       "      <td>136</td>\n",
       "      <td>136</td>\n",
       "      <td>136</td>\n",
       "      <td>136</td>\n",
       "      <td>136</td>\n",
       "      <td>136</td>\n",
       "    </tr>\n",
       "    <tr>\n",
       "      <th>20-24</th>\n",
       "      <td>365</td>\n",
       "      <td>365</td>\n",
       "      <td>365</td>\n",
       "      <td>365</td>\n",
       "      <td>365</td>\n",
       "      <td>365</td>\n",
       "      <td>365</td>\n",
       "    </tr>\n",
       "    <tr>\n",
       "      <th>25-29</th>\n",
       "      <td>101</td>\n",
       "      <td>101</td>\n",
       "      <td>101</td>\n",
       "      <td>101</td>\n",
       "      <td>101</td>\n",
       "      <td>101</td>\n",
       "      <td>101</td>\n",
       "    </tr>\n",
       "    <tr>\n",
       "      <th>30-34</th>\n",
       "      <td>73</td>\n",
       "      <td>73</td>\n",
       "      <td>73</td>\n",
       "      <td>73</td>\n",
       "      <td>73</td>\n",
       "      <td>73</td>\n",
       "      <td>73</td>\n",
       "    </tr>\n",
       "    <tr>\n",
       "      <th>35-39</th>\n",
       "      <td>41</td>\n",
       "      <td>41</td>\n",
       "      <td>41</td>\n",
       "      <td>41</td>\n",
       "      <td>41</td>\n",
       "      <td>41</td>\n",
       "      <td>41</td>\n",
       "    </tr>\n",
       "    <tr>\n",
       "      <th>40+</th>\n",
       "      <td>13</td>\n",
       "      <td>13</td>\n",
       "      <td>13</td>\n",
       "      <td>13</td>\n",
       "      <td>13</td>\n",
       "      <td>13</td>\n",
       "      <td>13</td>\n",
       "    </tr>\n",
       "  </tbody>\n",
       "</table>\n",
       "</div>"
      ],
      "text/plain": [
       "       Purchase ID   SN  Age  Gender  Item ID  Item Name  Price\n",
       "Bin                                                            \n",
       "<10             23   23   23      23       23         23     23\n",
       "10-14           28   28   28      28       28         28     28\n",
       "15-19          136  136  136     136      136        136    136\n",
       "20-24          365  365  365     365      365        365    365\n",
       "25-29          101  101  101     101      101        101    101\n",
       "30-34           73   73   73      73       73         73     73\n",
       "35-39           41   41   41      41       41         41     41\n",
       "40+             13   13   13      13       13         13     13"
      ]
     },
     "execution_count": 328,
     "metadata": {},
     "output_type": "execute_result"
    }
   ],
   "source": [
    "bins2_df"
   ]
  },
  {
   "cell_type": "code",
   "execution_count": 329,
   "id": "maritime-stevens",
   "metadata": {},
   "outputs": [],
   "source": [
    "bins2_purchCount= bins2_df[\"SN\"]\n"
   ]
  },
  {
   "cell_type": "code",
   "execution_count": 330,
   "id": "sudden-waste",
   "metadata": {},
   "outputs": [],
   "source": [
    "bins2_avPrice= bins2_group[\"Price\"].mean()"
   ]
  },
  {
   "cell_type": "code",
   "execution_count": 331,
   "id": "coordinated-vision",
   "metadata": {},
   "outputs": [
    {
     "data": {
      "text/plain": [
       "Bin\n",
       "<10      3.353478\n",
       "10-14    2.956429\n",
       "15-19    3.035956\n",
       "20-24    3.052219\n",
       "25-29    2.900990\n",
       "30-34    2.931507\n",
       "35-39    3.601707\n",
       "40+      2.941538\n",
       "Name: Price, dtype: float64"
      ]
     },
     "execution_count": 331,
     "metadata": {},
     "output_type": "execute_result"
    }
   ],
   "source": [
    "bins2_avPrice"
   ]
  },
  {
   "cell_type": "code",
   "execution_count": 332,
   "id": "opposed-cooper",
   "metadata": {},
   "outputs": [],
   "source": [
    "bins2_totRev= bins2_group[\"Price\"].sum()"
   ]
  },
  {
   "cell_type": "code",
   "execution_count": 334,
   "id": "essential-compensation",
   "metadata": {},
   "outputs": [],
   "source": [
    "bins2_av_pp = bins2_totRev/seriously_bins"
   ]
  },
  {
   "cell_type": "code",
   "execution_count": 335,
   "id": "portable-messenger",
   "metadata": {},
   "outputs": [
    {
     "data": {
      "text/plain": [
       "Bin\n",
       "<10      4.537059\n",
       "10-14    3.762727\n",
       "15-19    3.858785\n",
       "20-24    4.318062\n",
       "25-29    3.805195\n",
       "30-34    4.115385\n",
       "35-39    4.763548\n",
       "40+      3.186667\n",
       "dtype: float64"
      ]
     },
     "execution_count": 335,
     "metadata": {},
     "output_type": "execute_result"
    }
   ],
   "source": [
    "bins2_av_pp"
   ]
  },
  {
   "cell_type": "markdown",
   "id": "expensive-sydney",
   "metadata": {},
   "source": []
  },
  {
   "cell_type": "code",
   "execution_count": 337,
   "id": "hungry-event",
   "metadata": {},
   "outputs": [],
   "source": [
    "bins2_finalFrame = {\"Purchase Count\": bins2_purchCount,\n",
    "                    \"Average Purchase Price\": bins2_avPrice,\n",
    "                    \"Total Purchase Revenue:\": bins2_totRev,\n",
    "                    \"Avg Total Purchase per Person\": bins2_av_pp}"
   ]
  },
  {
   "cell_type": "code",
   "execution_count": 338,
   "id": "olive-convert",
   "metadata": {},
   "outputs": [],
   "source": [
    "bins2_df_fin = pd.DataFrame(bins2_finalFrame)"
   ]
  },
  {
   "cell_type": "code",
   "execution_count": 339,
   "id": "severe-ribbon",
   "metadata": {},
   "outputs": [
    {
     "data": {
      "text/html": [
       "<div>\n",
       "<style scoped>\n",
       "    .dataframe tbody tr th:only-of-type {\n",
       "        vertical-align: middle;\n",
       "    }\n",
       "\n",
       "    .dataframe tbody tr th {\n",
       "        vertical-align: top;\n",
       "    }\n",
       "\n",
       "    .dataframe thead th {\n",
       "        text-align: right;\n",
       "    }\n",
       "</style>\n",
       "<table border=\"1\" class=\"dataframe\">\n",
       "  <thead>\n",
       "    <tr style=\"text-align: right;\">\n",
       "      <th></th>\n",
       "      <th>Purchase Count</th>\n",
       "      <th>Average Purchase Price</th>\n",
       "      <th>Total Purchase Revenue:</th>\n",
       "      <th>Avg Total Purchase per Person</th>\n",
       "    </tr>\n",
       "    <tr>\n",
       "      <th>Bin</th>\n",
       "      <th></th>\n",
       "      <th></th>\n",
       "      <th></th>\n",
       "      <th></th>\n",
       "    </tr>\n",
       "  </thead>\n",
       "  <tbody>\n",
       "    <tr>\n",
       "      <th>&lt;10</th>\n",
       "      <td>23</td>\n",
       "      <td>3.353478</td>\n",
       "      <td>77.13</td>\n",
       "      <td>4.537059</td>\n",
       "    </tr>\n",
       "    <tr>\n",
       "      <th>10-14</th>\n",
       "      <td>28</td>\n",
       "      <td>2.956429</td>\n",
       "      <td>82.78</td>\n",
       "      <td>3.762727</td>\n",
       "    </tr>\n",
       "    <tr>\n",
       "      <th>15-19</th>\n",
       "      <td>136</td>\n",
       "      <td>3.035956</td>\n",
       "      <td>412.89</td>\n",
       "      <td>3.858785</td>\n",
       "    </tr>\n",
       "    <tr>\n",
       "      <th>20-24</th>\n",
       "      <td>365</td>\n",
       "      <td>3.052219</td>\n",
       "      <td>1114.06</td>\n",
       "      <td>4.318062</td>\n",
       "    </tr>\n",
       "    <tr>\n",
       "      <th>25-29</th>\n",
       "      <td>101</td>\n",
       "      <td>2.900990</td>\n",
       "      <td>293.00</td>\n",
       "      <td>3.805195</td>\n",
       "    </tr>\n",
       "    <tr>\n",
       "      <th>30-34</th>\n",
       "      <td>73</td>\n",
       "      <td>2.931507</td>\n",
       "      <td>214.00</td>\n",
       "      <td>4.115385</td>\n",
       "    </tr>\n",
       "    <tr>\n",
       "      <th>35-39</th>\n",
       "      <td>41</td>\n",
       "      <td>3.601707</td>\n",
       "      <td>147.67</td>\n",
       "      <td>4.763548</td>\n",
       "    </tr>\n",
       "    <tr>\n",
       "      <th>40+</th>\n",
       "      <td>13</td>\n",
       "      <td>2.941538</td>\n",
       "      <td>38.24</td>\n",
       "      <td>3.186667</td>\n",
       "    </tr>\n",
       "  </tbody>\n",
       "</table>\n",
       "</div>"
      ],
      "text/plain": [
       "       Purchase Count  Average Purchase Price  Total Purchase Revenue:  \\\n",
       "Bin                                                                      \n",
       "<10                23                3.353478                    77.13   \n",
       "10-14              28                2.956429                    82.78   \n",
       "15-19             136                3.035956                   412.89   \n",
       "20-24             365                3.052219                  1114.06   \n",
       "25-29             101                2.900990                   293.00   \n",
       "30-34              73                2.931507                   214.00   \n",
       "35-39              41                3.601707                   147.67   \n",
       "40+                13                2.941538                    38.24   \n",
       "\n",
       "       Avg Total Purchase per Person  \n",
       "Bin                                   \n",
       "<10                         4.537059  \n",
       "10-14                       3.762727  \n",
       "15-19                       3.858785  \n",
       "20-24                       4.318062  \n",
       "25-29                       3.805195  \n",
       "30-34                       4.115385  \n",
       "35-39                       4.763548  \n",
       "40+                         3.186667  "
      ]
     },
     "execution_count": 339,
     "metadata": {},
     "output_type": "execute_result"
    }
   ],
   "source": [
    "bins2_df_fin\n"
   ]
  },
  {
   "cell_type": "code",
   "execution_count": null,
   "id": "internal-omaha",
   "metadata": {},
   "outputs": [],
   "source": []
  }
 ],
 "metadata": {
  "kernelspec": {
   "display_name": "Python [conda env:PythonData] *",
   "language": "python",
   "name": "conda-env-PythonData-py"
  },
  "language_info": {
   "codemirror_mode": {
    "name": "ipython",
    "version": 3
   },
   "file_extension": ".py",
   "mimetype": "text/x-python",
   "name": "python",
   "nbconvert_exporter": "python",
   "pygments_lexer": "ipython3",
   "version": "3.6.10"
  }
 },
 "nbformat": 4,
 "nbformat_minor": 5
}
