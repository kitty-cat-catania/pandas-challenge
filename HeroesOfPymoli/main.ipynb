{
 "cells": [
  {
   "cell_type": "code",
   "execution_count": 637,
   "id": "minor-genesis",
   "metadata": {},
   "outputs": [],
   "source": [
    "import pandas as pd\n",
    "import csv\n",
    "import numpy as np"
   ]
  },
  {
   "cell_type": "code",
   "execution_count": 638,
   "id": "adolescent-spanking",
   "metadata": {},
   "outputs": [],
   "source": [
    "purchase_file = \"Resources/purchase_data.csv\"\n",
    "purchase_df = pd.read_csv(purchase_file)"
   ]
  },
  {
   "cell_type": "code",
   "execution_count": 640,
   "id": "future-found",
   "metadata": {},
   "outputs": [
    {
     "name": "stdout",
     "output_type": "stream",
     "text": [
      "576\n"
     ]
    }
   ],
   "source": [
    "print(len(purchase_df['SN'].unique()))"
   ]
  },
  {
   "cell_type": "code",
   "execution_count": 641,
   "id": "hidden-newcastle",
   "metadata": {},
   "outputs": [],
   "source": [
    "tot_players = pd.Series(purchase_df['SN'].unique())"
   ]
  },
  {
   "cell_type": "code",
   "execution_count": 643,
   "id": "collectible-oriental",
   "metadata": {},
   "outputs": [
    {
     "data": {
      "text/plain": [
       "0          Lisim78\n",
       "1      Lisovynya38\n",
       "2       Ithergue48\n",
       "3    Chamassasya86\n",
       "4        Iskosia90\n",
       "dtype: object"
      ]
     },
     "execution_count": 643,
     "metadata": {},
     "output_type": "execute_result"
    }
   ],
   "source": [
    "tot_players.head()"
   ]
  },
  {
   "cell_type": "code",
   "execution_count": 644,
   "id": "catholic-sally",
   "metadata": {},
   "outputs": [],
   "source": [
    "purchase_group = purchase_df.groupby('SN')"
   ]
  },
  {
   "cell_type": "code",
   "execution_count": 645,
   "id": "demographic-boutique",
   "metadata": {},
   "outputs": [],
   "source": [
    "#calculation to find number of unique items \n",
    "uniq_items=purchase_df['Item Name'].unique()"
   ]
  },
  {
   "cell_type": "code",
   "execution_count": 646,
   "id": "challenging-sullivan",
   "metadata": {},
   "outputs": [],
   "source": [
    "#int variable that holds the number of unique items\n",
    "num_uniq_item = len(uniq_items)"
   ]
  },
  {
   "cell_type": "code",
   "execution_count": 647,
   "id": "living-packet",
   "metadata": {},
   "outputs": [],
   "source": [
    "#calculation for average price \n",
    "ave_price_arr = purchase_df['Price'].mean()"
   ]
  },
  {
   "cell_type": "code",
   "execution_count": 648,
   "id": "featured-aircraft",
   "metadata": {},
   "outputs": [],
   "source": [
    "#calculation for number of purchases\n",
    "Purchases  = purchase_df[\"Purchase ID\"]"
   ]
  },
  {
   "cell_type": "code",
   "execution_count": 649,
   "id": "associate-refund",
   "metadata": {},
   "outputs": [],
   "source": [
    "numPurchases = len(Purchases)"
   ]
  },
  {
   "cell_type": "code",
   "execution_count": 650,
   "id": "level-housing",
   "metadata": {},
   "outputs": [],
   "source": [
    "#calculation for total revenue \n",
    "totRev = purchase_df[\"Price\"].sum()"
   ]
  },
  {
   "cell_type": "code",
   "execution_count": 651,
   "id": "informal-answer",
   "metadata": {},
   "outputs": [],
   "source": [
    "Rev = np.float64(0)\n",
    "pyRev = Rev.item()"
   ]
  },
  {
   "cell_type": "code",
   "execution_count": 652,
   "id": "personal-intro",
   "metadata": {},
   "outputs": [],
   "source": [
    "#create dictionary of lists \n",
    "purchDict = {\"Number of Unique Items\":[num_uniq_item],\n",
    "             \"Average Price\": [ave_price_arr],\n",
    "             \"Number of Purchases\": [numPurchases],\n",
    "             \"Total Revenue\": [totRev]}\n"
   ]
  },
  {
   "cell_type": "code",
   "execution_count": 653,
   "id": "smoking-effect",
   "metadata": {},
   "outputs": [],
   "source": [
    "#purch df number 2\n",
    "sum_df= pd.DataFrame(purchDict)"
   ]
  },
  {
   "cell_type": "code",
   "execution_count": 654,
   "id": "joined-official",
   "metadata": {},
   "outputs": [
    {
     "data": {
      "text/html": [
       "<div>\n",
       "<style scoped>\n",
       "    .dataframe tbody tr th:only-of-type {\n",
       "        vertical-align: middle;\n",
       "    }\n",
       "\n",
       "    .dataframe tbody tr th {\n",
       "        vertical-align: top;\n",
       "    }\n",
       "\n",
       "    .dataframe thead th {\n",
       "        text-align: right;\n",
       "    }\n",
       "</style>\n",
       "<table border=\"1\" class=\"dataframe\">\n",
       "  <thead>\n",
       "    <tr style=\"text-align: right;\">\n",
       "      <th></th>\n",
       "      <th>Number of Unique Items</th>\n",
       "      <th>Average Price</th>\n",
       "      <th>Number of Purchases</th>\n",
       "      <th>Total Revenue</th>\n",
       "    </tr>\n",
       "  </thead>\n",
       "  <tbody>\n",
       "    <tr>\n",
       "      <th>0</th>\n",
       "      <td>179</td>\n",
       "      <td>3.050987</td>\n",
       "      <td>780</td>\n",
       "      <td>2379.77</td>\n",
       "    </tr>\n",
       "  </tbody>\n",
       "</table>\n",
       "</div>"
      ],
      "text/plain": [
       "   Number of Unique Items  Average Price  Number of Purchases  Total Revenue\n",
       "0                     179       3.050987                  780        2379.77"
      ]
     },
     "execution_count": 654,
     "metadata": {},
     "output_type": "execute_result"
    }
   ],
   "source": [
    "sum_df"
   ]
  },
  {
   "cell_type": "code",
   "execution_count": 655,
   "id": "finnish-resort",
   "metadata": {},
   "outputs": [],
   "source": [
    "#Gender Demographics \n"
   ]
  },
  {
   "cell_type": "code",
   "execution_count": 656,
   "id": "loaded-modern",
   "metadata": {},
   "outputs": [],
   "source": [
    "#calculation for total count of male players \n",
    "#only_male is new df with info from purchase_df but only males-- contains repeats\n",
    "only_male = purchase_df.loc[purchase_df[\"Gender\"]==\"Male\"]"
   ]
  },
  {
   "cell_type": "code",
   "execution_count": 657,
   "id": "loving-activity",
   "metadata": {},
   "outputs": [],
   "source": [
    "male_uniq = only_male['SN'].unique()"
   ]
  },
  {
   "cell_type": "code",
   "execution_count": 658,
   "id": "intermediate-necessity",
   "metadata": {},
   "outputs": [],
   "source": [
    "male_count=(len(male_uniq))"
   ]
  },
  {
   "cell_type": "code",
   "execution_count": 659,
   "id": "affiliated-parent",
   "metadata": {},
   "outputs": [],
   "source": [
    "#get the number of total players-- store as an 'int' variable\n",
    "num_players = len(tot_players)"
   ]
  },
  {
   "cell_type": "code",
   "execution_count": 660,
   "id": "confirmed-twist",
   "metadata": {},
   "outputs": [],
   "source": [
    "percent_male = (male_count/num_players)"
   ]
  },
  {
   "cell_type": "code",
   "execution_count": 661,
   "id": "absent-buffer",
   "metadata": {},
   "outputs": [],
   "source": [
    "#calculation for total count of female players \n",
    "#only_fem is new df with info from purchase_df but only females-- contains repeats\n",
    "only_fem = purchase_df.loc[purchase_df[\"Gender\"]==\"Female\"]"
   ]
  },
  {
   "cell_type": "code",
   "execution_count": 662,
   "id": "speaking-pharmaceutical",
   "metadata": {},
   "outputs": [],
   "source": [
    "#creates array of unique female SN\n",
    "fem_uniq = only_fem['SN'].unique()"
   ]
  },
  {
   "cell_type": "code",
   "execution_count": 663,
   "id": "excessive-ready",
   "metadata": {},
   "outputs": [],
   "source": [
    "fem_count = len(fem_uniq)"
   ]
  },
  {
   "cell_type": "code",
   "execution_count": 664,
   "id": "bright-japan",
   "metadata": {},
   "outputs": [],
   "source": [
    "#calculate percent of female players and store in variable called 'percent_fem'\n",
    "percent_fem = (fem_count/num_players)"
   ]
  },
  {
   "cell_type": "code",
   "execution_count": 665,
   "id": "appointed-journal",
   "metadata": {},
   "outputs": [
    {
     "data": {
      "text/plain": [
       "Male                     652\n",
       "Female                   113\n",
       "Other / Non-Disclosed     15\n",
       "Name: Gender, dtype: int64"
      ]
     },
     "execution_count": 665,
     "metadata": {},
     "output_type": "execute_result"
    }
   ],
   "source": [
    "purchase_df[\"Gender\"].value_counts()"
   ]
  },
  {
   "cell_type": "code",
   "execution_count": 666,
   "id": "everyday-judge",
   "metadata": {},
   "outputs": [],
   "source": [
    "only_other = purchase_df.loc[purchase_df[\"Gender\"]==\"Other / Non-Disclosed\"]"
   ]
  },
  {
   "cell_type": "code",
   "execution_count": 667,
   "id": "connected-institute",
   "metadata": {},
   "outputs": [],
   "source": [
    "other_uniq = only_other[\"SN\"].unique()"
   ]
  },
  {
   "cell_type": "code",
   "execution_count": 668,
   "id": "emerging-antenna",
   "metadata": {},
   "outputs": [],
   "source": [
    "other_count = len(other_uniq)"
   ]
  },
  {
   "cell_type": "code",
   "execution_count": 669,
   "id": "alleged-greenhouse",
   "metadata": {},
   "outputs": [],
   "source": [
    "percent_other = (other_count/num_players)"
   ]
  },
  {
   "cell_type": "code",
   "execution_count": 670,
   "id": "nervous-sentence",
   "metadata": {},
   "outputs": [],
   "source": [
    "#creation of lists\n",
    "counts = [male_count,fem_count,other_count]"
   ]
  },
  {
   "cell_type": "code",
   "execution_count": 671,
   "id": "sporting-little",
   "metadata": {},
   "outputs": [],
   "source": [
    "percents = [percent_male,percent_fem,percent_other]"
   ]
  },
  {
   "cell_type": "code",
   "execution_count": 672,
   "id": "subtle-thong",
   "metadata": {},
   "outputs": [],
   "source": [
    "#try with list of dictionaries \n"
   ]
  },
  {
   "cell_type": "code",
   "execution_count": 673,
   "id": "congressional-dancing",
   "metadata": {},
   "outputs": [],
   "source": [
    "#create list of dictionaries\n",
    "gender_list = [{\"Total Count\": male_count,\"Percentage of Players\": percent_male},\n",
    "               {\"Total Count\":fem_count,\"Percentage of Players\":percent_fem},\n",
    "               {\"Total Count\":other_count,\"Percentage of Players\":percent_other}]"
   ]
  },
  {
   "cell_type": "code",
   "execution_count": 674,
   "id": "present-hands",
   "metadata": {},
   "outputs": [],
   "source": [
    "gender_df2 = pd.DataFrame(gender_list)"
   ]
  },
  {
   "cell_type": "code",
   "execution_count": 675,
   "id": "restricted-event",
   "metadata": {},
   "outputs": [],
   "source": [
    "gender_df2.index=['Male','Female', 'Other / Nondisclosed']"
   ]
  },
  {
   "cell_type": "code",
   "execution_count": 676,
   "id": "cardiac-player",
   "metadata": {},
   "outputs": [
    {
     "data": {
      "text/html": [
       "<div>\n",
       "<style scoped>\n",
       "    .dataframe tbody tr th:only-of-type {\n",
       "        vertical-align: middle;\n",
       "    }\n",
       "\n",
       "    .dataframe tbody tr th {\n",
       "        vertical-align: top;\n",
       "    }\n",
       "\n",
       "    .dataframe thead th {\n",
       "        text-align: right;\n",
       "    }\n",
       "</style>\n",
       "<table border=\"1\" class=\"dataframe\">\n",
       "  <thead>\n",
       "    <tr style=\"text-align: right;\">\n",
       "      <th></th>\n",
       "      <th>Total Count</th>\n",
       "      <th>Percentage of Players</th>\n",
       "    </tr>\n",
       "  </thead>\n",
       "  <tbody>\n",
       "    <tr>\n",
       "      <th>Male</th>\n",
       "      <td>484</td>\n",
       "      <td>0.840278</td>\n",
       "    </tr>\n",
       "    <tr>\n",
       "      <th>Female</th>\n",
       "      <td>81</td>\n",
       "      <td>0.140625</td>\n",
       "    </tr>\n",
       "    <tr>\n",
       "      <th>Other / Nondisclosed</th>\n",
       "      <td>11</td>\n",
       "      <td>0.019097</td>\n",
       "    </tr>\n",
       "  </tbody>\n",
       "</table>\n",
       "</div>"
      ],
      "text/plain": [
       "                      Total Count  Percentage of Players\n",
       "Male                          484               0.840278\n",
       "Female                         81               0.140625\n",
       "Other / Nondisclosed           11               0.019097"
      ]
     },
     "execution_count": 676,
     "metadata": {},
     "output_type": "execute_result"
    }
   ],
   "source": [
    "gender_df2"
   ]
  },
  {
   "cell_type": "code",
   "execution_count": 677,
   "id": "successful-chart",
   "metadata": {},
   "outputs": [],
   "source": [
    "#purchasing analysis (gender)\n"
   ]
  },
  {
   "cell_type": "code",
   "execution_count": 678,
   "id": "desirable-damages",
   "metadata": {},
   "outputs": [],
   "source": [
    "gender_group_pur = purchase_df.groupby(\"Gender\")"
   ]
  },
  {
   "cell_type": "code",
   "execution_count": 679,
   "id": "falling-baghdad",
   "metadata": {},
   "outputs": [],
   "source": [
    "gender_group_purchase = gender_group_pur[\"Gender\"].count()"
   ]
  },
  {
   "cell_type": "code",
   "execution_count": 680,
   "id": "relevant-vertical",
   "metadata": {},
   "outputs": [],
   "source": [
    "avg_price_gen = gender_group_pur[\"Price\"].mean()"
   ]
  },
  {
   "cell_type": "code",
   "execution_count": 681,
   "id": "heated-sympathy",
   "metadata": {},
   "outputs": [],
   "source": [
    "tot_purch = gender_group_pur[\"Price\"].sum()"
   ]
  },
  {
   "cell_type": "code",
   "execution_count": 682,
   "id": "loose-infrastructure",
   "metadata": {},
   "outputs": [],
   "source": [
    "gen_uniq = purchase_df.groupby(\"Gender\")"
   ]
  },
  {
   "cell_type": "code",
   "execution_count": 683,
   "id": "bizarre-relations",
   "metadata": {},
   "outputs": [],
   "source": [
    "gen_nums = gen_uniq[\"SN\"].value_counts()"
   ]
  },
  {
   "cell_type": "code",
   "execution_count": 684,
   "id": "piano-terrorist",
   "metadata": {},
   "outputs": [],
   "source": [
    "persons=gender_df2[\"Total Count\"].sort_index()"
   ]
  },
  {
   "cell_type": "code",
   "execution_count": 685,
   "id": "dental-transcription",
   "metadata": {},
   "outputs": [],
   "source": [
    "ave_purch_person = tot_purch/persons"
   ]
  },
  {
   "cell_type": "code",
   "execution_count": 686,
   "id": "velvet-harvey",
   "metadata": {},
   "outputs": [],
   "source": [
    "fem_av_purch= tot_purch[0]/fem_count"
   ]
  },
  {
   "cell_type": "code",
   "execution_count": 687,
   "id": "tight-europe",
   "metadata": {},
   "outputs": [],
   "source": [
    "male_av_purch = tot_purch[1]/male_count"
   ]
  },
  {
   "cell_type": "code",
   "execution_count": 688,
   "id": "thrown-integrity",
   "metadata": {},
   "outputs": [],
   "source": [
    "other_av_purch = tot_purch[2]/other_count"
   ]
  },
  {
   "cell_type": "code",
   "execution_count": 689,
   "id": "meaningful-alias",
   "metadata": {},
   "outputs": [],
   "source": [
    "ave_gen_list = [fem_av_purch,male_av_purch,other_av_purch]"
   ]
  },
  {
   "cell_type": "code",
   "execution_count": 690,
   "id": "experienced-smooth",
   "metadata": {},
   "outputs": [
    {
     "name": "stdout",
     "output_type": "stream",
     "text": [
      "0    4.468395\n",
      "1    4.065372\n",
      "2    4.562727\n",
      "dtype: float64\n"
     ]
    }
   ],
   "source": [
    "ave_gen_series = pd.Series(ave_gen_list)\n",
    "print(ave_gen_series)"
   ]
  },
  {
   "cell_type": "code",
   "execution_count": 691,
   "id": "julian-scanning",
   "metadata": {},
   "outputs": [],
   "source": [
    "trial_frame={\"Purchase Count\": gender_group_purchase,\n",
    "             \"Average Purchase Price\": avg_price_gen,\n",
    "             \"Total Purchase Value\": tot_purch}"
   ]
  },
  {
   "cell_type": "code",
   "execution_count": 692,
   "id": "cooperative-armenia",
   "metadata": {},
   "outputs": [],
   "source": [
    "trial2 = pd.DataFrame(trial_frame)"
   ]
  },
  {
   "cell_type": "code",
   "execution_count": 693,
   "id": "recreational-courage",
   "metadata": {},
   "outputs": [],
   "source": [
    "trial2.insert(3,\"Avg Total Purchase per Person\",ave_gen_list)"
   ]
  },
  {
   "cell_type": "code",
   "execution_count": 694,
   "id": "animated-relationship",
   "metadata": {},
   "outputs": [
    {
     "data": {
      "text/html": [
       "<div>\n",
       "<style scoped>\n",
       "    .dataframe tbody tr th:only-of-type {\n",
       "        vertical-align: middle;\n",
       "    }\n",
       "\n",
       "    .dataframe tbody tr th {\n",
       "        vertical-align: top;\n",
       "    }\n",
       "\n",
       "    .dataframe thead th {\n",
       "        text-align: right;\n",
       "    }\n",
       "</style>\n",
       "<table border=\"1\" class=\"dataframe\">\n",
       "  <thead>\n",
       "    <tr style=\"text-align: right;\">\n",
       "      <th></th>\n",
       "      <th>Purchase Count</th>\n",
       "      <th>Average Purchase Price</th>\n",
       "      <th>Total Purchase Value</th>\n",
       "      <th>Avg Total Purchase per Person</th>\n",
       "    </tr>\n",
       "    <tr>\n",
       "      <th>Gender</th>\n",
       "      <th></th>\n",
       "      <th></th>\n",
       "      <th></th>\n",
       "      <th></th>\n",
       "    </tr>\n",
       "  </thead>\n",
       "  <tbody>\n",
       "    <tr>\n",
       "      <th>Female</th>\n",
       "      <td>113</td>\n",
       "      <td>3.203009</td>\n",
       "      <td>361.94</td>\n",
       "      <td>4.468395</td>\n",
       "    </tr>\n",
       "    <tr>\n",
       "      <th>Male</th>\n",
       "      <td>652</td>\n",
       "      <td>3.017853</td>\n",
       "      <td>1967.64</td>\n",
       "      <td>4.065372</td>\n",
       "    </tr>\n",
       "    <tr>\n",
       "      <th>Other / Non-Disclosed</th>\n",
       "      <td>15</td>\n",
       "      <td>3.346000</td>\n",
       "      <td>50.19</td>\n",
       "      <td>4.562727</td>\n",
       "    </tr>\n",
       "  </tbody>\n",
       "</table>\n",
       "</div>"
      ],
      "text/plain": [
       "                       Purchase Count  Average Purchase Price  \\\n",
       "Gender                                                          \n",
       "Female                            113                3.203009   \n",
       "Male                              652                3.017853   \n",
       "Other / Non-Disclosed              15                3.346000   \n",
       "\n",
       "                       Total Purchase Value  Avg Total Purchase per Person  \n",
       "Gender                                                                      \n",
       "Female                               361.94                       4.468395  \n",
       "Male                                1967.64                       4.065372  \n",
       "Other / Non-Disclosed                 50.19                       4.562727  "
      ]
     },
     "execution_count": 694,
     "metadata": {},
     "output_type": "execute_result"
    }
   ],
   "source": [
    "trial2"
   ]
  },
  {
   "cell_type": "code",
   "execution_count": 695,
   "id": "promotional-dispute",
   "metadata": {},
   "outputs": [],
   "source": [
    "#age demographics "
   ]
  },
  {
   "cell_type": "code",
   "execution_count": 696,
   "id": "enabling-serbia",
   "metadata": {},
   "outputs": [],
   "source": [
    "#get summary of ages\n",
    "meh= purchase_df[\"Age\"].unique()"
   ]
  },
  {
   "cell_type": "code",
   "execution_count": 697,
   "id": "extended-positive",
   "metadata": {},
   "outputs": [],
   "source": [
    "meh.sort()"
   ]
  },
  {
   "cell_type": "code",
   "execution_count": 698,
   "id": "nuclear-membrane",
   "metadata": {},
   "outputs": [],
   "source": [
    "bins = [0, 9.9,14.9, 19.9, 24.9, 29.9, 34.9, 39.9, 50.9 ]\n"
   ]
  },
  {
   "cell_type": "code",
   "execution_count": 699,
   "id": "annoying-despite",
   "metadata": {},
   "outputs": [],
   "source": [
    "bin_names = [\"<10\", \"10-14\", \"15-19\", \"20-24\", \"25-29\", \"30-34\", \"35-39\", \"40+\"]"
   ]
  },
  {
   "cell_type": "code",
   "execution_count": 700,
   "id": "narrative-millennium",
   "metadata": {},
   "outputs": [
    {
     "data": {
      "text/plain": [
       "20    99\n",
       "22    70\n",
       "24    67\n",
       "23    67\n",
       "21    62\n",
       "25    59\n",
       "15    35\n",
       "30    35\n",
       "16    30\n",
       "18    26\n",
       "19    23\n",
       "17    22\n",
       "35    14\n",
       "33    14\n",
       "26    14\n",
       "29    13\n",
       "27    10\n",
       "10     9\n",
       "7      9\n",
       "34     9\n",
       "38     9\n",
       "32     8\n",
       "8      8\n",
       "11     7\n",
       "31     7\n",
       "37     7\n",
       "39     6\n",
       "40     6\n",
       "9      6\n",
       "12     6\n",
       "36     5\n",
       "28     5\n",
       "13     4\n",
       "44     2\n",
       "41     2\n",
       "14     2\n",
       "43     1\n",
       "42     1\n",
       "45     1\n",
       "Name: Age, dtype: int64"
      ]
     },
     "execution_count": 700,
     "metadata": {},
     "output_type": "execute_result"
    }
   ],
   "source": [
    "purchase_df[\"Age\"].value_counts()"
   ]
  },
  {
   "cell_type": "code",
   "execution_count": 701,
   "id": "mounted-district",
   "metadata": {},
   "outputs": [],
   "source": [
    "uniq_players_group= purchase_df.groupby(\"Age\")"
   ]
  },
  {
   "cell_type": "code",
   "execution_count": 702,
   "id": "basic-implement",
   "metadata": {},
   "outputs": [],
   "source": [
    "uniq_try = uniq_players_group[\"SN\"].unique()"
   ]
  },
  {
   "cell_type": "code",
   "execution_count": 703,
   "id": "documented-brake",
   "metadata": {},
   "outputs": [],
   "source": [
    "seriously = purchase_df.drop_duplicates(subset = \"SN\")"
   ]
  },
  {
   "cell_type": "code",
   "execution_count": 704,
   "id": "expected-trinity",
   "metadata": {},
   "outputs": [],
   "source": [
    "why= pd.cut(seriously[\"Age\"], bins,labels=bin_names, include_lowest=True)"
   ]
  },
  {
   "cell_type": "code",
   "execution_count": 705,
   "id": "apart-marina",
   "metadata": {},
   "outputs": [],
   "source": [
    "seriously.insert(7,\"plz\",why)"
   ]
  },
  {
   "cell_type": "code",
   "execution_count": 706,
   "id": "warming-gallery",
   "metadata": {},
   "outputs": [],
   "source": [
    "seriously_group = seriously.groupby(\"plz\")"
   ]
  },
  {
   "cell_type": "code",
   "execution_count": 707,
   "id": "synthetic-output",
   "metadata": {},
   "outputs": [],
   "source": [
    "seriously_df = seriously_group.count()"
   ]
  },
  {
   "cell_type": "raw",
   "id": "rural-vinyl",
   "metadata": {},
   "source": []
  },
  {
   "cell_type": "code",
   "execution_count": 708,
   "id": "abstract-stroke",
   "metadata": {},
   "outputs": [],
   "source": [
    "seriously_bins = seriously_df[\"Purchase ID\"]"
   ]
  },
  {
   "cell_type": "code",
   "execution_count": 709,
   "id": "guided-interference",
   "metadata": {},
   "outputs": [],
   "source": [
    "omg_why = seriously_bins/num_players"
   ]
  },
  {
   "cell_type": "code",
   "execution_count": 710,
   "id": "photographic-asthma",
   "metadata": {},
   "outputs": [],
   "source": [
    "seriously_frame = {\"Total Count\": seriously_bins,\n",
    "                   \"Percentage of Players\": omg_why}"
   ]
  },
  {
   "cell_type": "code",
   "execution_count": 711,
   "id": "loaded-grenada",
   "metadata": {},
   "outputs": [],
   "source": [
    "send_halp = pd.DataFrame(seriously_frame)"
   ]
  },
  {
   "cell_type": "code",
   "execution_count": 712,
   "id": "automotive-amber",
   "metadata": {},
   "outputs": [
    {
     "data": {
      "text/html": [
       "<div>\n",
       "<style scoped>\n",
       "    .dataframe tbody tr th:only-of-type {\n",
       "        vertical-align: middle;\n",
       "    }\n",
       "\n",
       "    .dataframe tbody tr th {\n",
       "        vertical-align: top;\n",
       "    }\n",
       "\n",
       "    .dataframe thead th {\n",
       "        text-align: right;\n",
       "    }\n",
       "</style>\n",
       "<table border=\"1\" class=\"dataframe\">\n",
       "  <thead>\n",
       "    <tr style=\"text-align: right;\">\n",
       "      <th></th>\n",
       "      <th>Total Count</th>\n",
       "      <th>Percentage of Players</th>\n",
       "    </tr>\n",
       "    <tr>\n",
       "      <th>plz</th>\n",
       "      <th></th>\n",
       "      <th></th>\n",
       "    </tr>\n",
       "  </thead>\n",
       "  <tbody>\n",
       "    <tr>\n",
       "      <th>&lt;10</th>\n",
       "      <td>17</td>\n",
       "      <td>0.029514</td>\n",
       "    </tr>\n",
       "    <tr>\n",
       "      <th>10-14</th>\n",
       "      <td>22</td>\n",
       "      <td>0.038194</td>\n",
       "    </tr>\n",
       "    <tr>\n",
       "      <th>15-19</th>\n",
       "      <td>107</td>\n",
       "      <td>0.185764</td>\n",
       "    </tr>\n",
       "    <tr>\n",
       "      <th>20-24</th>\n",
       "      <td>258</td>\n",
       "      <td>0.447917</td>\n",
       "    </tr>\n",
       "    <tr>\n",
       "      <th>25-29</th>\n",
       "      <td>77</td>\n",
       "      <td>0.133681</td>\n",
       "    </tr>\n",
       "    <tr>\n",
       "      <th>30-34</th>\n",
       "      <td>52</td>\n",
       "      <td>0.090278</td>\n",
       "    </tr>\n",
       "    <tr>\n",
       "      <th>35-39</th>\n",
       "      <td>31</td>\n",
       "      <td>0.053819</td>\n",
       "    </tr>\n",
       "    <tr>\n",
       "      <th>40+</th>\n",
       "      <td>12</td>\n",
       "      <td>0.020833</td>\n",
       "    </tr>\n",
       "  </tbody>\n",
       "</table>\n",
       "</div>"
      ],
      "text/plain": [
       "       Total Count  Percentage of Players\n",
       "plz                                      \n",
       "<10             17               0.029514\n",
       "10-14           22               0.038194\n",
       "15-19          107               0.185764\n",
       "20-24          258               0.447917\n",
       "25-29           77               0.133681\n",
       "30-34           52               0.090278\n",
       "35-39           31               0.053819\n",
       "40+             12               0.020833"
      ]
     },
     "execution_count": 712,
     "metadata": {},
     "output_type": "execute_result"
    }
   ],
   "source": [
    "send_halp"
   ]
  },
  {
   "cell_type": "code",
   "execution_count": 713,
   "id": "accepted-house",
   "metadata": {},
   "outputs": [],
   "source": [
    "#purchasing analysis (age)"
   ]
  },
  {
   "cell_type": "code",
   "execution_count": 714,
   "id": "separate-identifier",
   "metadata": {},
   "outputs": [],
   "source": [
    "bins2= pd.cut(purchase_df[\"Age\"], bins,labels=bin_names, include_lowest=True)"
   ]
  },
  {
   "cell_type": "code",
   "execution_count": 715,
   "id": "sophisticated-trustee",
   "metadata": {},
   "outputs": [],
   "source": [
    "purchase_df.insert(7,\"Bin\",bins2)"
   ]
  },
  {
   "cell_type": "code",
   "execution_count": 716,
   "id": "becoming-manner",
   "metadata": {},
   "outputs": [
    {
     "data": {
      "text/html": [
       "<div>\n",
       "<style scoped>\n",
       "    .dataframe tbody tr th:only-of-type {\n",
       "        vertical-align: middle;\n",
       "    }\n",
       "\n",
       "    .dataframe tbody tr th {\n",
       "        vertical-align: top;\n",
       "    }\n",
       "\n",
       "    .dataframe thead th {\n",
       "        text-align: right;\n",
       "    }\n",
       "</style>\n",
       "<table border=\"1\" class=\"dataframe\">\n",
       "  <thead>\n",
       "    <tr style=\"text-align: right;\">\n",
       "      <th></th>\n",
       "      <th>Purchase ID</th>\n",
       "      <th>SN</th>\n",
       "      <th>Age</th>\n",
       "      <th>Gender</th>\n",
       "      <th>Item ID</th>\n",
       "      <th>Item Name</th>\n",
       "      <th>Price</th>\n",
       "      <th>Bin</th>\n",
       "    </tr>\n",
       "  </thead>\n",
       "  <tbody>\n",
       "    <tr>\n",
       "      <th>0</th>\n",
       "      <td>0</td>\n",
       "      <td>Lisim78</td>\n",
       "      <td>20</td>\n",
       "      <td>Male</td>\n",
       "      <td>108</td>\n",
       "      <td>Extraction, Quickblade Of Trembling Hands</td>\n",
       "      <td>3.53</td>\n",
       "      <td>20-24</td>\n",
       "    </tr>\n",
       "    <tr>\n",
       "      <th>1</th>\n",
       "      <td>1</td>\n",
       "      <td>Lisovynya38</td>\n",
       "      <td>40</td>\n",
       "      <td>Male</td>\n",
       "      <td>143</td>\n",
       "      <td>Frenzied Scimitar</td>\n",
       "      <td>1.56</td>\n",
       "      <td>40+</td>\n",
       "    </tr>\n",
       "    <tr>\n",
       "      <th>2</th>\n",
       "      <td>2</td>\n",
       "      <td>Ithergue48</td>\n",
       "      <td>24</td>\n",
       "      <td>Male</td>\n",
       "      <td>92</td>\n",
       "      <td>Final Critic</td>\n",
       "      <td>4.88</td>\n",
       "      <td>20-24</td>\n",
       "    </tr>\n",
       "    <tr>\n",
       "      <th>3</th>\n",
       "      <td>3</td>\n",
       "      <td>Chamassasya86</td>\n",
       "      <td>24</td>\n",
       "      <td>Male</td>\n",
       "      <td>100</td>\n",
       "      <td>Blindscythe</td>\n",
       "      <td>3.27</td>\n",
       "      <td>20-24</td>\n",
       "    </tr>\n",
       "    <tr>\n",
       "      <th>4</th>\n",
       "      <td>4</td>\n",
       "      <td>Iskosia90</td>\n",
       "      <td>23</td>\n",
       "      <td>Male</td>\n",
       "      <td>131</td>\n",
       "      <td>Fury</td>\n",
       "      <td>1.44</td>\n",
       "      <td>20-24</td>\n",
       "    </tr>\n",
       "    <tr>\n",
       "      <th>...</th>\n",
       "      <td>...</td>\n",
       "      <td>...</td>\n",
       "      <td>...</td>\n",
       "      <td>...</td>\n",
       "      <td>...</td>\n",
       "      <td>...</td>\n",
       "      <td>...</td>\n",
       "      <td>...</td>\n",
       "    </tr>\n",
       "    <tr>\n",
       "      <th>775</th>\n",
       "      <td>775</td>\n",
       "      <td>Aethedru70</td>\n",
       "      <td>21</td>\n",
       "      <td>Female</td>\n",
       "      <td>60</td>\n",
       "      <td>Wolf</td>\n",
       "      <td>3.54</td>\n",
       "      <td>20-24</td>\n",
       "    </tr>\n",
       "    <tr>\n",
       "      <th>776</th>\n",
       "      <td>776</td>\n",
       "      <td>Iral74</td>\n",
       "      <td>21</td>\n",
       "      <td>Male</td>\n",
       "      <td>164</td>\n",
       "      <td>Exiled Doomblade</td>\n",
       "      <td>1.63</td>\n",
       "      <td>20-24</td>\n",
       "    </tr>\n",
       "    <tr>\n",
       "      <th>777</th>\n",
       "      <td>777</td>\n",
       "      <td>Yathecal72</td>\n",
       "      <td>20</td>\n",
       "      <td>Male</td>\n",
       "      <td>67</td>\n",
       "      <td>Celeste, Incarnation of the Corrupted</td>\n",
       "      <td>3.46</td>\n",
       "      <td>20-24</td>\n",
       "    </tr>\n",
       "    <tr>\n",
       "      <th>778</th>\n",
       "      <td>778</td>\n",
       "      <td>Sisur91</td>\n",
       "      <td>7</td>\n",
       "      <td>Male</td>\n",
       "      <td>92</td>\n",
       "      <td>Final Critic</td>\n",
       "      <td>4.19</td>\n",
       "      <td>&lt;10</td>\n",
       "    </tr>\n",
       "    <tr>\n",
       "      <th>779</th>\n",
       "      <td>779</td>\n",
       "      <td>Ennrian78</td>\n",
       "      <td>24</td>\n",
       "      <td>Male</td>\n",
       "      <td>50</td>\n",
       "      <td>Dawn</td>\n",
       "      <td>4.60</td>\n",
       "      <td>20-24</td>\n",
       "    </tr>\n",
       "  </tbody>\n",
       "</table>\n",
       "<p>780 rows × 8 columns</p>\n",
       "</div>"
      ],
      "text/plain": [
       "     Purchase ID             SN  Age  Gender  Item ID  \\\n",
       "0              0        Lisim78   20    Male      108   \n",
       "1              1    Lisovynya38   40    Male      143   \n",
       "2              2     Ithergue48   24    Male       92   \n",
       "3              3  Chamassasya86   24    Male      100   \n",
       "4              4      Iskosia90   23    Male      131   \n",
       "..           ...            ...  ...     ...      ...   \n",
       "775          775     Aethedru70   21  Female       60   \n",
       "776          776         Iral74   21    Male      164   \n",
       "777          777     Yathecal72   20    Male       67   \n",
       "778          778        Sisur91    7    Male       92   \n",
       "779          779      Ennrian78   24    Male       50   \n",
       "\n",
       "                                     Item Name  Price    Bin  \n",
       "0    Extraction, Quickblade Of Trembling Hands   3.53  20-24  \n",
       "1                            Frenzied Scimitar   1.56    40+  \n",
       "2                                 Final Critic   4.88  20-24  \n",
       "3                                  Blindscythe   3.27  20-24  \n",
       "4                                         Fury   1.44  20-24  \n",
       "..                                         ...    ...    ...  \n",
       "775                                       Wolf   3.54  20-24  \n",
       "776                           Exiled Doomblade   1.63  20-24  \n",
       "777      Celeste, Incarnation of the Corrupted   3.46  20-24  \n",
       "778                               Final Critic   4.19    <10  \n",
       "779                                       Dawn   4.60  20-24  \n",
       "\n",
       "[780 rows x 8 columns]"
      ]
     },
     "execution_count": 716,
     "metadata": {},
     "output_type": "execute_result"
    }
   ],
   "source": [
    "purchase_df"
   ]
  },
  {
   "cell_type": "code",
   "execution_count": 717,
   "id": "desirable-semiconductor",
   "metadata": {},
   "outputs": [],
   "source": [
    "bins2_group = purchase_df.groupby(\"Bin\")"
   ]
  },
  {
   "cell_type": "code",
   "execution_count": 718,
   "id": "breathing-cooking",
   "metadata": {},
   "outputs": [],
   "source": [
    "bins2_df = bins2_group.count()"
   ]
  },
  {
   "cell_type": "code",
   "execution_count": 720,
   "id": "computational-mustang",
   "metadata": {},
   "outputs": [],
   "source": [
    "bins2_purchCount= bins2_df[\"SN\"]\n"
   ]
  },
  {
   "cell_type": "code",
   "execution_count": 721,
   "id": "final-eagle",
   "metadata": {},
   "outputs": [],
   "source": [
    "bins2_avPrice= bins2_group[\"Price\"].mean()"
   ]
  },
  {
   "cell_type": "code",
   "execution_count": 723,
   "id": "broadband-miami",
   "metadata": {},
   "outputs": [],
   "source": [
    "bins2_totRev= bins2_group[\"Price\"].sum()"
   ]
  },
  {
   "cell_type": "code",
   "execution_count": 724,
   "id": "diagnostic-framework",
   "metadata": {},
   "outputs": [],
   "source": [
    "bins2_av_pp = bins2_totRev/seriously_bins"
   ]
  },
  {
   "cell_type": "code",
   "execution_count": 725,
   "id": "presidential-elements",
   "metadata": {},
   "outputs": [],
   "source": [
    "bins2_finalFrame = {\"Purchase Count\": bins2_purchCount,\n",
    "                    \"Average Purchase Price\": bins2_avPrice,\n",
    "                    \"Total Purchase Revenue:\": bins2_totRev,\n",
    "                    \"Avg Total Purchase per Person\": bins2_av_pp}"
   ]
  },
  {
   "cell_type": "code",
   "execution_count": 726,
   "id": "expressed-placement",
   "metadata": {},
   "outputs": [],
   "source": [
    "bins2_df_fin = pd.DataFrame(bins2_finalFrame)"
   ]
  },
  {
   "cell_type": "code",
   "execution_count": 728,
   "id": "otherwise-annex",
   "metadata": {},
   "outputs": [
    {
     "data": {
      "text/html": [
       "<div>\n",
       "<style scoped>\n",
       "    .dataframe tbody tr th:only-of-type {\n",
       "        vertical-align: middle;\n",
       "    }\n",
       "\n",
       "    .dataframe tbody tr th {\n",
       "        vertical-align: top;\n",
       "    }\n",
       "\n",
       "    .dataframe thead th {\n",
       "        text-align: right;\n",
       "    }\n",
       "</style>\n",
       "<table border=\"1\" class=\"dataframe\">\n",
       "  <thead>\n",
       "    <tr style=\"text-align: right;\">\n",
       "      <th></th>\n",
       "      <th>Purchase Count</th>\n",
       "      <th>Average Purchase Price</th>\n",
       "      <th>Total Purchase Revenue:</th>\n",
       "      <th>Avg Total Purchase per Person</th>\n",
       "    </tr>\n",
       "    <tr>\n",
       "      <th>Bin</th>\n",
       "      <th></th>\n",
       "      <th></th>\n",
       "      <th></th>\n",
       "      <th></th>\n",
       "    </tr>\n",
       "  </thead>\n",
       "  <tbody>\n",
       "    <tr>\n",
       "      <th>&lt;10</th>\n",
       "      <td>23</td>\n",
       "      <td>3.353478</td>\n",
       "      <td>77.13</td>\n",
       "      <td>4.537059</td>\n",
       "    </tr>\n",
       "    <tr>\n",
       "      <th>10-14</th>\n",
       "      <td>28</td>\n",
       "      <td>2.956429</td>\n",
       "      <td>82.78</td>\n",
       "      <td>3.762727</td>\n",
       "    </tr>\n",
       "    <tr>\n",
       "      <th>15-19</th>\n",
       "      <td>136</td>\n",
       "      <td>3.035956</td>\n",
       "      <td>412.89</td>\n",
       "      <td>3.858785</td>\n",
       "    </tr>\n",
       "    <tr>\n",
       "      <th>20-24</th>\n",
       "      <td>365</td>\n",
       "      <td>3.052219</td>\n",
       "      <td>1114.06</td>\n",
       "      <td>4.318062</td>\n",
       "    </tr>\n",
       "    <tr>\n",
       "      <th>25-29</th>\n",
       "      <td>101</td>\n",
       "      <td>2.900990</td>\n",
       "      <td>293.00</td>\n",
       "      <td>3.805195</td>\n",
       "    </tr>\n",
       "    <tr>\n",
       "      <th>30-34</th>\n",
       "      <td>73</td>\n",
       "      <td>2.931507</td>\n",
       "      <td>214.00</td>\n",
       "      <td>4.115385</td>\n",
       "    </tr>\n",
       "    <tr>\n",
       "      <th>35-39</th>\n",
       "      <td>41</td>\n",
       "      <td>3.601707</td>\n",
       "      <td>147.67</td>\n",
       "      <td>4.763548</td>\n",
       "    </tr>\n",
       "    <tr>\n",
       "      <th>40+</th>\n",
       "      <td>13</td>\n",
       "      <td>2.941538</td>\n",
       "      <td>38.24</td>\n",
       "      <td>3.186667</td>\n",
       "    </tr>\n",
       "  </tbody>\n",
       "</table>\n",
       "</div>"
      ],
      "text/plain": [
       "       Purchase Count  Average Purchase Price  Total Purchase Revenue:  \\\n",
       "Bin                                                                      \n",
       "<10                23                3.353478                    77.13   \n",
       "10-14              28                2.956429                    82.78   \n",
       "15-19             136                3.035956                   412.89   \n",
       "20-24             365                3.052219                  1114.06   \n",
       "25-29             101                2.900990                   293.00   \n",
       "30-34              73                2.931507                   214.00   \n",
       "35-39              41                3.601707                   147.67   \n",
       "40+                13                2.941538                    38.24   \n",
       "\n",
       "       Avg Total Purchase per Person  \n",
       "Bin                                   \n",
       "<10                         4.537059  \n",
       "10-14                       3.762727  \n",
       "15-19                       3.858785  \n",
       "20-24                       4.318062  \n",
       "25-29                       3.805195  \n",
       "30-34                       4.115385  \n",
       "35-39                       4.763548  \n",
       "40+                         3.186667  "
      ]
     },
     "execution_count": 728,
     "metadata": {},
     "output_type": "execute_result"
    }
   ],
   "source": [
    "bins2_df_fin\n"
   ]
  },
  {
   "cell_type": "code",
   "execution_count": 729,
   "id": "alpine-elite",
   "metadata": {},
   "outputs": [],
   "source": [
    "#top spenders"
   ]
  },
  {
   "cell_type": "code",
   "execution_count": 730,
   "id": "copyrighted-subscriber",
   "metadata": {},
   "outputs": [],
   "source": [
    "spender_group = purchase_df.groupby(\"SN\")"
   ]
  },
  {
   "cell_type": "code",
   "execution_count": 731,
   "id": "varying-pledge",
   "metadata": {},
   "outputs": [],
   "source": [
    "spend_purch_count = spender_group[\"SN\"].count()"
   ]
  },
  {
   "cell_type": "code",
   "execution_count": 733,
   "id": "judicial-academy",
   "metadata": {},
   "outputs": [],
   "source": [
    "spender_av_p = spender_group[\"Price\"].mean()"
   ]
  },
  {
   "cell_type": "code",
   "execution_count": 734,
   "id": "offensive-contribution",
   "metadata": {},
   "outputs": [
    {
     "data": {
      "text/plain": [
       "SN\n",
       "Adairialis76     2.280000\n",
       "Adastirin33      4.480000\n",
       "Aeda94           4.910000\n",
       "Aela59           4.320000\n",
       "Aelaria33        1.790000\n",
       "                   ...   \n",
       "Yathecal82       2.073333\n",
       "Yathedeu43       3.010000\n",
       "Yoishirrala98    4.580000\n",
       "Zhisrisu83       3.945000\n",
       "Zontibe81        2.676667\n",
       "Name: Price, Length: 576, dtype: float64"
      ]
     },
     "execution_count": 734,
     "metadata": {},
     "output_type": "execute_result"
    }
   ],
   "source": [
    "spender_av_p"
   ]
  },
  {
   "cell_type": "code",
   "execution_count": 735,
   "id": "dominant-browser",
   "metadata": {},
   "outputs": [],
   "source": [
    "spender_tot_p = spender_group[\"Price\"].sum()"
   ]
  },
  {
   "cell_type": "code",
   "execution_count": 736,
   "id": "armed-burner",
   "metadata": {},
   "outputs": [],
   "source": [
    "hm_frame = {\"Purchase Count\": spend_purch_count,\n",
    "            \"Average Purchase Price\": spender_av_p,\n",
    "            \"Total Purchase Value\": spender_tot_p}"
   ]
  },
  {
   "cell_type": "code",
   "execution_count": 737,
   "id": "comfortable-railway",
   "metadata": {},
   "outputs": [],
   "source": [
    "top_spenders_df = pd.DataFrame(hm_frame)"
   ]
  },
  {
   "cell_type": "code",
   "execution_count": 738,
   "id": "bottom-volunteer",
   "metadata": {},
   "outputs": [
    {
     "data": {
      "text/html": [
       "<div>\n",
       "<style scoped>\n",
       "    .dataframe tbody tr th:only-of-type {\n",
       "        vertical-align: middle;\n",
       "    }\n",
       "\n",
       "    .dataframe tbody tr th {\n",
       "        vertical-align: top;\n",
       "    }\n",
       "\n",
       "    .dataframe thead th {\n",
       "        text-align: right;\n",
       "    }\n",
       "</style>\n",
       "<table border=\"1\" class=\"dataframe\">\n",
       "  <thead>\n",
       "    <tr style=\"text-align: right;\">\n",
       "      <th></th>\n",
       "      <th>Purchase Count</th>\n",
       "      <th>Average Purchase Price</th>\n",
       "      <th>Total Purchase Value</th>\n",
       "    </tr>\n",
       "    <tr>\n",
       "      <th>SN</th>\n",
       "      <th></th>\n",
       "      <th></th>\n",
       "      <th></th>\n",
       "    </tr>\n",
       "  </thead>\n",
       "  <tbody>\n",
       "    <tr>\n",
       "      <th>Adairialis76</th>\n",
       "      <td>1</td>\n",
       "      <td>2.280000</td>\n",
       "      <td>2.28</td>\n",
       "    </tr>\n",
       "    <tr>\n",
       "      <th>Adastirin33</th>\n",
       "      <td>1</td>\n",
       "      <td>4.480000</td>\n",
       "      <td>4.48</td>\n",
       "    </tr>\n",
       "    <tr>\n",
       "      <th>Aeda94</th>\n",
       "      <td>1</td>\n",
       "      <td>4.910000</td>\n",
       "      <td>4.91</td>\n",
       "    </tr>\n",
       "    <tr>\n",
       "      <th>Aela59</th>\n",
       "      <td>1</td>\n",
       "      <td>4.320000</td>\n",
       "      <td>4.32</td>\n",
       "    </tr>\n",
       "    <tr>\n",
       "      <th>Aelaria33</th>\n",
       "      <td>1</td>\n",
       "      <td>1.790000</td>\n",
       "      <td>1.79</td>\n",
       "    </tr>\n",
       "    <tr>\n",
       "      <th>...</th>\n",
       "      <td>...</td>\n",
       "      <td>...</td>\n",
       "      <td>...</td>\n",
       "    </tr>\n",
       "    <tr>\n",
       "      <th>Yathecal82</th>\n",
       "      <td>3</td>\n",
       "      <td>2.073333</td>\n",
       "      <td>6.22</td>\n",
       "    </tr>\n",
       "    <tr>\n",
       "      <th>Yathedeu43</th>\n",
       "      <td>2</td>\n",
       "      <td>3.010000</td>\n",
       "      <td>6.02</td>\n",
       "    </tr>\n",
       "    <tr>\n",
       "      <th>Yoishirrala98</th>\n",
       "      <td>1</td>\n",
       "      <td>4.580000</td>\n",
       "      <td>4.58</td>\n",
       "    </tr>\n",
       "    <tr>\n",
       "      <th>Zhisrisu83</th>\n",
       "      <td>2</td>\n",
       "      <td>3.945000</td>\n",
       "      <td>7.89</td>\n",
       "    </tr>\n",
       "    <tr>\n",
       "      <th>Zontibe81</th>\n",
       "      <td>3</td>\n",
       "      <td>2.676667</td>\n",
       "      <td>8.03</td>\n",
       "    </tr>\n",
       "  </tbody>\n",
       "</table>\n",
       "<p>576 rows × 3 columns</p>\n",
       "</div>"
      ],
      "text/plain": [
       "               Purchase Count  Average Purchase Price  Total Purchase Value\n",
       "SN                                                                         \n",
       "Adairialis76                1                2.280000                  2.28\n",
       "Adastirin33                 1                4.480000                  4.48\n",
       "Aeda94                      1                4.910000                  4.91\n",
       "Aela59                      1                4.320000                  4.32\n",
       "Aelaria33                   1                1.790000                  1.79\n",
       "...                       ...                     ...                   ...\n",
       "Yathecal82                  3                2.073333                  6.22\n",
       "Yathedeu43                  2                3.010000                  6.02\n",
       "Yoishirrala98               1                4.580000                  4.58\n",
       "Zhisrisu83                  2                3.945000                  7.89\n",
       "Zontibe81                   3                2.676667                  8.03\n",
       "\n",
       "[576 rows x 3 columns]"
      ]
     },
     "execution_count": 738,
     "metadata": {},
     "output_type": "execute_result"
    }
   ],
   "source": [
    "top_spenders_df"
   ]
  },
  {
   "cell_type": "code",
   "execution_count": 739,
   "id": "median-status",
   "metadata": {},
   "outputs": [],
   "source": [
    "newTop = top_spenders_df.sort_values(by = [\"Total Purchase Value\"],ascending = False)"
   ]
  },
  {
   "cell_type": "code",
   "execution_count": 740,
   "id": "behind-acrylic",
   "metadata": {},
   "outputs": [],
   "source": [
    "top_spender_final = newTop.head(5)"
   ]
  },
  {
   "cell_type": "code",
   "execution_count": 741,
   "id": "abroad-cache",
   "metadata": {},
   "outputs": [
    {
     "data": {
      "text/html": [
       "<div>\n",
       "<style scoped>\n",
       "    .dataframe tbody tr th:only-of-type {\n",
       "        vertical-align: middle;\n",
       "    }\n",
       "\n",
       "    .dataframe tbody tr th {\n",
       "        vertical-align: top;\n",
       "    }\n",
       "\n",
       "    .dataframe thead th {\n",
       "        text-align: right;\n",
       "    }\n",
       "</style>\n",
       "<table border=\"1\" class=\"dataframe\">\n",
       "  <thead>\n",
       "    <tr style=\"text-align: right;\">\n",
       "      <th></th>\n",
       "      <th>Purchase Count</th>\n",
       "      <th>Average Purchase Price</th>\n",
       "      <th>Total Purchase Value</th>\n",
       "    </tr>\n",
       "    <tr>\n",
       "      <th>SN</th>\n",
       "      <th></th>\n",
       "      <th></th>\n",
       "      <th></th>\n",
       "    </tr>\n",
       "  </thead>\n",
       "  <tbody>\n",
       "    <tr>\n",
       "      <th>Lisosia93</th>\n",
       "      <td>5</td>\n",
       "      <td>3.792000</td>\n",
       "      <td>18.96</td>\n",
       "    </tr>\n",
       "    <tr>\n",
       "      <th>Idastidru52</th>\n",
       "      <td>4</td>\n",
       "      <td>3.862500</td>\n",
       "      <td>15.45</td>\n",
       "    </tr>\n",
       "    <tr>\n",
       "      <th>Chamjask73</th>\n",
       "      <td>3</td>\n",
       "      <td>4.610000</td>\n",
       "      <td>13.83</td>\n",
       "    </tr>\n",
       "    <tr>\n",
       "      <th>Iral74</th>\n",
       "      <td>4</td>\n",
       "      <td>3.405000</td>\n",
       "      <td>13.62</td>\n",
       "    </tr>\n",
       "    <tr>\n",
       "      <th>Iskadarya95</th>\n",
       "      <td>3</td>\n",
       "      <td>4.366667</td>\n",
       "      <td>13.10</td>\n",
       "    </tr>\n",
       "  </tbody>\n",
       "</table>\n",
       "</div>"
      ],
      "text/plain": [
       "             Purchase Count  Average Purchase Price  Total Purchase Value\n",
       "SN                                                                       \n",
       "Lisosia93                 5                3.792000                 18.96\n",
       "Idastidru52               4                3.862500                 15.45\n",
       "Chamjask73                3                4.610000                 13.83\n",
       "Iral74                    4                3.405000                 13.62\n",
       "Iskadarya95               3                4.366667                 13.10"
      ]
     },
     "execution_count": 741,
     "metadata": {},
     "output_type": "execute_result"
    }
   ],
   "source": [
    "top_spender_final"
   ]
  },
  {
   "cell_type": "code",
   "execution_count": 742,
   "id": "seasonal-anderson",
   "metadata": {},
   "outputs": [],
   "source": [
    "#most popular items"
   ]
  },
  {
   "cell_type": "code",
   "execution_count": 743,
   "id": "medium-leader",
   "metadata": {},
   "outputs": [],
   "source": [
    "itemID = purchase_df[\"Item ID\"]"
   ]
  },
  {
   "cell_type": "code",
   "execution_count": 744,
   "id": "structured-acceptance",
   "metadata": {},
   "outputs": [],
   "source": [
    "itemName = purchase_df[\"Item Name\"]"
   ]
  },
  {
   "cell_type": "code",
   "execution_count": 745,
   "id": "unusual-latter",
   "metadata": {},
   "outputs": [],
   "source": [
    "itemPrice = purchase_df[\"Price\"]"
   ]
  },
  {
   "cell_type": "code",
   "execution_count": 746,
   "id": "mental-palestine",
   "metadata": {},
   "outputs": [],
   "source": [
    "pop_frame = {\"Item ID\": itemID,\n",
    "             \"Item Name\": itemName,\n",
    "             \"Item Price\": itemPrice}"
   ]
  },
  {
   "cell_type": "code",
   "execution_count": 747,
   "id": "focal-entry",
   "metadata": {},
   "outputs": [],
   "source": [
    "pop_df = pd.DataFrame(pop_frame)"
   ]
  },
  {
   "cell_type": "code",
   "execution_count": 748,
   "id": "moderate-welsh",
   "metadata": {},
   "outputs": [],
   "source": [
    "pop_groups = pop_df.groupby([\"Item ID\",\"Item Name\"])"
   ]
  },
  {
   "cell_type": "code",
   "execution_count": 749,
   "id": "exclusive-evanescence",
   "metadata": {},
   "outputs": [],
   "source": [
    "purchCount = pop_groups[\"Item ID\"].count()"
   ]
  },
  {
   "cell_type": "code",
   "execution_count": 750,
   "id": "functioning-bride",
   "metadata": {},
   "outputs": [],
   "source": [
    "aveItPrice = pop_groups[\"Item Price\"].mean()"
   ]
  },
  {
   "cell_type": "code",
   "execution_count": 751,
   "id": "legendary-shoot",
   "metadata": {},
   "outputs": [],
   "source": [
    "totPurVal = pop_groups[\"Item Price\"].sum()"
   ]
  },
  {
   "cell_type": "code",
   "execution_count": 752,
   "id": "sublime-intelligence",
   "metadata": {},
   "outputs": [],
   "source": [
    "pop_sum_frame = {\"Purchase Count\": purchCount,\n",
    "                 \"Item Price\": aveItPrice,\n",
    "                 \"Total Purchase Value\": totPurVal}"
   ]
  },
  {
   "cell_type": "code",
   "execution_count": 753,
   "id": "architectural-mistake",
   "metadata": {},
   "outputs": [],
   "source": [
    "pop_sum_df = pd.DataFrame(pop_sum_frame)"
   ]
  },
  {
   "cell_type": "code",
   "execution_count": 754,
   "id": "opened-maximum",
   "metadata": {},
   "outputs": [],
   "source": [
    "pop_sum=pop_sum_df.sort_values(by = [\"Purchase Count\"],ascending = False)"
   ]
  },
  {
   "cell_type": "code",
   "execution_count": 755,
   "id": "egyptian-phrase",
   "metadata": {},
   "outputs": [
    {
     "data": {
      "text/html": [
       "<div>\n",
       "<style scoped>\n",
       "    .dataframe tbody tr th:only-of-type {\n",
       "        vertical-align: middle;\n",
       "    }\n",
       "\n",
       "    .dataframe tbody tr th {\n",
       "        vertical-align: top;\n",
       "    }\n",
       "\n",
       "    .dataframe thead th {\n",
       "        text-align: right;\n",
       "    }\n",
       "</style>\n",
       "<table border=\"1\" class=\"dataframe\">\n",
       "  <thead>\n",
       "    <tr style=\"text-align: right;\">\n",
       "      <th></th>\n",
       "      <th></th>\n",
       "      <th>Purchase Count</th>\n",
       "      <th>Item Price</th>\n",
       "      <th>Total Purchase Value</th>\n",
       "    </tr>\n",
       "    <tr>\n",
       "      <th>Item ID</th>\n",
       "      <th>Item Name</th>\n",
       "      <th></th>\n",
       "      <th></th>\n",
       "      <th></th>\n",
       "    </tr>\n",
       "  </thead>\n",
       "  <tbody>\n",
       "    <tr>\n",
       "      <th>92</th>\n",
       "      <th>Final Critic</th>\n",
       "      <td>13</td>\n",
       "      <td>4.614615</td>\n",
       "      <td>59.99</td>\n",
       "    </tr>\n",
       "    <tr>\n",
       "      <th>178</th>\n",
       "      <th>Oathbreaker, Last Hope of the Breaking Storm</th>\n",
       "      <td>12</td>\n",
       "      <td>4.230000</td>\n",
       "      <td>50.76</td>\n",
       "    </tr>\n",
       "    <tr>\n",
       "      <th>145</th>\n",
       "      <th>Fiery Glass Crusader</th>\n",
       "      <td>9</td>\n",
       "      <td>4.580000</td>\n",
       "      <td>41.22</td>\n",
       "    </tr>\n",
       "    <tr>\n",
       "      <th>132</th>\n",
       "      <th>Persuasion</th>\n",
       "      <td>9</td>\n",
       "      <td>3.221111</td>\n",
       "      <td>28.99</td>\n",
       "    </tr>\n",
       "    <tr>\n",
       "      <th>108</th>\n",
       "      <th>Extraction, Quickblade Of Trembling Hands</th>\n",
       "      <td>9</td>\n",
       "      <td>3.530000</td>\n",
       "      <td>31.77</td>\n",
       "    </tr>\n",
       "  </tbody>\n",
       "</table>\n",
       "</div>"
      ],
      "text/plain": [
       "                                                      Purchase Count  \\\n",
       "Item ID Item Name                                                      \n",
       "92      Final Critic                                              13   \n",
       "178     Oathbreaker, Last Hope of the Breaking Storm              12   \n",
       "145     Fiery Glass Crusader                                       9   \n",
       "132     Persuasion                                                 9   \n",
       "108     Extraction, Quickblade Of Trembling Hands                  9   \n",
       "\n",
       "                                                      Item Price  \\\n",
       "Item ID Item Name                                                  \n",
       "92      Final Critic                                    4.614615   \n",
       "178     Oathbreaker, Last Hope of the Breaking Storm    4.230000   \n",
       "145     Fiery Glass Crusader                            4.580000   \n",
       "132     Persuasion                                      3.221111   \n",
       "108     Extraction, Quickblade Of Trembling Hands       3.530000   \n",
       "\n",
       "                                                      Total Purchase Value  \n",
       "Item ID Item Name                                                           \n",
       "92      Final Critic                                                 59.99  \n",
       "178     Oathbreaker, Last Hope of the Breaking Storm                 50.76  \n",
       "145     Fiery Glass Crusader                                         41.22  \n",
       "132     Persuasion                                                   28.99  \n",
       "108     Extraction, Quickblade Of Trembling Hands                    31.77  "
      ]
     },
     "execution_count": 755,
     "metadata": {},
     "output_type": "execute_result"
    }
   ],
   "source": [
    "pop_sum.head()"
   ]
  },
  {
   "cell_type": "code",
   "execution_count": 756,
   "id": "supposed-forum",
   "metadata": {},
   "outputs": [],
   "source": [
    "profItem_df = pop_sum_df.sort_values(by = [\"Total Purchase Value\"], ascending = False)"
   ]
  },
  {
   "cell_type": "code",
   "execution_count": 757,
   "id": "opposed-warrant",
   "metadata": {},
   "outputs": [
    {
     "data": {
      "text/html": [
       "<div>\n",
       "<style scoped>\n",
       "    .dataframe tbody tr th:only-of-type {\n",
       "        vertical-align: middle;\n",
       "    }\n",
       "\n",
       "    .dataframe tbody tr th {\n",
       "        vertical-align: top;\n",
       "    }\n",
       "\n",
       "    .dataframe thead th {\n",
       "        text-align: right;\n",
       "    }\n",
       "</style>\n",
       "<table border=\"1\" class=\"dataframe\">\n",
       "  <thead>\n",
       "    <tr style=\"text-align: right;\">\n",
       "      <th></th>\n",
       "      <th></th>\n",
       "      <th>Purchase Count</th>\n",
       "      <th>Item Price</th>\n",
       "      <th>Total Purchase Value</th>\n",
       "    </tr>\n",
       "    <tr>\n",
       "      <th>Item ID</th>\n",
       "      <th>Item Name</th>\n",
       "      <th></th>\n",
       "      <th></th>\n",
       "      <th></th>\n",
       "    </tr>\n",
       "  </thead>\n",
       "  <tbody>\n",
       "    <tr>\n",
       "      <th>92</th>\n",
       "      <th>Final Critic</th>\n",
       "      <td>13</td>\n",
       "      <td>4.614615</td>\n",
       "      <td>59.99</td>\n",
       "    </tr>\n",
       "    <tr>\n",
       "      <th>178</th>\n",
       "      <th>Oathbreaker, Last Hope of the Breaking Storm</th>\n",
       "      <td>12</td>\n",
       "      <td>4.230000</td>\n",
       "      <td>50.76</td>\n",
       "    </tr>\n",
       "    <tr>\n",
       "      <th>82</th>\n",
       "      <th>Nirvana</th>\n",
       "      <td>9</td>\n",
       "      <td>4.900000</td>\n",
       "      <td>44.10</td>\n",
       "    </tr>\n",
       "    <tr>\n",
       "      <th>145</th>\n",
       "      <th>Fiery Glass Crusader</th>\n",
       "      <td>9</td>\n",
       "      <td>4.580000</td>\n",
       "      <td>41.22</td>\n",
       "    </tr>\n",
       "    <tr>\n",
       "      <th>103</th>\n",
       "      <th>Singed Scalpel</th>\n",
       "      <td>8</td>\n",
       "      <td>4.350000</td>\n",
       "      <td>34.80</td>\n",
       "    </tr>\n",
       "  </tbody>\n",
       "</table>\n",
       "</div>"
      ],
      "text/plain": [
       "                                                      Purchase Count  \\\n",
       "Item ID Item Name                                                      \n",
       "92      Final Critic                                              13   \n",
       "178     Oathbreaker, Last Hope of the Breaking Storm              12   \n",
       "82      Nirvana                                                    9   \n",
       "145     Fiery Glass Crusader                                       9   \n",
       "103     Singed Scalpel                                             8   \n",
       "\n",
       "                                                      Item Price  \\\n",
       "Item ID Item Name                                                  \n",
       "92      Final Critic                                    4.614615   \n",
       "178     Oathbreaker, Last Hope of the Breaking Storm    4.230000   \n",
       "82      Nirvana                                         4.900000   \n",
       "145     Fiery Glass Crusader                            4.580000   \n",
       "103     Singed Scalpel                                  4.350000   \n",
       "\n",
       "                                                      Total Purchase Value  \n",
       "Item ID Item Name                                                           \n",
       "92      Final Critic                                                 59.99  \n",
       "178     Oathbreaker, Last Hope of the Breaking Storm                 50.76  \n",
       "82      Nirvana                                                      44.10  \n",
       "145     Fiery Glass Crusader                                         41.22  \n",
       "103     Singed Scalpel                                               34.80  "
      ]
     },
     "execution_count": 757,
     "metadata": {},
     "output_type": "execute_result"
    }
   ],
   "source": [
    "profItem_df.head()"
   ]
  },
  {
   "cell_type": "code",
   "execution_count": null,
   "id": "irish-alabama",
   "metadata": {},
   "outputs": [],
   "source": []
  }
 ],
 "metadata": {
  "kernelspec": {
   "display_name": "Python [conda env:PythonData] *",
   "language": "python",
   "name": "conda-env-PythonData-py"
  },
  "language_info": {
   "codemirror_mode": {
    "name": "ipython",
    "version": 3
   },
   "file_extension": ".py",
   "mimetype": "text/x-python",
   "name": "python",
   "nbconvert_exporter": "python",
   "pygments_lexer": "ipython3",
   "version": "3.6.10"
  }
 },
 "nbformat": 4,
 "nbformat_minor": 5
}
